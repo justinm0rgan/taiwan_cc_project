{
 "cells": [
  {
   "cell_type": "markdown",
   "metadata": {},
   "source": [
    "## Holdout Notebook"
   ]
  },
  {
   "cell_type": "code",
   "execution_count": 30,
   "metadata": {},
   "outputs": [],
   "source": [
    "# import libraries\n",
    "import pickle\n",
    "import pandas as pd\n",
    "import numpy as np\n",
    "import warnings\n",
    "warnings.filterwarnings('ignore')"
   ]
  },
  {
   "cell_type": "code",
   "execution_count": 31,
   "metadata": {},
   "outputs": [],
   "source": [
    "# import data\n",
    "df = pd.read_csv('./data/holdout_data.csv' , index_col=0)"
   ]
  },
  {
   "cell_type": "code",
   "execution_count": 32,
   "metadata": {},
   "outputs": [],
   "source": [
    "# rename column headers\n",
    "rename_dict = {'X1':'limit_bal', 'X2':'sex', 'X3':'education', 'X4':'marriage', 'X5':'age', 'X6':'pay_0', \n",
    "            'X7':'pay_2','X8':'pay_3', 'X9':'pay_4', 'X10':'pay_5', 'X11':'pay_6', 'X12':'bill_amt1', \n",
    "            'X13':'bill_amt2','X14':'bill_amt3', 'X15':'bill_amt4', 'X16':'bill_amt5', 'X17':'bill_amt6', \n",
    "            'X18':'pay_amt1','X19':'pay_amt2', 'X20':'pay_amt3', 'X21':'pay_amt4', 'X22':'pay_amt5', \n",
    "            'X23':'pay_amt6'}\n",
    "\n",
    "df = df.rename(columns=rename_dict)"
   ]
  },
  {
   "cell_type": "code",
   "execution_count": 33,
   "metadata": {},
   "outputs": [],
   "source": [
    "# create list of columns that will be converted to numeric\n",
    "cols = ['limit_bal','age','bill_amt1', 'bill_amt2', 'bill_amt3',\n",
    "        'bill_amt4', 'bill_amt5', 'bill_amt6', 'pay_amt1', 'pay_amt2',\n",
    "        'pay_amt3', 'pay_amt4', 'pay_amt5', 'pay_amt6']\n",
    "\n",
    "# use .apply method to convert cols to numeric\n",
    "df[cols] = df[cols].apply(pd.to_numeric, errors='coerce')"
   ]
  },
  {
   "cell_type": "code",
   "execution_count": 34,
   "metadata": {},
   "outputs": [],
   "source": [
    "# list columns that have large variances\n",
    "outlier_cols = ['limit_bal','bill_amt1', 'bill_amt2', 'bill_amt3',\n",
    "        'bill_amt4', 'bill_amt5', 'bill_amt6', 'pay_amt1', 'pay_amt2',\n",
    "        'pay_amt3', 'pay_amt4', 'pay_amt5', 'pay_amt6']\n",
    "\n",
    "# loop over columns and anything above or under 6 std coerce them to 6 std respectively\n",
    "for feat in outlier_cols:\n",
    "    feat_mean = df[feat].mean()\n",
    "    feat_std = df[feat].std()\n",
    "    above_6std = feat_mean + 6 * feat_std\n",
    "    below_6std = feat_mean - 6 * feat_std\n",
    "    df[feat] = \\\n",
    "        np.where(df[feat] > above_6std, feat_mean + 6 * feat_std,\n",
    "                np.where(df[feat] < below_6std, feat_mean - 6 * feat_std, df[feat]))"
   ]
  },
  {
   "cell_type": "code",
   "execution_count": 35,
   "metadata": {},
   "outputs": [],
   "source": [
    "# convert objects to category dtype\n",
    "objcat = ['sex', 'education', 'marriage', 'pay_0', 'pay_2', 'pay_3', 'pay_4',\n",
    "       'pay_5', 'pay_6']\n",
    "\n",
    "for colname in objcat:\n",
    "    df[colname] = df[colname].astype('category')"
   ]
  },
  {
   "cell_type": "code",
   "execution_count": 36,
   "metadata": {},
   "outputs": [],
   "source": [
    "# set options to display floats with two decimal place\n",
    "pd.set_option('display.float_format', '{:.2f}'.format)"
   ]
  },
  {
   "cell_type": "code",
   "execution_count": 37,
   "metadata": {},
   "outputs": [],
   "source": [
    "# read in income demographical dataset\n",
    "df2 = pd.read_excel('./data/income_sex_age_edu.xls', \n",
    "                    sheet_name='125,126', \n",
    "                    usecols='C,H', \n",
    "                    header=7, \n",
    "                    skiprows=2, \n",
    "                    nrows=20)"
   ]
  },
  {
   "cell_type": "code",
   "execution_count": 38,
   "metadata": {},
   "outputs": [],
   "source": [
    "# create new df without na rows\n",
    "df2 = df2[df2['income'].notna()]"
   ]
  },
  {
   "cell_type": "code",
   "execution_count": 39,
   "metadata": {},
   "outputs": [],
   "source": [
    "# transpose income df\n",
    "df2 = df2.T"
   ]
  },
  {
   "cell_type": "code",
   "execution_count": 40,
   "metadata": {},
   "outputs": [],
   "source": [
    "# assign variable row as header\n",
    "df2.columns = df2.iloc[1]"
   ]
  },
  {
   "cell_type": "code",
   "execution_count": 41,
   "metadata": {},
   "outputs": [],
   "source": [
    "# delete row 1\n",
    "df2.drop(df2.index[1], axis=0, inplace=True)"
   ]
  },
  {
   "cell_type": "code",
   "execution_count": 42,
   "metadata": {},
   "outputs": [],
   "source": [
    "# strip leading or trailing spaces in column headers\n",
    "df2.columns = df2.columns.str.strip()"
   ]
  },
  {
   "cell_type": "code",
   "execution_count": 43,
   "metadata": {},
   "outputs": [],
   "source": [
    "# rename columns\n",
    "df2.rename(columns={'All income recipients': 'avg_income_all', 'Male':'male', 'Female':'female', 'Under 30 years':'under_30',\n",
    "       '30 ～ 34 years':'30_34yo', '35 ～ 39 years':'35_39yo', '40 ～ 44 years':'40_44yo','45 ～ 54 years':'45_54yo', \n",
    "       '55 ～ 64 years':'55_64yo', '65 years and over':'65plus','Primary school and below':'prim_school_below', \n",
    "       'Junior middle (vocational)':'jun_mid_voc','High school':'hs', 'Senior vocational school':'sen_voc', \n",
    "       'Junior college':'jun_coll','College and above':'coll_above'}, inplace=True)"
   ]
  },
  {
   "cell_type": "code",
   "execution_count": 44,
   "metadata": {},
   "outputs": [],
   "source": [
    "# merge avg income sex\n",
    "df['avg_income_sex'] = \\\n",
    "    np.where(df['sex'] == '1', df2['male'].values, \n",
    "             np.where(df['sex'] == '2', int(df2['female'].values), df['sex']))"
   ]
  },
  {
   "cell_type": "code",
   "execution_count": 45,
   "metadata": {},
   "outputs": [],
   "source": [
    "# merge avg income age\n",
    "age_cols = ['under_30', '30_34yo', '35_39yo','40_44yo', '45_54yo', '55_64yo', '65plus']\n",
    "\n",
    "# np.select conditions\n",
    "age_conditions = [\n",
    "    (df['age'] < 30),\n",
    "    (df['age'] >= 30) & (df['age'] <= 34),\n",
    "    (df['age'] >= 35) & (df['age'] <= 39),\n",
    "    (df['age'] >= 40) & (df['age'] <= 44),\n",
    "    (df['age'] >= 45) & (df['age'] <= 54),\n",
    "    (df['age'] >= 55) & (df['age'] <= 64),\n",
    "    (df['age'] >= 65)\n",
    "]\n",
    "\n",
    "#np.select values\n",
    "age_values = [\n",
    "    df2['under_30'].values, \n",
    "    df2['30_34yo'].values, \n",
    "    df2['35_39yo'].values, \n",
    "    df2['40_44yo'].values, \n",
    "    df2['45_54yo'].values, \n",
    "    df2['55_64yo'].values, \n",
    "    df2['65plus'].values\n",
    "]\n",
    "\n",
    "# loop over age_cols to populate new column with np.select\n",
    "for age in age_cols:\n",
    "    df['avg_income_age'] = np.select(age_conditions, age_values)"
   ]
  },
  {
   "cell_type": "code",
   "execution_count": 46,
   "metadata": {},
   "outputs": [],
   "source": [
    "# merge education columns \n",
    "edu_cols = ['prim_school_below','jun_mid_voc', 'hs', 'sen_voc', 'jun_coll', 'coll_above']\n",
    "\n",
    "# conditions\n",
    "edu_conditions =[\n",
    "    (df['education'] == '0'),\n",
    "    (df['education'] == '1'),\n",
    "    (df['education'] == '2'),\n",
    "    (df['education'] == '3'),\n",
    "    (df['education'] == '4'),\n",
    "    (df['education'] == '5'),\n",
    "    (df['education'] == '6')\n",
    "]\n",
    "\n",
    "# values\n",
    "edu_values = [\n",
    "    df2[['sen_voc', 'jun_mid_voc', 'prim_school_below']].values.mean(), \n",
    "    df2['coll_above'].values,\n",
    "    df2['jun_coll'].values,\n",
    "    df2['hs'].values,\n",
    "    df2[['sen_voc', 'jun_mid_voc', 'prim_school_below']].values.mean(),\n",
    "    df2[['sen_voc', 'jun_mid_voc', 'prim_school_below']].values.mean(),\n",
    "    df2[['sen_voc', 'jun_mid_voc', 'prim_school_below']].values.mean() \n",
    "]\n",
    "    \n",
    "for edu in edu_cols:\n",
    "    df['avg_income_edu'] = np.select(edu_conditions, edu_values)"
   ]
  },
  {
   "cell_type": "code",
   "execution_count": 47,
   "metadata": {},
   "outputs": [],
   "source": [
    "# create bill sum column\n",
    "\n",
    "df['bill_sum'] = df[['bill_amt1', 'bill_amt2','bill_amt3', 'bill_amt4', 'bill_amt5', 'bill_amt6']].sum(axis=1)"
   ]
  },
  {
   "cell_type": "code",
   "execution_count": 48,
   "metadata": {},
   "outputs": [],
   "source": [
    "# create pay sum column\n",
    "\n",
    "df['pay_sum'] = df[['pay_amt1','pay_amt2', 'pay_amt3', 'pay_amt4', 'pay_amt5', 'pay_amt6']].sum(axis=1)"
   ]
  },
  {
   "cell_type": "code",
   "execution_count": 49,
   "metadata": {},
   "outputs": [],
   "source": [
    "# subtract pay sum vs bill sum\n",
    "\n",
    "df['bill_diff_pay'] = df['bill_sum'] - df['pay_sum']"
   ]
  },
  {
   "cell_type": "code",
   "execution_count": 50,
   "metadata": {},
   "outputs": [],
   "source": [
    "# create a column that takes bill sum minus pay sum and subtracts from limit to create an available credit col\n",
    "\n",
    "df['bill_diff_pay_min_limit'] = df['limit_bal'] - df['bill_diff_pay']"
   ]
  },
  {
   "cell_type": "code",
   "execution_count": 51,
   "metadata": {},
   "outputs": [],
   "source": [
    "# create a general avg income column by avg together all the other avg income cols\n",
    "\n",
    "df['avg_income'] = df[['avg_income_sex', 'avg_income_age','avg_income_edu']].mean(axis=1)"
   ]
  },
  {
   "cell_type": "code",
   "execution_count": 52,
   "metadata": {},
   "outputs": [],
   "source": [
    "# create a debt to income ratio column\n",
    "# divide avg income by 2 because its yearly, and sum of bills is for 6 month period\n",
    "\n",
    "df['debt_to_income'] = df['bill_sum'] / (df['avg_income'] / 2)"
   ]
  },
  {
   "cell_type": "code",
   "execution_count": 53,
   "metadata": {},
   "outputs": [],
   "source": [
    "# create debt to income ratio over 75% percentile\n",
    "\n",
    "df['dti_75'] = np.where(df['debt_to_income'] > 1.29, 1, 0)"
   ]
  },
  {
   "cell_type": "code",
   "execution_count": 54,
   "metadata": {},
   "outputs": [],
   "source": [
    "# create column that is a bool for married with university degree\n",
    "\n",
    "df['married_univ'] = np.where((df['marriage'] == '1') & (df['education'] == '2'),1,0)"
   ]
  },
  {
   "cell_type": "code",
   "execution_count": 55,
   "metadata": {},
   "outputs": [],
   "source": [
    "cat_list = ['sex', 'education', 'marriage', 'pay_0', 'pay_2', 'pay_3', 'pay_4','pay_5', 'pay_6']\n",
    "\n",
    "dummies = pd.get_dummies(df[cat_list], prefix=cat_list, drop_first=True)\n",
    "\n",
    "df = df.drop(cat_list, axis=1)\n",
    "\n",
    "df = pd.concat([df, dummies], axis=1)"
   ]
  },
  {
   "cell_type": "code",
   "execution_count": 62,
   "metadata": {},
   "outputs": [
    {
     "name": "stdout",
     "output_type": "stream",
     "text": [
      "<class 'pandas.core.frame.DataFrame'>\n",
      "Int64Index: 7501 entries, 5501 to 10111\n",
      "Data columns (total 86 columns):\n",
      "limit_bal                  7501 non-null float64\n",
      "age                        7501 non-null int64\n",
      "bill_amt1                  7501 non-null float64\n",
      "bill_amt2                  7501 non-null float64\n",
      "bill_amt3                  7501 non-null float64\n",
      "bill_amt4                  7501 non-null float64\n",
      "bill_amt5                  7501 non-null float64\n",
      "bill_amt6                  7501 non-null float64\n",
      "pay_amt1                   7501 non-null float64\n",
      "pay_amt2                   7501 non-null float64\n",
      "pay_amt3                   7501 non-null float64\n",
      "pay_amt4                   7501 non-null float64\n",
      "pay_amt5                   7501 non-null float64\n",
      "pay_amt6                   7501 non-null float64\n",
      "avg_income_sex             7501 non-null object\n",
      "avg_income_age             7501 non-null object\n",
      "avg_income_edu             7501 non-null object\n",
      "bill_sum                   7501 non-null float64\n",
      "pay_sum                    7501 non-null float64\n",
      "bill_diff_pay              7501 non-null float64\n",
      "bill_diff_pay_min_limit    7501 non-null float64\n",
      "avg_income                 7501 non-null float64\n",
      "debt_to_income             7501 non-null float64\n",
      "dti_75                     7501 non-null int64\n",
      "married_univ               7501 non-null int64\n",
      "sex_2                      7501 non-null uint8\n",
      "education_1                7501 non-null uint8\n",
      "education_2                7501 non-null uint8\n",
      "education_3                7501 non-null uint8\n",
      "education_4                7501 non-null uint8\n",
      "education_5                7501 non-null uint8\n",
      "education_6                7501 non-null uint8\n",
      "marriage_1                 7501 non-null uint8\n",
      "marriage_2                 7501 non-null uint8\n",
      "marriage_3                 7501 non-null uint8\n",
      "pay_0_-1                   7501 non-null uint8\n",
      "pay_0_0                    7501 non-null uint8\n",
      "pay_0_1                    7501 non-null uint8\n",
      "pay_0_2                    7501 non-null uint8\n",
      "pay_0_3                    7501 non-null uint8\n",
      "pay_0_4                    7501 non-null uint8\n",
      "pay_0_5                    7501 non-null uint8\n",
      "pay_0_6                    7501 non-null uint8\n",
      "pay_0_7                    7501 non-null uint8\n",
      "pay_0_8                    7501 non-null uint8\n",
      "pay_2_-1                   7501 non-null uint8\n",
      "pay_2_0                    7501 non-null uint8\n",
      "pay_2_1                    7501 non-null uint8\n",
      "pay_2_2                    7501 non-null uint8\n",
      "pay_2_3                    7501 non-null uint8\n",
      "pay_2_4                    7501 non-null uint8\n",
      "pay_2_5                    7501 non-null uint8\n",
      "pay_2_6                    7501 non-null uint8\n",
      "pay_2_7                    7501 non-null uint8\n",
      "pay_3_-1                   7501 non-null uint8\n",
      "pay_3_0                    7501 non-null uint8\n",
      "pay_3_2                    7501 non-null uint8\n",
      "pay_3_3                    7501 non-null uint8\n",
      "pay_3_4                    7501 non-null uint8\n",
      "pay_3_5                    7501 non-null uint8\n",
      "pay_3_6                    7501 non-null uint8\n",
      "pay_3_7                    7501 non-null uint8\n",
      "pay_3_8                    7501 non-null uint8\n",
      "pay_4_-1                   7501 non-null uint8\n",
      "pay_4_0                    7501 non-null uint8\n",
      "pay_4_2                    7501 non-null uint8\n",
      "pay_4_3                    7501 non-null uint8\n",
      "pay_4_4                    7501 non-null uint8\n",
      "pay_4_5                    7501 non-null uint8\n",
      "pay_4_7                    7501 non-null uint8\n",
      "pay_5_-1                   7501 non-null uint8\n",
      "pay_5_0                    7501 non-null uint8\n",
      "pay_5_2                    7501 non-null uint8\n",
      "pay_5_3                    7501 non-null uint8\n",
      "pay_5_4                    7501 non-null uint8\n",
      "pay_5_5                    7501 non-null uint8\n",
      "pay_5_6                    7501 non-null uint8\n",
      "pay_5_7                    7501 non-null uint8\n",
      "pay_6_-1                   7501 non-null uint8\n",
      "pay_6_0                    7501 non-null uint8\n",
      "pay_6_2                    7501 non-null uint8\n",
      "pay_6_3                    7501 non-null uint8\n",
      "pay_6_4                    7501 non-null uint8\n",
      "pay_6_5                    7501 non-null uint8\n",
      "pay_6_6                    7501 non-null uint8\n",
      "pay_6_7                    7501 non-null uint8\n",
      "dtypes: float64(19), int64(3), object(3), uint8(61)\n",
      "memory usage: 1.9+ MB\n"
     ]
    }
   ],
   "source": [
    "pd.options.display.max_columns = 86\n",
    "df.info()"
   ]
  },
  {
   "cell_type": "code",
   "execution_count": 56,
   "metadata": {},
   "outputs": [],
   "source": [
    "# import final model\n",
    "vcf = pickle.load(open('model.pickle','rb'))"
   ]
  },
  {
   "cell_type": "code",
   "execution_count": 57,
   "metadata": {},
   "outputs": [
    {
     "ename": "ValueError",
     "evalue": "X has 86 features per sample; expecting 93",
     "output_type": "error",
     "traceback": [
      "\u001b[0;31m---------------------------------------------------------------------------\u001b[0m",
      "\u001b[0;31mValueError\u001b[0m                                Traceback (most recent call last)",
      "\u001b[0;32m<ipython-input-57-c20635b1e6a7>\u001b[0m in \u001b[0;36m<module>\u001b[0;34m()\u001b[0m\n\u001b[0;32m----> 1\u001b[0;31m \u001b[0mfinal_answers\u001b[0m \u001b[0;34m=\u001b[0m \u001b[0mvcf\u001b[0m\u001b[0;34m.\u001b[0m\u001b[0mpredict\u001b[0m\u001b[0;34m(\u001b[0m\u001b[0mdf\u001b[0m\u001b[0;34m)\u001b[0m\u001b[0;34m\u001b[0m\u001b[0;34m\u001b[0m\u001b[0m\n\u001b[0m",
      "\u001b[0;32m/opt/anaconda3/envs/learn-env/lib/python3.6/site-packages/sklearn/ensemble/_voting.py\u001b[0m in \u001b[0;36mpredict\u001b[0;34m(self, X)\u001b[0m\n\u001b[1;32m    283\u001b[0m \u001b[0;34m\u001b[0m\u001b[0m\n\u001b[1;32m    284\u001b[0m         \u001b[0;32melse\u001b[0m\u001b[0;34m:\u001b[0m  \u001b[0;31m# 'hard' voting\u001b[0m\u001b[0;34m\u001b[0m\u001b[0;34m\u001b[0m\u001b[0m\n\u001b[0;32m--> 285\u001b[0;31m             \u001b[0mpredictions\u001b[0m \u001b[0;34m=\u001b[0m \u001b[0mself\u001b[0m\u001b[0;34m.\u001b[0m\u001b[0m_predict\u001b[0m\u001b[0;34m(\u001b[0m\u001b[0mX\u001b[0m\u001b[0;34m)\u001b[0m\u001b[0;34m\u001b[0m\u001b[0;34m\u001b[0m\u001b[0m\n\u001b[0m\u001b[1;32m    286\u001b[0m             maj = np.apply_along_axis(\n\u001b[1;32m    287\u001b[0m                 lambda x: np.argmax(\n",
      "\u001b[0;32m/opt/anaconda3/envs/learn-env/lib/python3.6/site-packages/sklearn/ensemble/_voting.py\u001b[0m in \u001b[0;36m_predict\u001b[0;34m(self, X)\u001b[0m\n\u001b[1;32m     58\u001b[0m     \u001b[0;32mdef\u001b[0m \u001b[0m_predict\u001b[0m\u001b[0;34m(\u001b[0m\u001b[0mself\u001b[0m\u001b[0;34m,\u001b[0m \u001b[0mX\u001b[0m\u001b[0;34m)\u001b[0m\u001b[0;34m:\u001b[0m\u001b[0;34m\u001b[0m\u001b[0;34m\u001b[0m\u001b[0m\n\u001b[1;32m     59\u001b[0m         \u001b[0;34m\"\"\"Collect results from clf.predict calls.\"\"\"\u001b[0m\u001b[0;34m\u001b[0m\u001b[0;34m\u001b[0m\u001b[0m\n\u001b[0;32m---> 60\u001b[0;31m         \u001b[0;32mreturn\u001b[0m \u001b[0mnp\u001b[0m\u001b[0;34m.\u001b[0m\u001b[0masarray\u001b[0m\u001b[0;34m(\u001b[0m\u001b[0;34m[\u001b[0m\u001b[0mest\u001b[0m\u001b[0;34m.\u001b[0m\u001b[0mpredict\u001b[0m\u001b[0;34m(\u001b[0m\u001b[0mX\u001b[0m\u001b[0;34m)\u001b[0m \u001b[0;32mfor\u001b[0m \u001b[0mest\u001b[0m \u001b[0;32min\u001b[0m \u001b[0mself\u001b[0m\u001b[0;34m.\u001b[0m\u001b[0mestimators_\u001b[0m\u001b[0;34m]\u001b[0m\u001b[0;34m)\u001b[0m\u001b[0;34m.\u001b[0m\u001b[0mT\u001b[0m\u001b[0;34m\u001b[0m\u001b[0;34m\u001b[0m\u001b[0m\n\u001b[0m\u001b[1;32m     61\u001b[0m \u001b[0;34m\u001b[0m\u001b[0m\n\u001b[1;32m     62\u001b[0m     \u001b[0;34m@\u001b[0m\u001b[0mabstractmethod\u001b[0m\u001b[0;34m\u001b[0m\u001b[0;34m\u001b[0m\u001b[0m\n",
      "\u001b[0;32m/opt/anaconda3/envs/learn-env/lib/python3.6/site-packages/sklearn/ensemble/_voting.py\u001b[0m in \u001b[0;36m<listcomp>\u001b[0;34m(.0)\u001b[0m\n\u001b[1;32m     58\u001b[0m     \u001b[0;32mdef\u001b[0m \u001b[0m_predict\u001b[0m\u001b[0;34m(\u001b[0m\u001b[0mself\u001b[0m\u001b[0;34m,\u001b[0m \u001b[0mX\u001b[0m\u001b[0;34m)\u001b[0m\u001b[0;34m:\u001b[0m\u001b[0;34m\u001b[0m\u001b[0;34m\u001b[0m\u001b[0m\n\u001b[1;32m     59\u001b[0m         \u001b[0;34m\"\"\"Collect results from clf.predict calls.\"\"\"\u001b[0m\u001b[0;34m\u001b[0m\u001b[0;34m\u001b[0m\u001b[0m\n\u001b[0;32m---> 60\u001b[0;31m         \u001b[0;32mreturn\u001b[0m \u001b[0mnp\u001b[0m\u001b[0;34m.\u001b[0m\u001b[0masarray\u001b[0m\u001b[0;34m(\u001b[0m\u001b[0;34m[\u001b[0m\u001b[0mest\u001b[0m\u001b[0;34m.\u001b[0m\u001b[0mpredict\u001b[0m\u001b[0;34m(\u001b[0m\u001b[0mX\u001b[0m\u001b[0;34m)\u001b[0m \u001b[0;32mfor\u001b[0m \u001b[0mest\u001b[0m \u001b[0;32min\u001b[0m \u001b[0mself\u001b[0m\u001b[0;34m.\u001b[0m\u001b[0mestimators_\u001b[0m\u001b[0;34m]\u001b[0m\u001b[0;34m)\u001b[0m\u001b[0;34m.\u001b[0m\u001b[0mT\u001b[0m\u001b[0;34m\u001b[0m\u001b[0;34m\u001b[0m\u001b[0m\n\u001b[0m\u001b[1;32m     61\u001b[0m \u001b[0;34m\u001b[0m\u001b[0m\n\u001b[1;32m     62\u001b[0m     \u001b[0;34m@\u001b[0m\u001b[0mabstractmethod\u001b[0m\u001b[0;34m\u001b[0m\u001b[0;34m\u001b[0m\u001b[0m\n",
      "\u001b[0;32m/opt/anaconda3/envs/learn-env/lib/python3.6/site-packages/sklearn/linear_model/_base.py\u001b[0m in \u001b[0;36mpredict\u001b[0;34m(self, X)\u001b[0m\n\u001b[1;32m    305\u001b[0m             \u001b[0mPredicted\u001b[0m \u001b[0;32mclass\u001b[0m \u001b[0mlabel\u001b[0m \u001b[0mper\u001b[0m \u001b[0msample\u001b[0m\u001b[0;34m.\u001b[0m\u001b[0;34m\u001b[0m\u001b[0;34m\u001b[0m\u001b[0m\n\u001b[1;32m    306\u001b[0m         \"\"\"\n\u001b[0;32m--> 307\u001b[0;31m         \u001b[0mscores\u001b[0m \u001b[0;34m=\u001b[0m \u001b[0mself\u001b[0m\u001b[0;34m.\u001b[0m\u001b[0mdecision_function\u001b[0m\u001b[0;34m(\u001b[0m\u001b[0mX\u001b[0m\u001b[0;34m)\u001b[0m\u001b[0;34m\u001b[0m\u001b[0;34m\u001b[0m\u001b[0m\n\u001b[0m\u001b[1;32m    308\u001b[0m         \u001b[0;32mif\u001b[0m \u001b[0mlen\u001b[0m\u001b[0;34m(\u001b[0m\u001b[0mscores\u001b[0m\u001b[0;34m.\u001b[0m\u001b[0mshape\u001b[0m\u001b[0;34m)\u001b[0m \u001b[0;34m==\u001b[0m \u001b[0;36m1\u001b[0m\u001b[0;34m:\u001b[0m\u001b[0;34m\u001b[0m\u001b[0;34m\u001b[0m\u001b[0m\n\u001b[1;32m    309\u001b[0m             \u001b[0mindices\u001b[0m \u001b[0;34m=\u001b[0m \u001b[0;34m(\u001b[0m\u001b[0mscores\u001b[0m \u001b[0;34m>\u001b[0m \u001b[0;36m0\u001b[0m\u001b[0;34m)\u001b[0m\u001b[0;34m.\u001b[0m\u001b[0mastype\u001b[0m\u001b[0;34m(\u001b[0m\u001b[0mnp\u001b[0m\u001b[0;34m.\u001b[0m\u001b[0mint\u001b[0m\u001b[0;34m)\u001b[0m\u001b[0;34m\u001b[0m\u001b[0;34m\u001b[0m\u001b[0m\n",
      "\u001b[0;32m/opt/anaconda3/envs/learn-env/lib/python3.6/site-packages/sklearn/linear_model/_base.py\u001b[0m in \u001b[0;36mdecision_function\u001b[0;34m(self, X)\u001b[0m\n\u001b[1;32m    285\u001b[0m         \u001b[0;32mif\u001b[0m \u001b[0mX\u001b[0m\u001b[0;34m.\u001b[0m\u001b[0mshape\u001b[0m\u001b[0;34m[\u001b[0m\u001b[0;36m1\u001b[0m\u001b[0;34m]\u001b[0m \u001b[0;34m!=\u001b[0m \u001b[0mn_features\u001b[0m\u001b[0;34m:\u001b[0m\u001b[0;34m\u001b[0m\u001b[0;34m\u001b[0m\u001b[0m\n\u001b[1;32m    286\u001b[0m             raise ValueError(\"X has %d features per sample; expecting %d\"\n\u001b[0;32m--> 287\u001b[0;31m                              % (X.shape[1], n_features))\n\u001b[0m\u001b[1;32m    288\u001b[0m \u001b[0;34m\u001b[0m\u001b[0m\n\u001b[1;32m    289\u001b[0m         scores = safe_sparse_dot(X, self.coef_.T,\n",
      "\u001b[0;31mValueError\u001b[0m: X has 86 features per sample; expecting 93"
     ]
    }
   ],
   "source": [
    "# predict on holdout data\n",
    "final_answers = vcf.predict(df)"
   ]
  },
  {
   "cell_type": "code",
   "execution_count": null,
   "metadata": {},
   "outputs": [],
   "source": []
  }
 ],
 "metadata": {
  "kernelspec": {
   "display_name": "Python 3",
   "language": "python",
   "name": "python3"
  },
  "language_info": {
   "codemirror_mode": {
    "name": "ipython",
    "version": 3
   },
   "file_extension": ".py",
   "mimetype": "text/x-python",
   "name": "python",
   "nbconvert_exporter": "python",
   "pygments_lexer": "ipython3",
   "version": "3.6.9"
  }
 },
 "nbformat": 4,
 "nbformat_minor": 4
}
