{
 "cells": [
  {
   "cell_type": "markdown",
   "metadata": {},
   "source": [
    "# Applying Classification Modeling\n",
    "The goal of this week's assessment is to find the model which best predicts whether or not a person will default on their bank loan. In doing so, we want to utilize all of the different tools we have learned over the course: data cleaning, EDA, feature engineering/transformation, feature selection, hyperparameter tuning, and model evaluation. \n",
    "\n",
    "\n",
    "#### Data Set Information:\n",
    "\n",
    "This research aimed at the case of customers default payments in Taiwan and compares the predictive accuracy of probability of default among six data mining methods. From the perspective of risk management, the result of predictive accuracy of the estimated probability of default will be more valuable than the binary result of classification - credible or not credible clients. Because the real probability of default is unknown, this study presented the novel Sorting Smoothing Method to estimate the real probability of default. With the real probability of default as the response variable (Y), and the predictive probability of default as the independent variable (X), the simple linear regression result (Y = A + BX) shows that the forecasting model produced by artificial neural network has the highest coefficient of determination; its regression intercept (A) is close to zero, and regression coefficient (B) to one. Therefore, among the six data mining techniques, artificial neural network is the only one that can accurately estimate the real probability of default. \n",
    "\n",
    "- NT is the abbreviation for New Taiwain. \n",
    "\n",
    "\n",
    "#### Attribute Information:\n",
    "\n",
    "This research employed a binary variable, default payment (Yes = 1, No = 0), as the response variable. This study reviewed the literature and used the following 23 variables as explanatory variables: \n",
    "- X1: Amount of the given credit (NT dollar): it includes both the individual consumer credit and his/her family (supplementary) credit. \n",
    "- X2: Gender (1 = male; 2 = female). \n",
    "- X3: Education (1 = graduate school; 2 = university; 3 = high school; 4 = others). \n",
    "- X4: Marital status (1 = married; 2 = single; 3 = others). \n",
    "- X5: Age (year). \n",
    "- X6 - X11: History of past payment. We tracked the past monthly payment records (from April to September, 2005) as follows: \n",
    "    - X6 = the repayment status in September, 2005; \n",
    "    - X7 = the repayment status in August, 2005; . . .;\n",
    "    - etc...\n",
    "    - X11 = the repayment status in April, 2005. \n",
    "    - The measurement scale for the repayment status is: -1 = pay duly; 1 = payment delay for one month; 2 = payment delay for two months; . . .; 8 = payment delay for eight months; 9 = payment delay for nine months and above. \n",
    "- X12-X17: Amount of bill statement (NT dollar). \n",
    "    - X12 = amount of bill statement in September, 2005;\n",
    "    - etc...\n",
    "    - X13 = amount of bill statement in August, 2005; . . .; \n",
    "    - X17 = amount of bill statement in April, 2005. \n",
    "- X18-X23: Amount of previous payment (NT dollar). \n",
    "    - X18 = amount paid in September, 2005; \n",
    "    - X19 = amount paid in August, 2005; . . .;\n",
    "    - etc...\n",
    "    - X23 = amount paid in April, 2005. \n",
    "\n",
    "\n",
    "\n",
    "\n",
    "You will fit three different models (KNN, Logistic Regression, and Decision Tree Classifier) to predict credit card defaults and use gridsearch to find the best hyperparameters for those models. Then you will compare the performance of those three models on a test set to find the best one.  \n"
   ]
  },
  {
   "cell_type": "markdown",
   "metadata": {},
   "source": [
    "## Process/Expectations\n",
    "\n",
    "- You will be working in pairs for this assessment\n",
    "\n",
    "### Please have ONE notebook and be prepared to explain how you worked in your pair.\n",
    "\n",
    "1. Clean up your data set so that you can perform an EDA. \n",
    "    - This includes handling null values, categorical variables, removing unimportant columns, and removing outliers.\n",
    "2. Perform EDA to identify opportunities to create new features.\n",
    "    - [Great Example of EDA for classification](https://www.kaggle.com/stephaniestallworth/titanic-eda-classification-end-to-end) \n",
    "    - [Using Pairplots with Classification](https://towardsdatascience.com/visualizing-data-with-pair-plots-in-python-f228cf529166)\n",
    "3. Engineer new features. \n",
    "    - Create polynomial and/or interaction features. \n",
    "    - Additionaly, you must also create **at least 2 new features** that are not interactions or polynomial transformations. \n",
    "        - *For example, you can create a new dummy variable that based on the value of a continuous variable (billamount6 >2000) or take the average of some past amounts.*\n",
    "4. Perform some feature selection. \n",
    "    \n",
    "5. You must fit **three** models to your data and tune **at least 1 hyperparameter** per model. \n",
    "6. Using the F-1 Score, evaluate how well your models perform and identify your best model.\n",
    "7. Using information from your EDA process and your model(s) output provide insight as to which borrowers are more likely to deafult\n"
   ]
  },
  {
   "cell_type": "code",
   "execution_count": 393,
   "metadata": {},
   "outputs": [],
   "source": [
    "# import libraries\n",
    "import pickle\n",
    "import pandas as pd\n",
    "import numpy as np\n",
    "import warnings\n",
    "warnings.filterwarnings('ignore')\n",
    "\n",
    "# data viz packages\n",
    "import matplotlib.pyplot as plt\n",
    "%matplotlib inline\n",
    "import seaborn as sns\n",
    "sns.set_style('darkgrid')\n",
    "\n",
    "# sklearn\n",
    "from sklearn.linear_model import LogisticRegression\n",
    "from sklearn.neighbors import KNeighborsClassifier\n",
    "from sklearn.tree import DecisionTreeClassifier\n",
    "from sklearn.model_selection import train_test_split, cross_val_score, cross_validate, GridSearchCV\n",
    "from sklearn.metrics import roc_curve, auc, roc_auc_score, accuracy_score, f1_score, recall_score, precision_score\n",
    "from sklearn.metrics import confusion_matrix, plot_confusion_matrix\n",
    "from sklearn.preprocessing import StandardScaler, MinMaxScaler\n",
    "from sklearn.ensemble import VotingClassifier, RandomForestClassifier\n",
    "from sklearn.feature_selection import RFECV"
   ]
  },
  {
   "cell_type": "markdown",
   "metadata": {},
   "source": [
    "## Data Cleaning"
   ]
  },
  {
   "cell_type": "code",
   "execution_count": 394,
   "metadata": {},
   "outputs": [],
   "source": [
    "df = pd.read_csv('./data/training_data.csv' , index_col=0)"
   ]
  },
  {
   "cell_type": "code",
   "execution_count": 395,
   "metadata": {},
   "outputs": [
    {
     "data": {
      "text/html": [
       "<div>\n",
       "<style scoped>\n",
       "    .dataframe tbody tr th:only-of-type {\n",
       "        vertical-align: middle;\n",
       "    }\n",
       "\n",
       "    .dataframe tbody tr th {\n",
       "        vertical-align: top;\n",
       "    }\n",
       "\n",
       "    .dataframe thead th {\n",
       "        text-align: right;\n",
       "    }\n",
       "</style>\n",
       "<table border=\"1\" class=\"dataframe\">\n",
       "  <thead>\n",
       "    <tr style=\"text-align: right;\">\n",
       "      <th></th>\n",
       "      <th>X1</th>\n",
       "      <th>X2</th>\n",
       "      <th>X3</th>\n",
       "      <th>X4</th>\n",
       "      <th>X5</th>\n",
       "      <th>X6</th>\n",
       "      <th>X7</th>\n",
       "      <th>X8</th>\n",
       "      <th>X9</th>\n",
       "      <th>X10</th>\n",
       "      <th>X11</th>\n",
       "      <th>X12</th>\n",
       "      <th>X13</th>\n",
       "      <th>X14</th>\n",
       "      <th>X15</th>\n",
       "      <th>X16</th>\n",
       "      <th>X17</th>\n",
       "      <th>X18</th>\n",
       "      <th>X19</th>\n",
       "      <th>X20</th>\n",
       "      <th>X21</th>\n",
       "      <th>X22</th>\n",
       "      <th>X23</th>\n",
       "      <th>Y</th>\n",
       "    </tr>\n",
       "  </thead>\n",
       "  <tbody>\n",
       "    <tr>\n",
       "      <th>28835</th>\n",
       "      <td>220000</td>\n",
       "      <td>2</td>\n",
       "      <td>1</td>\n",
       "      <td>2</td>\n",
       "      <td>36</td>\n",
       "      <td>0</td>\n",
       "      <td>0</td>\n",
       "      <td>0</td>\n",
       "      <td>0</td>\n",
       "      <td>0</td>\n",
       "      <td>0</td>\n",
       "      <td>222598</td>\n",
       "      <td>222168</td>\n",
       "      <td>217900</td>\n",
       "      <td>221193</td>\n",
       "      <td>181859</td>\n",
       "      <td>184605</td>\n",
       "      <td>10000</td>\n",
       "      <td>8018</td>\n",
       "      <td>10121</td>\n",
       "      <td>6006</td>\n",
       "      <td>10987</td>\n",
       "      <td>143779</td>\n",
       "      <td>1</td>\n",
       "    </tr>\n",
       "    <tr>\n",
       "      <th>25329</th>\n",
       "      <td>200000</td>\n",
       "      <td>2</td>\n",
       "      <td>3</td>\n",
       "      <td>2</td>\n",
       "      <td>29</td>\n",
       "      <td>-1</td>\n",
       "      <td>-1</td>\n",
       "      <td>-1</td>\n",
       "      <td>-1</td>\n",
       "      <td>-1</td>\n",
       "      <td>-1</td>\n",
       "      <td>326</td>\n",
       "      <td>326</td>\n",
       "      <td>326</td>\n",
       "      <td>326</td>\n",
       "      <td>326</td>\n",
       "      <td>326</td>\n",
       "      <td>326</td>\n",
       "      <td>326</td>\n",
       "      <td>326</td>\n",
       "      <td>326</td>\n",
       "      <td>326</td>\n",
       "      <td>326</td>\n",
       "      <td>0</td>\n",
       "    </tr>\n",
       "    <tr>\n",
       "      <th>18894</th>\n",
       "      <td>180000</td>\n",
       "      <td>2</td>\n",
       "      <td>1</td>\n",
       "      <td>2</td>\n",
       "      <td>27</td>\n",
       "      <td>-2</td>\n",
       "      <td>-2</td>\n",
       "      <td>-2</td>\n",
       "      <td>-2</td>\n",
       "      <td>-2</td>\n",
       "      <td>-2</td>\n",
       "      <td>0</td>\n",
       "      <td>0</td>\n",
       "      <td>0</td>\n",
       "      <td>0</td>\n",
       "      <td>0</td>\n",
       "      <td>0</td>\n",
       "      <td>0</td>\n",
       "      <td>0</td>\n",
       "      <td>0</td>\n",
       "      <td>0</td>\n",
       "      <td>0</td>\n",
       "      <td>0</td>\n",
       "      <td>0</td>\n",
       "    </tr>\n",
       "    <tr>\n",
       "      <th>690</th>\n",
       "      <td>80000</td>\n",
       "      <td>1</td>\n",
       "      <td>2</td>\n",
       "      <td>2</td>\n",
       "      <td>32</td>\n",
       "      <td>0</td>\n",
       "      <td>0</td>\n",
       "      <td>0</td>\n",
       "      <td>0</td>\n",
       "      <td>0</td>\n",
       "      <td>0</td>\n",
       "      <td>51372</td>\n",
       "      <td>51872</td>\n",
       "      <td>47593</td>\n",
       "      <td>43882</td>\n",
       "      <td>42256</td>\n",
       "      <td>42527</td>\n",
       "      <td>1853</td>\n",
       "      <td>1700</td>\n",
       "      <td>1522</td>\n",
       "      <td>1548</td>\n",
       "      <td>1488</td>\n",
       "      <td>1500</td>\n",
       "      <td>0</td>\n",
       "    </tr>\n",
       "    <tr>\n",
       "      <th>6239</th>\n",
       "      <td>10000</td>\n",
       "      <td>1</td>\n",
       "      <td>2</td>\n",
       "      <td>2</td>\n",
       "      <td>27</td>\n",
       "      <td>0</td>\n",
       "      <td>0</td>\n",
       "      <td>0</td>\n",
       "      <td>0</td>\n",
       "      <td>0</td>\n",
       "      <td>0</td>\n",
       "      <td>8257</td>\n",
       "      <td>7995</td>\n",
       "      <td>4878</td>\n",
       "      <td>5444</td>\n",
       "      <td>2639</td>\n",
       "      <td>2697</td>\n",
       "      <td>2000</td>\n",
       "      <td>1100</td>\n",
       "      <td>600</td>\n",
       "      <td>300</td>\n",
       "      <td>300</td>\n",
       "      <td>1000</td>\n",
       "      <td>1</td>\n",
       "    </tr>\n",
       "  </tbody>\n",
       "</table>\n",
       "</div>"
      ],
      "text/plain": [
       "           X1 X2 X3 X4  X5  X6  X7  X8  X9 X10 X11     X12     X13     X14  \\\n",
       "28835  220000  2  1  2  36   0   0   0   0   0   0  222598  222168  217900   \n",
       "25329  200000  2  3  2  29  -1  -1  -1  -1  -1  -1     326     326     326   \n",
       "18894  180000  2  1  2  27  -2  -2  -2  -2  -2  -2       0       0       0   \n",
       "690     80000  1  2  2  32   0   0   0   0   0   0   51372   51872   47593   \n",
       "6239    10000  1  2  2  27   0   0   0   0   0   0    8257    7995    4878   \n",
       "\n",
       "          X15     X16     X17    X18   X19    X20   X21    X22     X23  Y  \n",
       "28835  221193  181859  184605  10000  8018  10121  6006  10987  143779  1  \n",
       "25329     326     326     326    326   326    326   326    326     326  0  \n",
       "18894       0       0       0      0     0      0     0      0       0  0  \n",
       "690     43882   42256   42527   1853  1700   1522  1548   1488    1500  0  \n",
       "6239     5444    2639    2697   2000  1100    600   300    300    1000  1  "
      ]
     },
     "execution_count": 395,
     "metadata": {},
     "output_type": "execute_result"
    }
   ],
   "source": [
    "df.head() # preview dataset"
   ]
  },
  {
   "cell_type": "code",
   "execution_count": 396,
   "metadata": {},
   "outputs": [
    {
     "data": {
      "text/plain": [
       "(22500, 24)"
      ]
     },
     "execution_count": 396,
     "metadata": {},
     "output_type": "execute_result"
    }
   ],
   "source": [
    "df.shape"
   ]
  },
  {
   "cell_type": "code",
   "execution_count": 397,
   "metadata": {},
   "outputs": [],
   "source": [
    "# view all columns\n",
    "pd.options.display.max_columns = 24"
   ]
  },
  {
   "cell_type": "markdown",
   "metadata": {},
   "source": [
    "Look at value counts to really get an of any odd values in each column."
   ]
  },
  {
   "cell_type": "code",
   "execution_count": 398,
   "metadata": {},
   "outputs": [
    {
     "name": "stdout",
     "output_type": "stream",
     "text": [
      "\n",
      "\n",
      "X1 50000        2534\n",
      "20000        1488\n",
      "30000        1223\n",
      "80000        1210\n",
      "200000       1134\n",
      "             ... \n",
      "327680          1\n",
      "1000000         1\n",
      "740000          1\n",
      "800000          1\n",
      "LIMIT_BAL       1\n",
      "Name: X1, Length: 81, dtype: int64\n",
      "\n",
      "\n",
      "X2 2      13572\n",
      "1       8927\n",
      "SEX        1\n",
      "Name: X2, dtype: int64\n",
      "\n",
      "\n",
      "X3 2            10516\n",
      "1             7919\n",
      "3             3713\n",
      "5              208\n",
      "4               90\n",
      "6               42\n",
      "0               11\n",
      "EDUCATION        1\n",
      "Name: X3, dtype: int64\n",
      "\n",
      "\n",
      "X4 2           12026\n",
      "1           10195\n",
      "3             234\n",
      "0              44\n",
      "MARRIAGE        1\n",
      "Name: X4, dtype: int64\n",
      "\n",
      "\n",
      "X5 29     1243\n",
      "27     1100\n",
      "28     1064\n",
      "30     1026\n",
      "26      959\n",
      "25      904\n",
      "31      902\n",
      "32      878\n",
      "33      874\n",
      "34      859\n",
      "24      851\n",
      "35      841\n",
      "36      812\n",
      "37      799\n",
      "38      720\n",
      "39      703\n",
      "23      690\n",
      "40      656\n",
      "41      613\n",
      "42      597\n",
      "44      512\n",
      "43      495\n",
      "45      462\n",
      "46      421\n",
      "22      420\n",
      "47      340\n",
      "48      339\n",
      "49      326\n",
      "50      298\n",
      "51      269\n",
      "53      241\n",
      "52      236\n",
      "54      184\n",
      "55      154\n",
      "56      147\n",
      "57       89\n",
      "58       89\n",
      "59       62\n",
      "21       56\n",
      "60       56\n",
      "61       45\n",
      "62       32\n",
      "64       24\n",
      "63       24\n",
      "66       21\n",
      "65       17\n",
      "67       13\n",
      "69       10\n",
      "70       10\n",
      "68        5\n",
      "72        3\n",
      "73        3\n",
      "71        2\n",
      "75        2\n",
      "74        1\n",
      "AGE       1\n",
      "Name: X5, dtype: int64\n",
      "\n",
      "\n",
      "X6 0        11057\n",
      "-1        4272\n",
      "1         2750\n",
      "-2        2048\n",
      "2         2032\n",
      "3          239\n",
      "4           51\n",
      "5           20\n",
      "8           15\n",
      "6            9\n",
      "7            6\n",
      "PAY_0        1\n",
      "Name: X6, dtype: int64\n",
      "\n",
      "\n",
      "X7 0        11804\n",
      "-1        4526\n",
      "2         2967\n",
      "-2        2813\n",
      "3          251\n",
      "4           70\n",
      "1           24\n",
      "5           19\n",
      "7           16\n",
      "6            8\n",
      "PAY_2        1\n",
      "8            1\n",
      "Name: X7, dtype: int64\n",
      "\n",
      "\n",
      "X8 0        11823\n",
      "-1        4464\n",
      "-2        3024\n",
      "2         2891\n",
      "3          177\n",
      "4           58\n",
      "7           22\n",
      "6           19\n",
      "5           15\n",
      "1            4\n",
      "8            2\n",
      "PAY_3        1\n",
      "Name: X8, dtype: int64\n",
      "\n",
      "\n",
      "X9 0        12330\n",
      "-1        4281\n",
      "-2        3227\n",
      "2         2390\n",
      "3          138\n",
      "4           49\n",
      "7           47\n",
      "5           28\n",
      "6            5\n",
      "1            2\n",
      "8            2\n",
      "PAY_4        1\n",
      "Name: X9, dtype: int64\n",
      "\n",
      "\n",
      "X10 0        12706\n",
      "-1        4124\n",
      "-2        3401\n",
      "2         2014\n",
      "3          128\n",
      "4           59\n",
      "7           47\n",
      "5           16\n",
      "6            3\n",
      "8            1\n",
      "PAY_5        1\n",
      "Name: X10, dtype: int64\n",
      "\n",
      "\n",
      "X11 0        12233\n",
      "-1        4284\n",
      "-2        3663\n",
      "2         2078\n",
      "3          140\n",
      "7           38\n",
      "4           38\n",
      "6           14\n",
      "5            9\n",
      "8            2\n",
      "PAY_6        1\n",
      "Name: X11, dtype: int64\n",
      "\n",
      "\n",
      "X12 0         1492\n",
      "390        182\n",
      "326         59\n",
      "780         52\n",
      "316         49\n",
      "          ... \n",
      "77670        1\n",
      "183939       1\n",
      "106552       1\n",
      "40846        1\n",
      "15312        1\n",
      "Name: X12, Length: 17665, dtype: int64\n",
      "\n",
      "\n",
      "X13 0         1849\n",
      "390        172\n",
      "326         60\n",
      "780         60\n",
      "316         59\n",
      "          ... \n",
      "30371        1\n",
      "122372       1\n",
      "7292         1\n",
      "11091        1\n",
      "294675       1\n",
      "Name: X13, Length: 17341, dtype: int64\n",
      "\n",
      "\n",
      "X14 0         2129\n",
      "390        212\n",
      "326         53\n",
      "316         51\n",
      "780         50\n",
      "          ... \n",
      "70882        1\n",
      "288581       1\n",
      "97240        1\n",
      "81317        1\n",
      "157358       1\n",
      "Name: X14, Length: 17116, dtype: int64\n",
      "\n",
      "\n",
      "X15 0         2390\n",
      "390        179\n",
      "780         66\n",
      "316         54\n",
      "326         48\n",
      "          ... \n",
      "14313        1\n",
      "37133        1\n",
      "100178       1\n",
      "19791        1\n",
      "263144       1\n",
      "Name: X15, Length: 16768, dtype: int64\n",
      "\n",
      "\n",
      "X16 0         2594\n",
      "390        182\n",
      "780         74\n",
      "316         65\n",
      "326         48\n",
      "          ... \n",
      "10600        1\n",
      "87491        1\n",
      "134321       1\n",
      "15904        1\n",
      "27215        1\n",
      "Name: X16, Length: 16326, dtype: int64\n",
      "\n",
      "\n",
      "X17 0        3000\n",
      "390       160\n",
      "780        68\n",
      "316        63\n",
      "150        59\n",
      "         ... \n",
      "23616       1\n",
      "9403        1\n",
      "16810       1\n",
      "20173       1\n",
      "27215       1\n",
      "Name: X17, Length: 16093, dtype: int64\n",
      "\n",
      "\n",
      "X18 0        3905\n",
      "2000     1012\n",
      "3000      682\n",
      "5000      539\n",
      "1500      394\n",
      "         ... \n",
      "29600       1\n",
      "13195       1\n",
      "415         1\n",
      "585         1\n",
      "30253       1\n",
      "Name: X18, Length: 6631, dtype: int64\n",
      "\n",
      "\n",
      "X19 0          4036\n",
      "2000        982\n",
      "3000        640\n",
      "5000        542\n",
      "1000        438\n",
      "           ... \n",
      "8231          1\n",
      "9059          1\n",
      "5129          1\n",
      "1684259       1\n",
      "33508         1\n",
      "Name: X19, Length: 6569, dtype: int64\n",
      "\n",
      "\n",
      "X20 0        4440\n",
      "2000      977\n",
      "1000      838\n",
      "3000      634\n",
      "5000      541\n",
      "         ... \n",
      "15799       1\n",
      "48514       1\n",
      "4230        1\n",
      "9793        1\n",
      "3775        1\n",
      "Name: X20, Length: 6258, dtype: int64\n",
      "\n",
      "\n",
      "X21 0        4840\n",
      "1000     1077\n",
      "2000      910\n",
      "3000      661\n",
      "5000      603\n",
      "         ... \n",
      "11482       1\n",
      "16171       1\n",
      "5074        1\n",
      "67609       1\n",
      "3775        1\n",
      "Name: X21, Length: 5757, dtype: int64\n",
      "\n",
      "\n",
      "X22 0        5015\n",
      "1000     1012\n",
      "2000      974\n",
      "3000      700\n",
      "5000      612\n",
      "         ... \n",
      "27977       1\n",
      "3679        1\n",
      "9050        1\n",
      "4271        1\n",
      "14700       1\n",
      "Name: X22, Length: 5750, dtype: int64\n",
      "\n",
      "\n",
      "X23 0        5418\n",
      "1000      974\n",
      "2000      958\n",
      "3000      685\n",
      "5000      607\n",
      "         ... \n",
      "16500       1\n",
      "3213        1\n",
      "2813        1\n",
      "2785        1\n",
      "5912        1\n",
      "Name: X23, Length: 5789, dtype: int64\n",
      "\n",
      "\n",
      "Y 0                             17471\n",
      "1                              5028\n",
      "default payment next month        1\n",
      "Name: Y, dtype: int64\n"
     ]
    }
   ],
   "source": [
    "# loop over each column and display value counts\n",
    "for col in df.columns:\n",
    "    print('\\n') # space between each output\n",
    "    print(col, df[col].value_counts())"
   ]
  },
  {
   "cell_type": "markdown",
   "metadata": {},
   "source": [
    "There is definetly an odd row lower in the dataset that looks like it maybe a column label or something, it its definetly NOT a customer. Lets find that."
   ]
  },
  {
   "cell_type": "markdown",
   "metadata": {},
   "source": [
    "Need to find a better way to do this so process can be replicated on holdout set. "
   ]
  },
  {
   "cell_type": "code",
   "execution_count": 399,
   "metadata": {
    "scrolled": true
   },
   "outputs": [
    {
     "data": {
      "text/plain": [
       "X1                      LIMIT_BAL\n",
       "X2                            SEX\n",
       "X3                      EDUCATION\n",
       "X4                       MARRIAGE\n",
       "X5                            AGE\n",
       "X6                          PAY_0\n",
       "X7                          PAY_2\n",
       "X8                          PAY_3\n",
       "X9                          PAY_4\n",
       "X10                         PAY_5\n",
       "X11                         PAY_6\n",
       "X12                     BILL_AMT1\n",
       "X13                     BILL_AMT2\n",
       "X14                     BILL_AMT3\n",
       "X15                     BILL_AMT4\n",
       "X16                     BILL_AMT5\n",
       "X17                     BILL_AMT6\n",
       "X18                      PAY_AMT1\n",
       "X19                      PAY_AMT2\n",
       "X20                      PAY_AMT3\n",
       "X21                      PAY_AMT4\n",
       "X22                      PAY_AMT5\n",
       "X23                      PAY_AMT6\n",
       "Y      default payment next month\n",
       "Name: ID, dtype: object"
      ]
     },
     "execution_count": 399,
     "metadata": {},
     "output_type": "execute_result"
    }
   ],
   "source": [
    "# check out column name row\n",
    "df.iloc[18381]"
   ]
  },
  {
   "cell_type": "code",
   "execution_count": 400,
   "metadata": {},
   "outputs": [],
   "source": [
    "# make row 18381 column header and all lower case \n",
    "header_row = 18381\n",
    "df.columns = df.iloc[header_row].str.lower()"
   ]
  },
  {
   "cell_type": "code",
   "execution_count": 401,
   "metadata": {},
   "outputs": [],
   "source": [
    "# drop row 18381\n",
    "df.drop(df.index[18381], inplace=True)"
   ]
  },
  {
   "cell_type": "code",
   "execution_count": 402,
   "metadata": {},
   "outputs": [
    {
     "data": {
      "text/plain": [
       "(22499, 24)"
      ]
     },
     "execution_count": 402,
     "metadata": {},
     "output_type": "execute_result"
    }
   ],
   "source": [
    "df.shape"
   ]
  },
  {
   "cell_type": "code",
   "execution_count": 403,
   "metadata": {},
   "outputs": [
    {
     "data": {
      "text/plain": [
       "Index(['limit_bal', 'sex', 'education', 'marriage', 'age', 'pay_0', 'pay_2',\n",
       "       'pay_3', 'pay_4', 'pay_5', 'pay_6', 'bill_amt1', 'bill_amt2',\n",
       "       'bill_amt3', 'bill_amt4', 'bill_amt5', 'bill_amt6', 'pay_amt1',\n",
       "       'pay_amt2', 'pay_amt3', 'pay_amt4', 'pay_amt5', 'pay_amt6',\n",
       "       'default payment next month'],\n",
       "      dtype='object', name='ID')"
      ]
     },
     "execution_count": 403,
     "metadata": {},
     "output_type": "execute_result"
    }
   ],
   "source": [
    "df.columns"
   ]
  },
  {
   "cell_type": "code",
   "execution_count": 404,
   "metadata": {},
   "outputs": [
    {
     "name": "stdout",
     "output_type": "stream",
     "text": [
      "<class 'pandas.core.frame.DataFrame'>\n",
      "Index: 22499 entries, 28835 to 7624\n",
      "Data columns (total 24 columns):\n",
      "limit_bal                     22499 non-null object\n",
      "sex                           22499 non-null object\n",
      "education                     22499 non-null object\n",
      "marriage                      22499 non-null object\n",
      "age                           22499 non-null object\n",
      "pay_0                         22499 non-null object\n",
      "pay_2                         22499 non-null object\n",
      "pay_3                         22499 non-null object\n",
      "pay_4                         22499 non-null object\n",
      "pay_5                         22499 non-null object\n",
      "pay_6                         22499 non-null object\n",
      "bill_amt1                     22499 non-null object\n",
      "bill_amt2                     22499 non-null object\n",
      "bill_amt3                     22499 non-null object\n",
      "bill_amt4                     22499 non-null object\n",
      "bill_amt5                     22499 non-null object\n",
      "bill_amt6                     22499 non-null object\n",
      "pay_amt1                      22499 non-null object\n",
      "pay_amt2                      22499 non-null object\n",
      "pay_amt3                      22499 non-null object\n",
      "pay_amt4                      22499 non-null object\n",
      "pay_amt5                      22499 non-null object\n",
      "pay_amt6                      22499 non-null object\n",
      "default payment next month    22499 non-null object\n",
      "dtypes: object(24)\n",
      "memory usage: 4.3+ MB\n"
     ]
    }
   ],
   "source": [
    "# check for missing values\n",
    "df.info()"
   ]
  },
  {
   "cell_type": "markdown",
   "metadata": {},
   "source": [
    "No missing values, however every column is an object dtype, should `limit_bal`, `age` and `bill_amt1` through `pay_6` be converted to numerical dtypes? Let's do that. "
   ]
  },
  {
   "cell_type": "markdown",
   "metadata": {},
   "source": [
    "### Numeric Features"
   ]
  },
  {
   "cell_type": "markdown",
   "metadata": {},
   "source": [
    "Some dtypes should be numeric, create list of those and convert now."
   ]
  },
  {
   "cell_type": "code",
   "execution_count": 405,
   "metadata": {},
   "outputs": [],
   "source": [
    "# create list of columns that will be converted to numeric\n",
    "cols = ['limit_bal','age','bill_amt1', 'bill_amt2', 'bill_amt3',\n",
    "        'bill_amt4', 'bill_amt5', 'bill_amt6', 'pay_amt1', 'pay_amt2',\n",
    "        'pay_amt3', 'pay_amt4', 'pay_amt5', 'pay_amt6', 'default payment next month']\n",
    "\n",
    "# use .apply method to convert cols to numeric\n",
    "df[cols] = df[cols].apply(pd.to_numeric, errors='coerce')"
   ]
  },
  {
   "cell_type": "code",
   "execution_count": 406,
   "metadata": {},
   "outputs": [
    {
     "name": "stdout",
     "output_type": "stream",
     "text": [
      "<class 'pandas.core.frame.DataFrame'>\n",
      "Index: 22499 entries, 28835 to 7624\n",
      "Data columns (total 24 columns):\n",
      "limit_bal                     22499 non-null int64\n",
      "sex                           22499 non-null object\n",
      "education                     22499 non-null object\n",
      "marriage                      22499 non-null object\n",
      "age                           22499 non-null int64\n",
      "pay_0                         22499 non-null object\n",
      "pay_2                         22499 non-null object\n",
      "pay_3                         22499 non-null object\n",
      "pay_4                         22499 non-null object\n",
      "pay_5                         22499 non-null object\n",
      "pay_6                         22499 non-null object\n",
      "bill_amt1                     22499 non-null int64\n",
      "bill_amt2                     22499 non-null int64\n",
      "bill_amt3                     22499 non-null int64\n",
      "bill_amt4                     22499 non-null int64\n",
      "bill_amt5                     22499 non-null int64\n",
      "bill_amt6                     22499 non-null int64\n",
      "pay_amt1                      22499 non-null int64\n",
      "pay_amt2                      22499 non-null int64\n",
      "pay_amt3                      22499 non-null int64\n",
      "pay_amt4                      22499 non-null int64\n",
      "pay_amt5                      22499 non-null int64\n",
      "pay_amt6                      22499 non-null int64\n",
      "default payment next month    22499 non-null int64\n",
      "dtypes: int64(15), object(9)\n",
      "memory usage: 4.3+ MB\n"
     ]
    }
   ],
   "source": [
    "df.info()"
   ]
  },
  {
   "cell_type": "code",
   "execution_count": 407,
   "metadata": {},
   "outputs": [
    {
     "data": {
      "text/html": [
       "<div>\n",
       "<style scoped>\n",
       "    .dataframe tbody tr th:only-of-type {\n",
       "        vertical-align: middle;\n",
       "    }\n",
       "\n",
       "    .dataframe tbody tr th {\n",
       "        vertical-align: top;\n",
       "    }\n",
       "\n",
       "    .dataframe thead th {\n",
       "        text-align: right;\n",
       "    }\n",
       "</style>\n",
       "<table border=\"1\" class=\"dataframe\">\n",
       "  <thead>\n",
       "    <tr style=\"text-align: right;\">\n",
       "      <th></th>\n",
       "      <th>count</th>\n",
       "      <th>mean</th>\n",
       "      <th>std</th>\n",
       "      <th>min</th>\n",
       "      <th>25%</th>\n",
       "      <th>50%</th>\n",
       "      <th>75%</th>\n",
       "      <th>max</th>\n",
       "    </tr>\n",
       "    <tr>\n",
       "      <th>ID</th>\n",
       "      <th></th>\n",
       "      <th></th>\n",
       "      <th></th>\n",
       "      <th></th>\n",
       "      <th></th>\n",
       "      <th></th>\n",
       "      <th></th>\n",
       "      <th></th>\n",
       "    </tr>\n",
       "  </thead>\n",
       "  <tbody>\n",
       "    <tr>\n",
       "      <th>limit_bal</th>\n",
       "      <td>22499.00</td>\n",
       "      <td>167054.52</td>\n",
       "      <td>129864.96</td>\n",
       "      <td>10000.00</td>\n",
       "      <td>50000.00</td>\n",
       "      <td>140000.00</td>\n",
       "      <td>240000.00</td>\n",
       "      <td>1000000.00</td>\n",
       "    </tr>\n",
       "    <tr>\n",
       "      <th>age</th>\n",
       "      <td>22499.00</td>\n",
       "      <td>35.45</td>\n",
       "      <td>9.24</td>\n",
       "      <td>21.00</td>\n",
       "      <td>28.00</td>\n",
       "      <td>34.00</td>\n",
       "      <td>41.00</td>\n",
       "      <td>75.00</td>\n",
       "    </tr>\n",
       "    <tr>\n",
       "      <th>bill_amt1</th>\n",
       "      <td>22499.00</td>\n",
       "      <td>51455.87</td>\n",
       "      <td>74470.26</td>\n",
       "      <td>-165580.00</td>\n",
       "      <td>3506.00</td>\n",
       "      <td>22387.00</td>\n",
       "      <td>66988.50</td>\n",
       "      <td>964511.00</td>\n",
       "    </tr>\n",
       "    <tr>\n",
       "      <th>bill_amt2</th>\n",
       "      <td>22499.00</td>\n",
       "      <td>49385.31</td>\n",
       "      <td>71953.81</td>\n",
       "      <td>-69777.00</td>\n",
       "      <td>2975.00</td>\n",
       "      <td>21145.00</td>\n",
       "      <td>63755.00</td>\n",
       "      <td>983931.00</td>\n",
       "    </tr>\n",
       "    <tr>\n",
       "      <th>bill_amt3</th>\n",
       "      <td>22499.00</td>\n",
       "      <td>47042.13</td>\n",
       "      <td>69917.92</td>\n",
       "      <td>-157264.00</td>\n",
       "      <td>2611.50</td>\n",
       "      <td>20053.00</td>\n",
       "      <td>60161.00</td>\n",
       "      <td>1664089.00</td>\n",
       "    </tr>\n",
       "    <tr>\n",
       "      <th>bill_amt4</th>\n",
       "      <td>22499.00</td>\n",
       "      <td>43329.15</td>\n",
       "      <td>64607.09</td>\n",
       "      <td>-81334.00</td>\n",
       "      <td>2319.50</td>\n",
       "      <td>19048.00</td>\n",
       "      <td>54494.50</td>\n",
       "      <td>891586.00</td>\n",
       "    </tr>\n",
       "    <tr>\n",
       "      <th>bill_amt5</th>\n",
       "      <td>22499.00</td>\n",
       "      <td>40306.37</td>\n",
       "      <td>60918.99</td>\n",
       "      <td>-81334.00</td>\n",
       "      <td>1732.50</td>\n",
       "      <td>18050.00</td>\n",
       "      <td>50196.00</td>\n",
       "      <td>927171.00</td>\n",
       "    </tr>\n",
       "    <tr>\n",
       "      <th>bill_amt6</th>\n",
       "      <td>22499.00</td>\n",
       "      <td>38955.00</td>\n",
       "      <td>59773.14</td>\n",
       "      <td>-339603.00</td>\n",
       "      <td>1230.00</td>\n",
       "      <td>16924.00</td>\n",
       "      <td>49250.00</td>\n",
       "      <td>961664.00</td>\n",
       "    </tr>\n",
       "    <tr>\n",
       "      <th>pay_amt1</th>\n",
       "      <td>22499.00</td>\n",
       "      <td>5627.91</td>\n",
       "      <td>16628.16</td>\n",
       "      <td>0.00</td>\n",
       "      <td>1000.00</td>\n",
       "      <td>2100.00</td>\n",
       "      <td>5002.00</td>\n",
       "      <td>873552.00</td>\n",
       "    </tr>\n",
       "    <tr>\n",
       "      <th>pay_amt2</th>\n",
       "      <td>22499.00</td>\n",
       "      <td>5964.39</td>\n",
       "      <td>24443.70</td>\n",
       "      <td>0.00</td>\n",
       "      <td>829.00</td>\n",
       "      <td>2004.00</td>\n",
       "      <td>5000.00</td>\n",
       "      <td>1684259.00</td>\n",
       "    </tr>\n",
       "    <tr>\n",
       "      <th>pay_amt3</th>\n",
       "      <td>22499.00</td>\n",
       "      <td>5258.91</td>\n",
       "      <td>18153.55</td>\n",
       "      <td>0.00</td>\n",
       "      <td>396.00</td>\n",
       "      <td>1800.00</td>\n",
       "      <td>4500.00</td>\n",
       "      <td>896040.00</td>\n",
       "    </tr>\n",
       "    <tr>\n",
       "      <th>pay_amt4</th>\n",
       "      <td>22499.00</td>\n",
       "      <td>4792.97</td>\n",
       "      <td>15872.86</td>\n",
       "      <td>0.00</td>\n",
       "      <td>284.00</td>\n",
       "      <td>1500.00</td>\n",
       "      <td>4000.00</td>\n",
       "      <td>621000.00</td>\n",
       "    </tr>\n",
       "    <tr>\n",
       "      <th>pay_amt5</th>\n",
       "      <td>22499.00</td>\n",
       "      <td>4865.66</td>\n",
       "      <td>15507.45</td>\n",
       "      <td>0.00</td>\n",
       "      <td>246.50</td>\n",
       "      <td>1500.00</td>\n",
       "      <td>4068.50</td>\n",
       "      <td>388071.00</td>\n",
       "    </tr>\n",
       "    <tr>\n",
       "      <th>pay_amt6</th>\n",
       "      <td>22499.00</td>\n",
       "      <td>5247.28</td>\n",
       "      <td>17892.33</td>\n",
       "      <td>0.00</td>\n",
       "      <td>100.00</td>\n",
       "      <td>1500.00</td>\n",
       "      <td>4000.00</td>\n",
       "      <td>528666.00</td>\n",
       "    </tr>\n",
       "    <tr>\n",
       "      <th>default payment next month</th>\n",
       "      <td>22499.00</td>\n",
       "      <td>0.22</td>\n",
       "      <td>0.42</td>\n",
       "      <td>0.00</td>\n",
       "      <td>0.00</td>\n",
       "      <td>0.00</td>\n",
       "      <td>0.00</td>\n",
       "      <td>1.00</td>\n",
       "    </tr>\n",
       "  </tbody>\n",
       "</table>\n",
       "</div>"
      ],
      "text/plain": [
       "                              count      mean       std        min      25%  \\\n",
       "ID                                                                            \n",
       "limit_bal                  22499.00 167054.52 129864.96   10000.00 50000.00   \n",
       "age                        22499.00     35.45      9.24      21.00    28.00   \n",
       "bill_amt1                  22499.00  51455.87  74470.26 -165580.00  3506.00   \n",
       "bill_amt2                  22499.00  49385.31  71953.81  -69777.00  2975.00   \n",
       "bill_amt3                  22499.00  47042.13  69917.92 -157264.00  2611.50   \n",
       "bill_amt4                  22499.00  43329.15  64607.09  -81334.00  2319.50   \n",
       "bill_amt5                  22499.00  40306.37  60918.99  -81334.00  1732.50   \n",
       "bill_amt6                  22499.00  38955.00  59773.14 -339603.00  1230.00   \n",
       "pay_amt1                   22499.00   5627.91  16628.16       0.00  1000.00   \n",
       "pay_amt2                   22499.00   5964.39  24443.70       0.00   829.00   \n",
       "pay_amt3                   22499.00   5258.91  18153.55       0.00   396.00   \n",
       "pay_amt4                   22499.00   4792.97  15872.86       0.00   284.00   \n",
       "pay_amt5                   22499.00   4865.66  15507.45       0.00   246.50   \n",
       "pay_amt6                   22499.00   5247.28  17892.33       0.00   100.00   \n",
       "default payment next month 22499.00      0.22      0.42       0.00     0.00   \n",
       "\n",
       "                                 50%       75%        max  \n",
       "ID                                                         \n",
       "limit_bal                  140000.00 240000.00 1000000.00  \n",
       "age                            34.00     41.00      75.00  \n",
       "bill_amt1                   22387.00  66988.50  964511.00  \n",
       "bill_amt2                   21145.00  63755.00  983931.00  \n",
       "bill_amt3                   20053.00  60161.00 1664089.00  \n",
       "bill_amt4                   19048.00  54494.50  891586.00  \n",
       "bill_amt5                   18050.00  50196.00  927171.00  \n",
       "bill_amt6                   16924.00  49250.00  961664.00  \n",
       "pay_amt1                     2100.00   5002.00  873552.00  \n",
       "pay_amt2                     2004.00   5000.00 1684259.00  \n",
       "pay_amt3                     1800.00   4500.00  896040.00  \n",
       "pay_amt4                     1500.00   4000.00  621000.00  \n",
       "pay_amt5                     1500.00   4068.50  388071.00  \n",
       "pay_amt6                     1500.00   4000.00  528666.00  \n",
       "default payment next month      0.00      0.00       1.00  "
      ]
     },
     "execution_count": 407,
     "metadata": {},
     "output_type": "execute_result"
    }
   ],
   "source": [
    "# take a look at summary statistics\n",
    "df.describe().T"
   ]
  },
  {
   "cell_type": "markdown",
   "metadata": {},
   "source": [
    "There are a bunch of min negative values in the `bill_amt` columns. This doesn't make sense to me, how can you have a negative bill? Also, wondering if max values for `bill_amt`, `limit_bal`, and `pay_amt` columns, should be bought down to within a certain amount of standard deviations away from the mean. \n",
    "\n",
    "- Do something to handle negative values in `bill_amt` columns, perhaps map all negative values to 0.00?\n",
    "- Scale down outliers within 6 std away from mean for `bill_amt`, `limit_bal`, and `pay_amt` columns"
   ]
  },
  {
   "cell_type": "code",
   "execution_count": 408,
   "metadata": {},
   "outputs": [],
   "source": [
    "# list columns that have large variances\n",
    "outlier_cols = ['limit_bal','bill_amt1', 'bill_amt2', 'bill_amt3',\n",
    "        'bill_amt4', 'bill_amt5', 'bill_amt6', 'pay_amt1', 'pay_amt2',\n",
    "        'pay_amt3', 'pay_amt4', 'pay_amt5', 'pay_amt6']\n",
    "\n",
    "# loop over columns and anything above or under 6 std coerce them to 6 std respectively\n",
    "for feat in outlier_cols:\n",
    "    feat_mean = df[feat].mean()\n",
    "    feat_std = df[feat].std()\n",
    "    above_6std = feat_mean + 6 * feat_std\n",
    "    below_6std = feat_mean - 6 * feat_std\n",
    "    df[feat] = \\\n",
    "        np.where(df[feat] > above_6std, feat_mean + 6 * feat_std,\n",
    "                np.where(df[feat] < below_6std, feat_mean - 6 * feat_std, df[feat]))"
   ]
  },
  {
   "cell_type": "code",
   "execution_count": 409,
   "metadata": {},
   "outputs": [
    {
     "data": {
      "text/html": [
       "<div>\n",
       "<style scoped>\n",
       "    .dataframe tbody tr th:only-of-type {\n",
       "        vertical-align: middle;\n",
       "    }\n",
       "\n",
       "    .dataframe tbody tr th {\n",
       "        vertical-align: top;\n",
       "    }\n",
       "\n",
       "    .dataframe thead th {\n",
       "        text-align: right;\n",
       "    }\n",
       "</style>\n",
       "<table border=\"1\" class=\"dataframe\">\n",
       "  <thead>\n",
       "    <tr style=\"text-align: right;\">\n",
       "      <th></th>\n",
       "      <th>count</th>\n",
       "      <th>mean</th>\n",
       "      <th>std</th>\n",
       "      <th>min</th>\n",
       "      <th>25%</th>\n",
       "      <th>50%</th>\n",
       "      <th>75%</th>\n",
       "      <th>max</th>\n",
       "    </tr>\n",
       "    <tr>\n",
       "      <th>ID</th>\n",
       "      <th></th>\n",
       "      <th></th>\n",
       "      <th></th>\n",
       "      <th></th>\n",
       "      <th></th>\n",
       "      <th></th>\n",
       "      <th></th>\n",
       "      <th></th>\n",
       "    </tr>\n",
       "  </thead>\n",
       "  <tbody>\n",
       "    <tr>\n",
       "      <th>limit_bal</th>\n",
       "      <td>22499.00</td>\n",
       "      <td>167052.13</td>\n",
       "      <td>129850.13</td>\n",
       "      <td>10000.00</td>\n",
       "      <td>50000.00</td>\n",
       "      <td>140000.00</td>\n",
       "      <td>240000.00</td>\n",
       "      <td>946244.28</td>\n",
       "    </tr>\n",
       "    <tr>\n",
       "      <th>age</th>\n",
       "      <td>22499.00</td>\n",
       "      <td>35.45</td>\n",
       "      <td>9.24</td>\n",
       "      <td>21.00</td>\n",
       "      <td>28.00</td>\n",
       "      <td>34.00</td>\n",
       "      <td>41.00</td>\n",
       "      <td>75.00</td>\n",
       "    </tr>\n",
       "    <tr>\n",
       "      <th>bill_amt1</th>\n",
       "      <td>22499.00</td>\n",
       "      <td>51339.54</td>\n",
       "      <td>73632.62</td>\n",
       "      <td>-165580.00</td>\n",
       "      <td>3506.00</td>\n",
       "      <td>22387.00</td>\n",
       "      <td>66988.50</td>\n",
       "      <td>498277.41</td>\n",
       "    </tr>\n",
       "    <tr>\n",
       "      <th>bill_amt2</th>\n",
       "      <td>22499.00</td>\n",
       "      <td>49258.40</td>\n",
       "      <td>71026.84</td>\n",
       "      <td>-69777.00</td>\n",
       "      <td>2975.00</td>\n",
       "      <td>21145.00</td>\n",
       "      <td>63755.00</td>\n",
       "      <td>481108.20</td>\n",
       "    </tr>\n",
       "    <tr>\n",
       "      <th>bill_amt3</th>\n",
       "      <td>22499.00</td>\n",
       "      <td>46863.38</td>\n",
       "      <td>68227.04</td>\n",
       "      <td>-157264.00</td>\n",
       "      <td>2611.50</td>\n",
       "      <td>20053.00</td>\n",
       "      <td>60161.00</td>\n",
       "      <td>466549.65</td>\n",
       "    </tr>\n",
       "    <tr>\n",
       "      <th>bill_amt4</th>\n",
       "      <td>22499.00</td>\n",
       "      <td>43179.45</td>\n",
       "      <td>63507.84</td>\n",
       "      <td>-81334.00</td>\n",
       "      <td>2319.50</td>\n",
       "      <td>19048.00</td>\n",
       "      <td>54494.50</td>\n",
       "      <td>430971.68</td>\n",
       "    </tr>\n",
       "    <tr>\n",
       "      <th>bill_amt5</th>\n",
       "      <td>22499.00</td>\n",
       "      <td>40168.27</td>\n",
       "      <td>59857.59</td>\n",
       "      <td>-81334.00</td>\n",
       "      <td>1732.50</td>\n",
       "      <td>18050.00</td>\n",
       "      <td>50196.00</td>\n",
       "      <td>405820.33</td>\n",
       "    </tr>\n",
       "    <tr>\n",
       "      <th>bill_amt6</th>\n",
       "      <td>22499.00</td>\n",
       "      <td>38822.16</td>\n",
       "      <td>58741.21</td>\n",
       "      <td>-319683.87</td>\n",
       "      <td>1230.00</td>\n",
       "      <td>16924.00</td>\n",
       "      <td>49250.00</td>\n",
       "      <td>397593.87</td>\n",
       "    </tr>\n",
       "    <tr>\n",
       "      <th>pay_amt1</th>\n",
       "      <td>22499.00</td>\n",
       "      <td>5274.66</td>\n",
       "      <td>11361.79</td>\n",
       "      <td>0.00</td>\n",
       "      <td>1000.00</td>\n",
       "      <td>2100.00</td>\n",
       "      <td>5002.00</td>\n",
       "      <td>105396.89</td>\n",
       "    </tr>\n",
       "    <tr>\n",
       "      <th>pay_amt2</th>\n",
       "      <td>22499.00</td>\n",
       "      <td>5532.25</td>\n",
       "      <td>13905.39</td>\n",
       "      <td>0.00</td>\n",
       "      <td>829.00</td>\n",
       "      <td>2004.00</td>\n",
       "      <td>5000.00</td>\n",
       "      <td>152626.60</td>\n",
       "    </tr>\n",
       "    <tr>\n",
       "      <th>pay_amt3</th>\n",
       "      <td>22499.00</td>\n",
       "      <td>4877.83</td>\n",
       "      <td>12015.17</td>\n",
       "      <td>0.00</td>\n",
       "      <td>396.00</td>\n",
       "      <td>1800.00</td>\n",
       "      <td>4500.00</td>\n",
       "      <td>114180.24</td>\n",
       "    </tr>\n",
       "    <tr>\n",
       "      <th>pay_amt4</th>\n",
       "      <td>22499.00</td>\n",
       "      <td>4433.05</td>\n",
       "      <td>11024.77</td>\n",
       "      <td>0.00</td>\n",
       "      <td>284.00</td>\n",
       "      <td>1500.00</td>\n",
       "      <td>4000.00</td>\n",
       "      <td>100030.12</td>\n",
       "    </tr>\n",
       "    <tr>\n",
       "      <th>pay_amt5</th>\n",
       "      <td>22499.00</td>\n",
       "      <td>4501.91</td>\n",
       "      <td>11115.71</td>\n",
       "      <td>0.00</td>\n",
       "      <td>246.50</td>\n",
       "      <td>1500.00</td>\n",
       "      <td>4068.50</td>\n",
       "      <td>97910.35</td>\n",
       "    </tr>\n",
       "    <tr>\n",
       "      <th>pay_amt6</th>\n",
       "      <td>22499.00</td>\n",
       "      <td>4828.36</td>\n",
       "      <td>12955.63</td>\n",
       "      <td>0.00</td>\n",
       "      <td>100.00</td>\n",
       "      <td>1500.00</td>\n",
       "      <td>4000.00</td>\n",
       "      <td>112601.24</td>\n",
       "    </tr>\n",
       "    <tr>\n",
       "      <th>default payment next month</th>\n",
       "      <td>22499.00</td>\n",
       "      <td>0.22</td>\n",
       "      <td>0.42</td>\n",
       "      <td>0.00</td>\n",
       "      <td>0.00</td>\n",
       "      <td>0.00</td>\n",
       "      <td>0.00</td>\n",
       "      <td>1.00</td>\n",
       "    </tr>\n",
       "  </tbody>\n",
       "</table>\n",
       "</div>"
      ],
      "text/plain": [
       "                              count      mean       std        min      25%  \\\n",
       "ID                                                                            \n",
       "limit_bal                  22499.00 167052.13 129850.13   10000.00 50000.00   \n",
       "age                        22499.00     35.45      9.24      21.00    28.00   \n",
       "bill_amt1                  22499.00  51339.54  73632.62 -165580.00  3506.00   \n",
       "bill_amt2                  22499.00  49258.40  71026.84  -69777.00  2975.00   \n",
       "bill_amt3                  22499.00  46863.38  68227.04 -157264.00  2611.50   \n",
       "bill_amt4                  22499.00  43179.45  63507.84  -81334.00  2319.50   \n",
       "bill_amt5                  22499.00  40168.27  59857.59  -81334.00  1732.50   \n",
       "bill_amt6                  22499.00  38822.16  58741.21 -319683.87  1230.00   \n",
       "pay_amt1                   22499.00   5274.66  11361.79       0.00  1000.00   \n",
       "pay_amt2                   22499.00   5532.25  13905.39       0.00   829.00   \n",
       "pay_amt3                   22499.00   4877.83  12015.17       0.00   396.00   \n",
       "pay_amt4                   22499.00   4433.05  11024.77       0.00   284.00   \n",
       "pay_amt5                   22499.00   4501.91  11115.71       0.00   246.50   \n",
       "pay_amt6                   22499.00   4828.36  12955.63       0.00   100.00   \n",
       "default payment next month 22499.00      0.22      0.42       0.00     0.00   \n",
       "\n",
       "                                 50%       75%       max  \n",
       "ID                                                        \n",
       "limit_bal                  140000.00 240000.00 946244.28  \n",
       "age                            34.00     41.00     75.00  \n",
       "bill_amt1                   22387.00  66988.50 498277.41  \n",
       "bill_amt2                   21145.00  63755.00 481108.20  \n",
       "bill_amt3                   20053.00  60161.00 466549.65  \n",
       "bill_amt4                   19048.00  54494.50 430971.68  \n",
       "bill_amt5                   18050.00  50196.00 405820.33  \n",
       "bill_amt6                   16924.00  49250.00 397593.87  \n",
       "pay_amt1                     2100.00   5002.00 105396.89  \n",
       "pay_amt2                     2004.00   5000.00 152626.60  \n",
       "pay_amt3                     1800.00   4500.00 114180.24  \n",
       "pay_amt4                     1500.00   4000.00 100030.12  \n",
       "pay_amt5                     1500.00   4068.50  97910.35  \n",
       "pay_amt6                     1500.00   4000.00 112601.24  \n",
       "default payment next month      0.00      0.00      1.00  "
      ]
     },
     "execution_count": 409,
     "metadata": {},
     "output_type": "execute_result"
    }
   ],
   "source": [
    "df.describe().T"
   ]
  },
  {
   "cell_type": "markdown",
   "metadata": {},
   "source": [
    "#### Categorical Features"
   ]
  },
  {
   "cell_type": "markdown",
   "metadata": {},
   "source": [
    "Convert categorical variables in category data type."
   ]
  },
  {
   "cell_type": "code",
   "execution_count": 410,
   "metadata": {},
   "outputs": [
    {
     "name": "stdout",
     "output_type": "stream",
     "text": [
      "Object dtypes to be converted to category\n",
      "\n",
      "\n",
      "Index(['sex', 'education', 'marriage', 'pay_0', 'pay_2', 'pay_3', 'pay_4',\n",
      "       'pay_5', 'pay_6'],\n",
      "      dtype='object', name='ID')\n"
     ]
    }
   ],
   "source": [
    "print('Object dtypes to be converted to category')\n",
    "print('\\n')\n",
    "print(df.select_dtypes(['object']).columns)"
   ]
  },
  {
   "cell_type": "code",
   "execution_count": 411,
   "metadata": {},
   "outputs": [],
   "source": [
    "# convert objects to category dtype\n",
    "objcat = ['sex', 'education', 'marriage', 'pay_0', 'pay_2', 'pay_3', 'pay_4',\n",
    "       'pay_5', 'pay_6']\n",
    "\n",
    "for colname in objcat:\n",
    "    df[colname] = df[colname].astype('category')"
   ]
  },
  {
   "cell_type": "markdown",
   "metadata": {},
   "source": [
    "## Import income by demographics dataset"
   ]
  },
  {
   "cell_type": "code",
   "execution_count": 412,
   "metadata": {},
   "outputs": [],
   "source": [
    "# set options to display floats with two decimal place\n",
    "pd.set_option('display.float_format', '{:.2f}'.format)"
   ]
  },
  {
   "cell_type": "code",
   "execution_count": 413,
   "metadata": {},
   "outputs": [],
   "source": [
    "# read in income demographical dataset\n",
    "df2 = pd.read_excel('./data/income_sex_age_edu.xls', \n",
    "                    sheet_name='125,126', \n",
    "                    usecols='C,H', \n",
    "                    header=7, \n",
    "                    skiprows=2, \n",
    "                    nrows=20)"
   ]
  },
  {
   "cell_type": "code",
   "execution_count": 414,
   "metadata": {},
   "outputs": [
    {
     "data": {
      "text/html": [
       "<div>\n",
       "<style scoped>\n",
       "    .dataframe tbody tr th:only-of-type {\n",
       "        vertical-align: middle;\n",
       "    }\n",
       "\n",
       "    .dataframe tbody tr th {\n",
       "        vertical-align: top;\n",
       "    }\n",
       "\n",
       "    .dataframe thead th {\n",
       "        text-align: right;\n",
       "    }\n",
       "</style>\n",
       "<table border=\"1\" class=\"dataframe\">\n",
       "  <thead>\n",
       "    <tr style=\"text-align: right;\">\n",
       "      <th></th>\n",
       "      <th>income</th>\n",
       "      <th>Unnamed: 7</th>\n",
       "    </tr>\n",
       "  </thead>\n",
       "  <tbody>\n",
       "    <tr>\n",
       "      <th>0</th>\n",
       "      <td>nan</td>\n",
       "      <td>NaN</td>\n",
       "    </tr>\n",
       "    <tr>\n",
       "      <th>1</th>\n",
       "      <td>513477.28</td>\n",
       "      <td>All income recipients</td>\n",
       "    </tr>\n",
       "    <tr>\n",
       "      <th>2</th>\n",
       "      <td>nan</td>\n",
       "      <td>Sex</td>\n",
       "    </tr>\n",
       "    <tr>\n",
       "      <th>3</th>\n",
       "      <td>568403.33</td>\n",
       "      <td>Male</td>\n",
       "    </tr>\n",
       "    <tr>\n",
       "      <th>4</th>\n",
       "      <td>424122.21</td>\n",
       "      <td>Female</td>\n",
       "    </tr>\n",
       "    <tr>\n",
       "      <th>5</th>\n",
       "      <td>nan</td>\n",
       "      <td>Age</td>\n",
       "    </tr>\n",
       "    <tr>\n",
       "      <th>6</th>\n",
       "      <td>376191.94</td>\n",
       "      <td>Under 30 years</td>\n",
       "    </tr>\n",
       "    <tr>\n",
       "      <th>7</th>\n",
       "      <td>510716.67</td>\n",
       "      <td>30 ～ 34 years</td>\n",
       "    </tr>\n",
       "    <tr>\n",
       "      <th>8</th>\n",
       "      <td>571059.58</td>\n",
       "      <td>35 ～ 39 years</td>\n",
       "    </tr>\n",
       "    <tr>\n",
       "      <th>9</th>\n",
       "      <td>593171.35</td>\n",
       "      <td>40 ～ 44 years</td>\n",
       "    </tr>\n",
       "    <tr>\n",
       "      <th>10</th>\n",
       "      <td>613474.19</td>\n",
       "      <td>45 ～ 54 years</td>\n",
       "    </tr>\n",
       "    <tr>\n",
       "      <th>11</th>\n",
       "      <td>557730.70</td>\n",
       "      <td>55 ～ 64 years</td>\n",
       "    </tr>\n",
       "    <tr>\n",
       "      <th>12</th>\n",
       "      <td>362868.01</td>\n",
       "      <td>65 years and over</td>\n",
       "    </tr>\n",
       "    <tr>\n",
       "      <th>13</th>\n",
       "      <td>nan</td>\n",
       "      <td>Educational attainment</td>\n",
       "    </tr>\n",
       "    <tr>\n",
       "      <th>14</th>\n",
       "      <td>350928.94</td>\n",
       "      <td>Primary school and below</td>\n",
       "    </tr>\n",
       "    <tr>\n",
       "      <th>15</th>\n",
       "      <td>443357.16</td>\n",
       "      <td>Junior middle (vocational)</td>\n",
       "    </tr>\n",
       "    <tr>\n",
       "      <th>16</th>\n",
       "      <td>514627.59</td>\n",
       "      <td>High school</td>\n",
       "    </tr>\n",
       "    <tr>\n",
       "      <th>17</th>\n",
       "      <td>481232.09</td>\n",
       "      <td>Senior vocational school</td>\n",
       "    </tr>\n",
       "    <tr>\n",
       "      <th>18</th>\n",
       "      <td>619845.27</td>\n",
       "      <td>Junior college</td>\n",
       "    </tr>\n",
       "    <tr>\n",
       "      <th>19</th>\n",
       "      <td>715520.26</td>\n",
       "      <td>College and above</td>\n",
       "    </tr>\n",
       "  </tbody>\n",
       "</table>\n",
       "</div>"
      ],
      "text/plain": [
       "      income                    Unnamed: 7\n",
       "0        nan                           NaN\n",
       "1  513477.28         All income recipients\n",
       "2        nan                          　Sex\n",
       "3  568403.33                        　　Male\n",
       "4  424122.21                      　　Female\n",
       "5        nan                          　Age\n",
       "6  376191.94              　　Under 30 years\n",
       "7  510716.67               　　30 ～ 34 years\n",
       "8  571059.58               　　35 ～ 39 years\n",
       "9  593171.35               　　40 ～ 44 years\n",
       "10 613474.19               　　45 ～ 54 years\n",
       "11 557730.70               　　55 ～ 64 years\n",
       "12 362868.01           　　65 years and over\n",
       "13       nan       　Educational attainment\n",
       "14 350928.94    　　Primary school and below\n",
       "15 443357.16  　　Junior middle (vocational)\n",
       "16 514627.59                 　　High school\n",
       "17 481232.09    　　Senior vocational school\n",
       "18 619845.27              　　Junior college\n",
       "19 715520.26           　　College and above"
      ]
     },
     "execution_count": 414,
     "metadata": {},
     "output_type": "execute_result"
    }
   ],
   "source": [
    "df2"
   ]
  },
  {
   "cell_type": "code",
   "execution_count": 415,
   "metadata": {},
   "outputs": [],
   "source": [
    "# create new df without na rows\n",
    "df2 = df2[df2['income'].notna()]"
   ]
  },
  {
   "cell_type": "markdown",
   "metadata": {},
   "source": [
    "**Values from df to be matched with df2**\n",
    "\n",
    "_Gender_ (1 = male; 2 = female).\n",
    "\n",
    "_Education_ (1 = graduate school; 2 = university; 3 = high school; 4 = others).\n",
    "- graduate school (1) = college and above\n",
    "- university (2) = junior college\n",
    "- high school (3) = high school\n",
    "- other (4) = a weighted average of: senior vocational school, junior middle and primary school and below\n",
    "\n",
    "_Age_ (year).\n",
    "- bin into values specificed by df2\n"
   ]
  },
  {
   "cell_type": "code",
   "execution_count": 416,
   "metadata": {},
   "outputs": [],
   "source": [
    "# transpose income df\n",
    "df2 = df2.T"
   ]
  },
  {
   "cell_type": "code",
   "execution_count": 417,
   "metadata": {},
   "outputs": [
    {
     "data": {
      "text/html": [
       "<div>\n",
       "<style scoped>\n",
       "    .dataframe tbody tr th:only-of-type {\n",
       "        vertical-align: middle;\n",
       "    }\n",
       "\n",
       "    .dataframe tbody tr th {\n",
       "        vertical-align: top;\n",
       "    }\n",
       "\n",
       "    .dataframe thead th {\n",
       "        text-align: right;\n",
       "    }\n",
       "</style>\n",
       "<table border=\"1\" class=\"dataframe\">\n",
       "  <thead>\n",
       "    <tr style=\"text-align: right;\">\n",
       "      <th></th>\n",
       "      <th>1</th>\n",
       "      <th>3</th>\n",
       "      <th>4</th>\n",
       "      <th>6</th>\n",
       "      <th>7</th>\n",
       "      <th>8</th>\n",
       "      <th>9</th>\n",
       "      <th>10</th>\n",
       "      <th>11</th>\n",
       "      <th>12</th>\n",
       "      <th>14</th>\n",
       "      <th>15</th>\n",
       "      <th>16</th>\n",
       "      <th>17</th>\n",
       "      <th>18</th>\n",
       "      <th>19</th>\n",
       "    </tr>\n",
       "  </thead>\n",
       "  <tbody>\n",
       "    <tr>\n",
       "      <th>income</th>\n",
       "      <td>513477.28</td>\n",
       "      <td>568403.33</td>\n",
       "      <td>424122.21</td>\n",
       "      <td>376191.94</td>\n",
       "      <td>510716.67</td>\n",
       "      <td>571059.58</td>\n",
       "      <td>593171.35</td>\n",
       "      <td>613474.19</td>\n",
       "      <td>557730.70</td>\n",
       "      <td>362868.01</td>\n",
       "      <td>350928.94</td>\n",
       "      <td>443357.16</td>\n",
       "      <td>514627.59</td>\n",
       "      <td>481232.09</td>\n",
       "      <td>619845.27</td>\n",
       "      <td>715520.26</td>\n",
       "    </tr>\n",
       "    <tr>\n",
       "      <th>Unnamed: 7</th>\n",
       "      <td>All income recipients</td>\n",
       "      <td>Male</td>\n",
       "      <td>Female</td>\n",
       "      <td>Under 30 years</td>\n",
       "      <td>30 ～ 34 years</td>\n",
       "      <td>35 ～ 39 years</td>\n",
       "      <td>40 ～ 44 years</td>\n",
       "      <td>45 ～ 54 years</td>\n",
       "      <td>55 ～ 64 years</td>\n",
       "      <td>65 years and over</td>\n",
       "      <td>Primary school and below</td>\n",
       "      <td>Junior middle (vocational)</td>\n",
       "      <td>High school</td>\n",
       "      <td>Senior vocational school</td>\n",
       "      <td>Junior college</td>\n",
       "      <td>College and above</td>\n",
       "    </tr>\n",
       "  </tbody>\n",
       "</table>\n",
       "</div>"
      ],
      "text/plain": [
       "                               1         3         4                 6   \\\n",
       "income                  513477.28 568403.33 424122.21         376191.94   \n",
       "Unnamed: 7  All income recipients    　　Male  　　Female  　　Under 30 years   \n",
       "\n",
       "                         7                8                9   \\\n",
       "income            510716.67        571059.58        593171.35   \n",
       "Unnamed: 7  　　30 ～ 34 years  　　35 ～ 39 years  　　40 ～ 44 years   \n",
       "\n",
       "                         10               11                   12  \\\n",
       "income            613474.19        557730.70            362868.01   \n",
       "Unnamed: 7  　　45 ～ 54 years  　　55 ～ 64 years  　　65 years and over   \n",
       "\n",
       "                                    14                            15  \\\n",
       "income                       350928.94                     443357.16   \n",
       "Unnamed: 7  　　Primary school and below  　　Junior middle (vocational)   \n",
       "\n",
       "                       16                          17                18  \\\n",
       "income          514627.59                   481232.09         619845.27   \n",
       "Unnamed: 7  　　High school  　　Senior vocational school  　　Junior college   \n",
       "\n",
       "                             19  \n",
       "income                715520.26  \n",
       "Unnamed: 7  　　College and above  "
      ]
     },
     "execution_count": 417,
     "metadata": {},
     "output_type": "execute_result"
    }
   ],
   "source": [
    "df2"
   ]
  },
  {
   "cell_type": "code",
   "execution_count": 418,
   "metadata": {},
   "outputs": [],
   "source": [
    "# assign variable row as header\n",
    "df2.columns = df2.iloc[1]"
   ]
  },
  {
   "cell_type": "code",
   "execution_count": 419,
   "metadata": {},
   "outputs": [],
   "source": [
    "# delete row 1\n",
    "df2.drop(df2.index[1], axis=0, inplace=True)"
   ]
  },
  {
   "cell_type": "code",
   "execution_count": 420,
   "metadata": {
    "scrolled": true
   },
   "outputs": [
    {
     "data": {
      "text/plain": [
       "Index(['All income recipients', '　　Male', '　　Female', '　　Under 30 years',\n",
       "       '　　30 ～ 34 years', '　　35 ～ 39 years', '　　40 ～ 44 years',\n",
       "       '　　45 ～ 54 years', '　　55 ～ 64 years', '　　65 years and over',\n",
       "       '　　Primary school and below', '　　Junior middle (vocational)',\n",
       "       '　　High school', '　　Senior vocational school', '　　Junior college',\n",
       "       '　　College and above'],\n",
       "      dtype='object', name='Unnamed: 7')"
      ]
     },
     "execution_count": 420,
     "metadata": {},
     "output_type": "execute_result"
    }
   ],
   "source": [
    "df2.columns"
   ]
  },
  {
   "cell_type": "code",
   "execution_count": 421,
   "metadata": {},
   "outputs": [],
   "source": [
    "# strip leading or trailing spaces in column headers\n",
    "df2.columns = df2.columns.str.strip()"
   ]
  },
  {
   "cell_type": "code",
   "execution_count": 422,
   "metadata": {},
   "outputs": [],
   "source": [
    "# rename columns\n",
    "\n",
    "df2.rename(columns={'All income recipients': 'avg_income_all', 'Male':'male', 'Female':'female', 'Under 30 years':'under_30',\n",
    "       '30 ～ 34 years':'30_34yo', '35 ～ 39 years':'35_39yo', '40 ～ 44 years':'40_44yo','45 ～ 54 years':'45_54yo', \n",
    "       '55 ～ 64 years':'55_64yo', '65 years and over':'65plus','Primary school and below':'prim_school_below', \n",
    "       'Junior middle (vocational)':'jun_mid_voc','High school':'hs', 'Senior vocational school':'sen_voc', \n",
    "       'Junior college':'jun_coll','College and above':'coll_above'}, inplace=True)"
   ]
  },
  {
   "cell_type": "code",
   "execution_count": 423,
   "metadata": {},
   "outputs": [
    {
     "data": {
      "text/html": [
       "<div>\n",
       "<style scoped>\n",
       "    .dataframe tbody tr th:only-of-type {\n",
       "        vertical-align: middle;\n",
       "    }\n",
       "\n",
       "    .dataframe tbody tr th {\n",
       "        vertical-align: top;\n",
       "    }\n",
       "\n",
       "    .dataframe thead th {\n",
       "        text-align: right;\n",
       "    }\n",
       "</style>\n",
       "<table border=\"1\" class=\"dataframe\">\n",
       "  <thead>\n",
       "    <tr style=\"text-align: right;\">\n",
       "      <th>Unnamed: 7</th>\n",
       "      <th>avg_income_all</th>\n",
       "      <th>male</th>\n",
       "      <th>female</th>\n",
       "      <th>under_30</th>\n",
       "      <th>30_34yo</th>\n",
       "      <th>35_39yo</th>\n",
       "      <th>40_44yo</th>\n",
       "      <th>45_54yo</th>\n",
       "      <th>55_64yo</th>\n",
       "      <th>65plus</th>\n",
       "      <th>prim_school_below</th>\n",
       "      <th>jun_mid_voc</th>\n",
       "      <th>hs</th>\n",
       "      <th>sen_voc</th>\n",
       "      <th>jun_coll</th>\n",
       "      <th>coll_above</th>\n",
       "    </tr>\n",
       "  </thead>\n",
       "  <tbody>\n",
       "    <tr>\n",
       "      <th>income</th>\n",
       "      <td>513477.28</td>\n",
       "      <td>568403.33</td>\n",
       "      <td>424122.21</td>\n",
       "      <td>376191.94</td>\n",
       "      <td>510716.67</td>\n",
       "      <td>571059.58</td>\n",
       "      <td>593171.35</td>\n",
       "      <td>613474.19</td>\n",
       "      <td>557730.70</td>\n",
       "      <td>362868.01</td>\n",
       "      <td>350928.94</td>\n",
       "      <td>443357.16</td>\n",
       "      <td>514627.59</td>\n",
       "      <td>481232.09</td>\n",
       "      <td>619845.27</td>\n",
       "      <td>715520.26</td>\n",
       "    </tr>\n",
       "  </tbody>\n",
       "</table>\n",
       "</div>"
      ],
      "text/plain": [
       "Unnamed: 7 avg_income_all      male    female  under_30   30_34yo   35_39yo  \\\n",
       "income          513477.28 568403.33 424122.21 376191.94 510716.67 571059.58   \n",
       "\n",
       "Unnamed: 7   40_44yo   45_54yo   55_64yo    65plus prim_school_below  \\\n",
       "income     593171.35 613474.19 557730.70 362868.01         350928.94   \n",
       "\n",
       "Unnamed: 7 jun_mid_voc        hs   sen_voc  jun_coll coll_above  \n",
       "income       443357.16 514627.59 481232.09 619845.27  715520.26  "
      ]
     },
     "execution_count": 423,
     "metadata": {},
     "output_type": "execute_result"
    }
   ],
   "source": [
    "df2"
   ]
  },
  {
   "cell_type": "code",
   "execution_count": 424,
   "metadata": {},
   "outputs": [],
   "source": [
    "# merge avg income sex\n",
    "df['avg_income_sex'] = \\\n",
    "    np.where(df['sex'] == '1', df2['male'].values, \n",
    "             np.where(df['sex'] == '2', int(df2['female'].values), df['sex']))"
   ]
  },
  {
   "cell_type": "code",
   "execution_count": 425,
   "metadata": {},
   "outputs": [],
   "source": [
    "# merge avg income age\n",
    "age_cols = ['under_30', '30_34yo', '35_39yo','40_44yo', '45_54yo', '55_64yo', '65plus']\n",
    "\n",
    "# np.select conditions\n",
    "age_conditions = [\n",
    "    (df['age'] < 30),\n",
    "    (df['age'] >= 30) & (df['age'] <= 34),\n",
    "    (df['age'] >= 35) & (df['age'] <= 39),\n",
    "    (df['age'] >= 40) & (df['age'] <= 44),\n",
    "    (df['age'] >= 45) & (df['age'] <= 54),\n",
    "    (df['age'] >= 55) & (df['age'] <= 64),\n",
    "    (df['age'] >= 65)\n",
    "]\n",
    "\n",
    "#np.select values\n",
    "age_values = [\n",
    "    df2['under_30'].values, \n",
    "    df2['30_34yo'].values, \n",
    "    df2['35_39yo'].values, \n",
    "    df2['40_44yo'].values, \n",
    "    df2['45_54yo'].values, \n",
    "    df2['55_64yo'].values, \n",
    "    df2['65plus'].values\n",
    "]\n",
    "\n",
    "# loop over age_cols to populate new column with np.select\n",
    "for age in age_cols:\n",
    "    df['avg_income_age'] = np.select(age_conditions, age_values)"
   ]
  },
  {
   "cell_type": "code",
   "execution_count": 426,
   "metadata": {},
   "outputs": [],
   "source": [
    "# merge education columns \n",
    "edu_cols = ['prim_school_below','jun_mid_voc', 'hs', 'sen_voc', 'jun_coll', 'coll_above']\n",
    "\n",
    "# conditions\n",
    "edu_conditions =[\n",
    "    (df['education'] == '0'),\n",
    "    (df['education'] == '1'),\n",
    "    (df['education'] == '2'),\n",
    "    (df['education'] == '3'),\n",
    "    (df['education'] == '4'),\n",
    "    (df['education'] == '5'),\n",
    "    (df['education'] == '6')\n",
    "]\n",
    "\n",
    "# values\n",
    "edu_values = [\n",
    "    df2[['sen_voc', 'jun_mid_voc', 'prim_school_below']].values.mean(), \n",
    "    df2['coll_above'].values,\n",
    "    df2['jun_coll'].values,\n",
    "    df2['hs'].values,\n",
    "    df2[['sen_voc', 'jun_mid_voc', 'prim_school_below']].values.mean(),\n",
    "    df2[['sen_voc', 'jun_mid_voc', 'prim_school_below']].values.mean(),\n",
    "    df2[['sen_voc', 'jun_mid_voc', 'prim_school_below']].values.mean() \n",
    "]\n",
    "    \n",
    "for edu in edu_cols:\n",
    "    df['avg_income_edu'] = np.select(edu_conditions, edu_values)"
   ]
  },
  {
   "cell_type": "markdown",
   "metadata": {},
   "source": [
    "X3: Education (1 = graduate school; 2 = university; 3 = high school; 4 = others)."
   ]
  },
  {
   "cell_type": "code",
   "execution_count": 427,
   "metadata": {},
   "outputs": [
    {
     "data": {
      "text/html": [
       "<div>\n",
       "<style scoped>\n",
       "    .dataframe tbody tr th:only-of-type {\n",
       "        vertical-align: middle;\n",
       "    }\n",
       "\n",
       "    .dataframe tbody tr th {\n",
       "        vertical-align: top;\n",
       "    }\n",
       "\n",
       "    .dataframe thead th {\n",
       "        text-align: right;\n",
       "    }\n",
       "</style>\n",
       "<table border=\"1\" class=\"dataframe\">\n",
       "  <thead>\n",
       "    <tr style=\"text-align: right;\">\n",
       "      <th>ID</th>\n",
       "      <th>limit_bal</th>\n",
       "      <th>sex</th>\n",
       "      <th>education</th>\n",
       "      <th>marriage</th>\n",
       "      <th>age</th>\n",
       "      <th>pay_0</th>\n",
       "      <th>pay_2</th>\n",
       "      <th>pay_3</th>\n",
       "      <th>pay_4</th>\n",
       "      <th>pay_5</th>\n",
       "      <th>pay_6</th>\n",
       "      <th>bill_amt1</th>\n",
       "      <th>...</th>\n",
       "      <th>bill_amt5</th>\n",
       "      <th>bill_amt6</th>\n",
       "      <th>pay_amt1</th>\n",
       "      <th>pay_amt2</th>\n",
       "      <th>pay_amt3</th>\n",
       "      <th>pay_amt4</th>\n",
       "      <th>pay_amt5</th>\n",
       "      <th>pay_amt6</th>\n",
       "      <th>default payment next month</th>\n",
       "      <th>avg_income_sex</th>\n",
       "      <th>avg_income_age</th>\n",
       "      <th>avg_income_edu</th>\n",
       "    </tr>\n",
       "  </thead>\n",
       "  <tbody>\n",
       "    <tr>\n",
       "      <th>28835</th>\n",
       "      <td>220000.00</td>\n",
       "      <td>2</td>\n",
       "      <td>1</td>\n",
       "      <td>2</td>\n",
       "      <td>36</td>\n",
       "      <td>0</td>\n",
       "      <td>0</td>\n",
       "      <td>0</td>\n",
       "      <td>0</td>\n",
       "      <td>0</td>\n",
       "      <td>0</td>\n",
       "      <td>222598.00</td>\n",
       "      <td>...</td>\n",
       "      <td>181859.00</td>\n",
       "      <td>184605.00</td>\n",
       "      <td>10000.00</td>\n",
       "      <td>8018.00</td>\n",
       "      <td>10121.00</td>\n",
       "      <td>6006.00</td>\n",
       "      <td>10987.00</td>\n",
       "      <td>112601.24</td>\n",
       "      <td>1</td>\n",
       "      <td>424122</td>\n",
       "      <td>571059.58</td>\n",
       "      <td>715520.26</td>\n",
       "    </tr>\n",
       "    <tr>\n",
       "      <th>25329</th>\n",
       "      <td>200000.00</td>\n",
       "      <td>2</td>\n",
       "      <td>3</td>\n",
       "      <td>2</td>\n",
       "      <td>29</td>\n",
       "      <td>-1</td>\n",
       "      <td>-1</td>\n",
       "      <td>-1</td>\n",
       "      <td>-1</td>\n",
       "      <td>-1</td>\n",
       "      <td>-1</td>\n",
       "      <td>326.00</td>\n",
       "      <td>...</td>\n",
       "      <td>326.00</td>\n",
       "      <td>326.00</td>\n",
       "      <td>326.00</td>\n",
       "      <td>326.00</td>\n",
       "      <td>326.00</td>\n",
       "      <td>326.00</td>\n",
       "      <td>326.00</td>\n",
       "      <td>326.00</td>\n",
       "      <td>0</td>\n",
       "      <td>424122</td>\n",
       "      <td>376191.94</td>\n",
       "      <td>514627.59</td>\n",
       "    </tr>\n",
       "    <tr>\n",
       "      <th>18894</th>\n",
       "      <td>180000.00</td>\n",
       "      <td>2</td>\n",
       "      <td>1</td>\n",
       "      <td>2</td>\n",
       "      <td>27</td>\n",
       "      <td>-2</td>\n",
       "      <td>-2</td>\n",
       "      <td>-2</td>\n",
       "      <td>-2</td>\n",
       "      <td>-2</td>\n",
       "      <td>-2</td>\n",
       "      <td>0.00</td>\n",
       "      <td>...</td>\n",
       "      <td>0.00</td>\n",
       "      <td>0.00</td>\n",
       "      <td>0.00</td>\n",
       "      <td>0.00</td>\n",
       "      <td>0.00</td>\n",
       "      <td>0.00</td>\n",
       "      <td>0.00</td>\n",
       "      <td>0.00</td>\n",
       "      <td>0</td>\n",
       "      <td>424122</td>\n",
       "      <td>376191.94</td>\n",
       "      <td>715520.26</td>\n",
       "    </tr>\n",
       "    <tr>\n",
       "      <th>690</th>\n",
       "      <td>80000.00</td>\n",
       "      <td>1</td>\n",
       "      <td>2</td>\n",
       "      <td>2</td>\n",
       "      <td>32</td>\n",
       "      <td>0</td>\n",
       "      <td>0</td>\n",
       "      <td>0</td>\n",
       "      <td>0</td>\n",
       "      <td>0</td>\n",
       "      <td>0</td>\n",
       "      <td>51372.00</td>\n",
       "      <td>...</td>\n",
       "      <td>42256.00</td>\n",
       "      <td>42527.00</td>\n",
       "      <td>1853.00</td>\n",
       "      <td>1700.00</td>\n",
       "      <td>1522.00</td>\n",
       "      <td>1548.00</td>\n",
       "      <td>1488.00</td>\n",
       "      <td>1500.00</td>\n",
       "      <td>0</td>\n",
       "      <td>568403.33</td>\n",
       "      <td>510716.67</td>\n",
       "      <td>619845.27</td>\n",
       "    </tr>\n",
       "    <tr>\n",
       "      <th>6239</th>\n",
       "      <td>10000.00</td>\n",
       "      <td>1</td>\n",
       "      <td>2</td>\n",
       "      <td>2</td>\n",
       "      <td>27</td>\n",
       "      <td>0</td>\n",
       "      <td>0</td>\n",
       "      <td>0</td>\n",
       "      <td>0</td>\n",
       "      <td>0</td>\n",
       "      <td>0</td>\n",
       "      <td>8257.00</td>\n",
       "      <td>...</td>\n",
       "      <td>2639.00</td>\n",
       "      <td>2697.00</td>\n",
       "      <td>2000.00</td>\n",
       "      <td>1100.00</td>\n",
       "      <td>600.00</td>\n",
       "      <td>300.00</td>\n",
       "      <td>300.00</td>\n",
       "      <td>1000.00</td>\n",
       "      <td>1</td>\n",
       "      <td>568403.33</td>\n",
       "      <td>376191.94</td>\n",
       "      <td>619845.27</td>\n",
       "    </tr>\n",
       "  </tbody>\n",
       "</table>\n",
       "<p>5 rows × 27 columns</p>\n",
       "</div>"
      ],
      "text/plain": [
       "ID     limit_bal sex education marriage  age pay_0 pay_2 pay_3 pay_4 pay_5  \\\n",
       "28835  220000.00   2         1        2   36     0     0     0     0     0   \n",
       "25329  200000.00   2         3        2   29    -1    -1    -1    -1    -1   \n",
       "18894  180000.00   2         1        2   27    -2    -2    -2    -2    -2   \n",
       "690     80000.00   1         2        2   32     0     0     0     0     0   \n",
       "6239    10000.00   1         2        2   27     0     0     0     0     0   \n",
       "\n",
       "ID    pay_6  bill_amt1  ...  bill_amt5  bill_amt6  pay_amt1  pay_amt2  \\\n",
       "28835     0  222598.00  ...  181859.00  184605.00  10000.00   8018.00   \n",
       "25329    -1     326.00  ...     326.00     326.00    326.00    326.00   \n",
       "18894    -2       0.00  ...       0.00       0.00      0.00      0.00   \n",
       "690       0   51372.00  ...   42256.00   42527.00   1853.00   1700.00   \n",
       "6239      0    8257.00  ...    2639.00    2697.00   2000.00   1100.00   \n",
       "\n",
       "ID     pay_amt3  pay_amt4  pay_amt5  pay_amt6  default payment next month  \\\n",
       "28835  10121.00   6006.00  10987.00 112601.24                           1   \n",
       "25329    326.00    326.00    326.00    326.00                           0   \n",
       "18894      0.00      0.00      0.00      0.00                           0   \n",
       "690     1522.00   1548.00   1488.00   1500.00                           0   \n",
       "6239     600.00    300.00    300.00   1000.00                           1   \n",
       "\n",
       "ID     avg_income_sex  avg_income_age  avg_income_edu  \n",
       "28835          424122       571059.58       715520.26  \n",
       "25329          424122       376191.94       514627.59  \n",
       "18894          424122       376191.94       715520.26  \n",
       "690         568403.33       510716.67       619845.27  \n",
       "6239        568403.33       376191.94       619845.27  \n",
       "\n",
       "[5 rows x 27 columns]"
      ]
     },
     "execution_count": 427,
     "metadata": {},
     "output_type": "execute_result"
    }
   ],
   "source": [
    "df.head()"
   ]
  },
  {
   "cell_type": "markdown",
   "metadata": {},
   "source": [
    "## EDA"
   ]
  },
  {
   "cell_type": "markdown",
   "metadata": {},
   "source": [
    "### Target Variable"
   ]
  },
  {
   "cell_type": "code",
   "execution_count": 428,
   "metadata": {},
   "outputs": [
    {
     "data": {
      "image/png": "[encoded data removed]",
      "text/plain": [
       "<Figure size 864x576 with 1 Axes>"
      ]
     },
     "metadata": {},
     "output_type": "display_data"
    }
   ],
   "source": [
    "plt.figure(figsize=(12,8))\n",
    "sns.countplot(df['default payment next month'], alpha = .80)\n",
    "plt.title('Default vs Non-Default', fontsize=16)\n",
    "plt.ylabel('# of customers')\n",
    "plt.show()"
   ]
  },
  {
   "cell_type": "code",
   "execution_count": 429,
   "metadata": {},
   "outputs": [
    {
     "name": "stdout",
     "output_type": "stream",
     "text": [
      "0   0.78\n",
      "1   0.22\n",
      "Name: default payment next month, dtype: float64\n",
      "\n",
      "\n",
      "0    17471\n",
      "1     5028\n",
      "Name: default payment next month, dtype: int64\n"
     ]
    }
   ],
   "source": [
    "print(df['default payment next month'].value_counts(normalize=True))\n",
    "print('\\n')\n",
    "print(df['default payment next month'].value_counts())"
   ]
  },
  {
   "cell_type": "markdown",
   "metadata": {},
   "source": [
    "**Observations Target Variable**\n",
    "- The majority of customers or **78%** did NOT default on their credit card payment for next month"
   ]
  },
  {
   "cell_type": "markdown",
   "metadata": {},
   "source": [
    "### Target vs Numeric Features"
   ]
  },
  {
   "cell_type": "code",
   "execution_count": 430,
   "metadata": {},
   "outputs": [
    {
     "data": {
      "image/png": "[encoded data removed]",
      "text/plain": [
       "<Figure size 1152x720 with 1 Axes>"
      ]
     },
     "metadata": {},
     "output_type": "display_data"
    }
   ],
   "source": [
    "# Plot Age vs. Balance Limit\n",
    "fig = plt.figure(figsize=(16,10))\n",
    "\n",
    "ax1 = fig.add_subplot()\n",
    "ax1.scatter(\n",
    "    x = df[df['default payment next month'] == 0].age, \n",
    "    y = df[df['default payment next month'] == 0].limit_bal,\n",
    "    alpha = .50, edgecolor = 'black', c = 'grey', s = 75,\n",
    "    label = 'Did not default')\n",
    "\n",
    "ax1.scatter(\n",
    "    x = df[df['default payment next month'] == 1].age,\n",
    "    y = df[df['default payment next month'] == 1].limit_bal,\n",
    "    alpha = .50, edgecolors = 'black', c = 'lightblue', s = 75,\n",
    "    label = 'Defaulted')\n",
    "ax1.set_title('Age vs Balance Lmit', fontsize=16)\n",
    "ax1.set_ylabel('Balance Limit')\n",
    "ax1.set_xlabel('Age')\n",
    "ax1.legend()\n",
    "\n",
    "plt.show()\n"
   ]
  },
  {
   "cell_type": "code",
   "execution_count": 431,
   "metadata": {},
   "outputs": [
    {
     "name": "stdout",
     "output_type": "stream",
     "text": [
      "Statistical summary of Age and Balance Limit\n",
      "\n",
      "\n",
      "Defaulted\n",
      "             count      mean       std      min      25%       50%       75%  \\\n",
      "ID                                                                             \n",
      "age       17471.00     35.38      9.07    21.00    28.00     34.00     41.00   \n",
      "limit_bal 17471.00 177916.45 131689.80 10000.00 60000.00 150000.00 250000.00   \n",
      "\n",
      "                max  \n",
      "ID                   \n",
      "age           75.00  \n",
      "limit_bal 946244.28  \n",
      "\n",
      "\n",
      "Non-default\n",
      "            count      mean       std      min      25%      50%       75%  \\\n",
      "ID                                                                           \n",
      "age       5028.00     35.70      9.80    21.00    28.00    34.00     42.00   \n",
      "limit_bal 5028.00 129301.45 115571.18 10000.00 50000.00 90000.00 190000.00   \n",
      "\n",
      "                max  \n",
      "ID                   \n",
      "age           75.00  \n",
      "limit_bal 720000.00  \n"
     ]
    }
   ],
   "source": [
    "print('Statistical summary of Age and Balance Limit')\n",
    "print('\\n')\n",
    "print('Defaulted')\n",
    "print(df[df['default payment next month']==0][['age', 'limit_bal']].describe().T)\n",
    "print('\\n')\n",
    "print('Non-default')\n",
    "print(df[df['default payment next month']==1][['age', 'limit_bal']].describe().T)"
   ]
  },
  {
   "cell_type": "code",
   "execution_count": null,
   "metadata": {},
   "outputs": [],
   "source": []
  },
  {
   "cell_type": "markdown",
   "metadata": {},
   "source": [
    "**Age vs Balance Limit**\n",
    "\n",
    "- Not much difference between mean age of those who defaulted or did not default\n",
    "- Higher balance limit correlates with default 177k vs. 123k"
   ]
  },
  {
   "cell_type": "markdown",
   "metadata": {},
   "source": [
    "### Bill amount distributions"
   ]
  },
  {
   "cell_type": "markdown",
   "metadata": {},
   "source": [
    "Vanilla model is basically just predicting everyone did not default, therefore accuracy is 77% and all other scores besides precision are non-existent."
   ]
  },
  {
   "cell_type": "code",
   "execution_count": 432,
   "metadata": {},
   "outputs": [
    {
     "data": {
      "image/png": "[encoded data removed]",
      "text/plain": [
       "<Figure size 1440x1440 with 6 Axes>"
      ]
     },
     "metadata": {},
     "output_type": "display_data"
    }
   ],
   "source": [
    "# create list for bill amount columns\n",
    "bill_col = ['bill_amt1', 'bill_amt2','bill_amt3', 'bill_amt4', 'bill_amt5', 'bill_amt6']\n",
    "\n",
    "# look at histograms for distributions of bill amounts\n",
    "fig = plt.figure(figsize=(20,20))\n",
    "ax = fig.gca()\n",
    "df[bill_col].hist(ax = ax);"
   ]
  },
  {
   "cell_type": "markdown",
   "metadata": {},
   "source": [
    "### Observations\n",
    "- Most bill amounts for the 6 months prior were 0 by far\n",
    "- A few major outliers skew the distribution"
   ]
  },
  {
   "cell_type": "markdown",
   "metadata": {},
   "source": [
    "## Pay amount distributions"
   ]
  },
  {
   "cell_type": "code",
   "execution_count": 433,
   "metadata": {
    "scrolled": true
   },
   "outputs": [
    {
     "data": {
      "image/png": "[encoded data removed]",
      "text/plain": [
       "<Figure size 1440x1440 with 6 Axes>"
      ]
     },
     "metadata": {},
     "output_type": "display_data"
    }
   ],
   "source": [
    "# create list for pay amount columns\n",
    "pay_col = ['pay_amt1','pay_amt2', 'pay_amt3', 'pay_amt4', 'pay_amt5', 'pay_amt6']\n",
    "\n",
    "# look at histograms for distributions of bill amounts\n",
    "fig = plt.figure(figsize=(20,20))\n",
    "ax = fig.gca()\n",
    "df[pay_col].hist(ax = ax);"
   ]
  },
  {
   "cell_type": "markdown",
   "metadata": {},
   "source": [
    "### Observations\n",
    "- Most payment amounts were under 1000\n",
    "- Distribution is very skewed, meaning outliers cause and issue. \n",
    "- may need to log transform to get distributions normal\n",
    "- also could be interesting to zip each bill amount with pay amount in a bar graph, with default and not\n",
    "- or make scatter plots of bill amt vs bill pay and default not default."
   ]
  },
  {
   "cell_type": "code",
   "execution_count": 434,
   "metadata": {},
   "outputs": [
    {
     "data": {
      "text/plain": [
       "Index(['limit_bal', 'sex', 'education', 'marriage', 'age', 'pay_0', 'pay_2',\n",
       "       'pay_3', 'pay_4', 'pay_5', 'pay_6', 'bill_amt1', 'bill_amt2',\n",
       "       'bill_amt3', 'bill_amt4', 'bill_amt5', 'bill_amt6', 'pay_amt1',\n",
       "       'pay_amt2', 'pay_amt3', 'pay_amt4', 'pay_amt5', 'pay_amt6',\n",
       "       'default payment next month', 'avg_income_sex', 'avg_income_age',\n",
       "       'avg_income_edu'],\n",
       "      dtype='object', name='ID')"
      ]
     },
     "execution_count": 434,
     "metadata": {},
     "output_type": "execute_result"
    }
   ],
   "source": [
    "df.columns"
   ]
  },
  {
   "cell_type": "markdown",
   "metadata": {},
   "source": [
    "### Categorical features"
   ]
  },
  {
   "cell_type": "code",
   "execution_count": 435,
   "metadata": {
    "scrolled": true
   },
   "outputs": [
    {
     "data": {
      "text/plain": [
       "Index(['sex', 'education', 'marriage', 'pay_0', 'pay_2', 'pay_3', 'pay_4',\n",
       "       'pay_5', 'pay_6'],\n",
       "      dtype='object', name='ID')"
      ]
     },
     "execution_count": 435,
     "metadata": {},
     "output_type": "execute_result"
    }
   ],
   "source": [
    "df.select_dtypes(['category']).columns"
   ]
  },
  {
   "cell_type": "code",
   "execution_count": 436,
   "metadata": {},
   "outputs": [
    {
     "data": {
      "image/png": "[encoded data removed]",
      "text/plain": [
       "<Figure size 1080x360 with 3 Axes>"
      ]
     },
     "metadata": {},
     "output_type": "display_data"
    }
   ],
   "source": [
    "# Suplots of categorical features\n",
    "f, axes = plt.subplots(1,3, figsize = (15,5))\n",
    "\n",
    "# Plot [0]\n",
    "sns.countplot(x = 'sex', data = df, ax = axes[0])\n",
    "axes[0].set_xlabel('sex')\n",
    "axes[0].set_ylabel('# Customers')\n",
    "axes[0].set_title('Gender of Customers')\n",
    "\n",
    "# Plot [1]\n",
    "sns.countplot(x = 'education', data = df, ax = axes[1])\n",
    "axes[1].set_xlabel('Education')\n",
    "axes[1].set_ylabel('# Customers')\n",
    "axes[1].set_title('Education')\n",
    "\n",
    "# Plot [2]\n",
    "sns.countplot( x = 'marriage', data = df, ax =  axes[2])\n",
    "axes[2].set_xlabel('Marriage')\n",
    "axes[2].set_ylabel('# Customers')\n",
    "axes[2].set_title('Marraiage Status')\n",
    "\n",
    "plt.show()"
   ]
  },
  {
   "cell_type": "markdown",
   "metadata": {},
   "source": [
    "**Observations**\n",
    "- Customers where mostly female\n",
    "- Education level was mostly (2) = university, followed by (1) = graduate school\n",
    "- Marriage status was primarily (2) single, but closely followed by (1) married. "
   ]
  },
  {
   "cell_type": "markdown",
   "metadata": {},
   "source": [
    "### Target vs. Categorical Features"
   ]
  },
  {
   "cell_type": "code",
   "execution_count": 437,
   "metadata": {},
   "outputs": [
    {
     "data": {
      "image/png": "[encoded data removed]",
      "text/plain": [
       "<Figure size 720x1800 with 3 Axes>"
      ]
     },
     "metadata": {},
     "output_type": "display_data"
    }
   ],
   "source": [
    "# subplots of categorical vs default\n",
    "fig, axes = plt.subplots(3, 1, figsize= (10,25))\n",
    "\n",
    "# sex vs. target\n",
    "sex = df.groupby(['sex', 'default payment next month']).sex.count().unstack()\n",
    "\n",
    "p1 = sex.plot(\n",
    "    kind='bar', stacked = True, title = 'Customers by Sex: Default vs. Non-default', \n",
    "    alpha=.80, ax = axes[0])\n",
    "p1.set_xlabel('Sex')\n",
    "p1.set_ylabel('# Customers')\n",
    "p1.legend(['Default', 'Non-default'])\n",
    "\n",
    "# edu vs target\n",
    "edu = df.groupby(['education', 'default payment next month']).education.count().unstack()\n",
    "\n",
    "p2 = edu.plot(\n",
    "    kind='bar', stacked = True, title = 'Customers by Education: Default vs. Non-default', \n",
    "    alpha=.80, ax = axes[1])\n",
    "p2.set_xlabel('Education')\n",
    "p2.set_ylabel('# Customers')\n",
    "p2.legend(['Default', 'Non-default'])\n",
    "\n",
    "\n",
    "# marriage vs target\n",
    "sex = df.groupby(['marriage', 'default payment next month']).sex.count().unstack()\n",
    "\n",
    "s1 = sex.plot(\n",
    "    kind='bar', stacked = True, title = 'Customers by Marriage Status: Default vs. Non-default', \n",
    "    alpha=.80, ax = axes[2])\n",
    "s1.set_xlabel('Marriage Status')\n",
    "s1.set_ylabel('# Customers')\n",
    "s1.legend(['Default', 'Non-default'])\n",
    "\n",
    "plt.show()"
   ]
  },
  {
   "cell_type": "markdown",
   "metadata": {},
   "source": [
    "### Observations:\n",
    "- If you are married, you have a greater chance of defaulting on next months payment then if you are single\n",
    "- Education level is the biggest indicator here, if you have a university degree, yet no graduate degree you seem to  be more likely to default\n",
    "- Sex does not have much effect on payment default"
   ]
  },
  {
   "cell_type": "code",
   "execution_count": 438,
   "metadata": {},
   "outputs": [
    {
     "data": {
      "text/plain": [
       "education  default payment next month\n",
       "0          0                            0.00\n",
       "1          0                            0.28\n",
       "           1                            0.07\n",
       "2          0                            0.36\n",
       "           1                            0.11\n",
       "3          0                            0.12\n",
       "           1                            0.04\n",
       "4          0                            0.00\n",
       "           1                            0.00\n",
       "5          0                            0.01\n",
       "           1                            0.00\n",
       "6          0                            0.00\n",
       "           1                            0.00\n",
       "dtype: float64"
      ]
     },
     "execution_count": 438,
     "metadata": {},
     "output_type": "execute_result"
    }
   ],
   "source": [
    "edu = df.groupby(['education', 'default payment next month']).size() / len(df)\n",
    "edu"
   ]
  },
  {
   "cell_type": "code",
   "execution_count": 439,
   "metadata": {},
   "outputs": [
    {
     "data": {
      "text/plain": [
       "sex  default payment next month\n",
       "1    0                            0.30\n",
       "     1                            0.10\n",
       "2    0                            0.48\n",
       "     1                            0.13\n",
       "dtype: float64"
      ]
     },
     "execution_count": 439,
     "metadata": {},
     "output_type": "execute_result"
    }
   ],
   "source": [
    "sex = df.groupby(['sex', 'default payment next month']).size() / len(df)\n",
    "sex"
   ]
  },
  {
   "cell_type": "code",
   "execution_count": 440,
   "metadata": {},
   "outputs": [
    {
     "data": {
      "text/plain": [
       "marriage  default payment next month\n",
       "0         0                            0.00\n",
       "          1                            0.00\n",
       "1         0                            0.35\n",
       "          1                            0.11\n",
       "2         0                            0.42\n",
       "          1                            0.11\n",
       "3         0                            0.01\n",
       "          1                            0.00\n",
       "dtype: float64"
      ]
     },
     "execution_count": 440,
     "metadata": {},
     "output_type": "execute_result"
    }
   ],
   "source": [
    "marriage = df.groupby(['marriage', 'default payment next month']).size() / len(df)\n",
    "marriage"
   ]
  },
  {
   "cell_type": "markdown",
   "metadata": {},
   "source": [
    "### Investigate relationship of previous payments to target"
   ]
  },
  {
   "cell_type": "code",
   "execution_count": 441,
   "metadata": {},
   "outputs": [
    {
     "data": {
      "text/html": [
       "<div>\n",
       "<style scoped>\n",
       "    .dataframe tbody tr th:only-of-type {\n",
       "        vertical-align: middle;\n",
       "    }\n",
       "\n",
       "    .dataframe tbody tr th {\n",
       "        vertical-align: top;\n",
       "    }\n",
       "\n",
       "    .dataframe thead th {\n",
       "        text-align: right;\n",
       "    }\n",
       "</style>\n",
       "<table border=\"1\" class=\"dataframe\">\n",
       "  <thead>\n",
       "    <tr style=\"text-align: right;\">\n",
       "      <th>default payment next month</th>\n",
       "      <th>0</th>\n",
       "      <th>1</th>\n",
       "    </tr>\n",
       "    <tr>\n",
       "      <th>pay_0</th>\n",
       "      <th></th>\n",
       "      <th></th>\n",
       "    </tr>\n",
       "  </thead>\n",
       "  <tbody>\n",
       "    <tr>\n",
       "      <th>-1</th>\n",
       "      <td>3550.00</td>\n",
       "      <td>722.00</td>\n",
       "    </tr>\n",
       "    <tr>\n",
       "      <th>-2</th>\n",
       "      <td>1780.00</td>\n",
       "      <td>268.00</td>\n",
       "    </tr>\n",
       "    <tr>\n",
       "      <th>0</th>\n",
       "      <td>9589.00</td>\n",
       "      <td>1468.00</td>\n",
       "    </tr>\n",
       "    <tr>\n",
       "      <th>1</th>\n",
       "      <td>1841.00</td>\n",
       "      <td>909.00</td>\n",
       "    </tr>\n",
       "    <tr>\n",
       "      <th>2</th>\n",
       "      <td>618.00</td>\n",
       "      <td>1414.00</td>\n",
       "    </tr>\n",
       "    <tr>\n",
       "      <th>3</th>\n",
       "      <td>55.00</td>\n",
       "      <td>184.00</td>\n",
       "    </tr>\n",
       "    <tr>\n",
       "      <th>4</th>\n",
       "      <td>16.00</td>\n",
       "      <td>35.00</td>\n",
       "    </tr>\n",
       "    <tr>\n",
       "      <th>5</th>\n",
       "      <td>9.00</td>\n",
       "      <td>11.00</td>\n",
       "    </tr>\n",
       "    <tr>\n",
       "      <th>6</th>\n",
       "      <td>5.00</td>\n",
       "      <td>4.00</td>\n",
       "    </tr>\n",
       "    <tr>\n",
       "      <th>7</th>\n",
       "      <td>nan</td>\n",
       "      <td>6.00</td>\n",
       "    </tr>\n",
       "    <tr>\n",
       "      <th>8</th>\n",
       "      <td>8.00</td>\n",
       "      <td>7.00</td>\n",
       "    </tr>\n",
       "  </tbody>\n",
       "</table>\n",
       "</div>"
      ],
      "text/plain": [
       "default payment next month       0       1\n",
       "pay_0                                     \n",
       "-1                         3550.00  722.00\n",
       "-2                         1780.00  268.00\n",
       "0                          9589.00 1468.00\n",
       "1                          1841.00  909.00\n",
       "2                           618.00 1414.00\n",
       "3                            55.00  184.00\n",
       "4                            16.00   35.00\n",
       "5                             9.00   11.00\n",
       "6                             5.00    4.00\n",
       "7                              nan    6.00\n",
       "8                             8.00    7.00"
      ]
     },
     "execution_count": 441,
     "metadata": {},
     "output_type": "execute_result"
    }
   ],
   "source": [
    "\n",
    "april = df.groupby(['pay_0', 'default payment next month']).pay_0.count().unstack()\n",
    "april"
   ]
  },
  {
   "cell_type": "code",
   "execution_count": 442,
   "metadata": {},
   "outputs": [
    {
     "data": {
      "image/png": "[encoded data removed]",
      "text/plain": [
       "<Figure size 1080x2880 with 6 Axes>"
      ]
     },
     "metadata": {},
     "output_type": "display_data"
    }
   ],
   "source": [
    "pay_cols = ['pay_0', 'pay_2','pay_3', 'pay_4', 'pay_5', 'pay_6']\n",
    "\n",
    "fig, axes = plt.subplots(6,1, figsize = (15,40))\n",
    "\n",
    "apr = df.groupby(['pay_0', 'default payment next month']).pay_0.count().unstack()\n",
    "p1 = apr.plot(\n",
    "    kind='bar', stacked = True, \n",
    "    title = 'April 2005 payment and Default', ax = axes[0])\n",
    "p1.set_xlabel('Payment code')\n",
    "p1.set_ylabel('Counts')\n",
    "p1.legend(['Non-default', 'Default'])\n",
    "\n",
    "may = df.groupby(['pay_0', 'default payment next month']).pay_2.count().unstack()\n",
    "p1 = may.plot(\n",
    "    kind='bar', stacked = True, \n",
    "    title = 'May 2005 payment and Default', ax = axes[1])\n",
    "p1.set_xlabel('Payment code')\n",
    "p1.set_ylabel('Counts')\n",
    "p1.legend(['Non-default', 'Default'])\n",
    "\n",
    "jun = df.groupby(['pay_3', 'default payment next month']).pay_3.count().unstack()\n",
    "p1 = jun.plot(\n",
    "    kind='bar', stacked = True, \n",
    "    title = 'June 2005 payment and Default', ax = axes[2])\n",
    "p1.set_xlabel('Payment code')\n",
    "p1.set_ylabel('Counts')\n",
    "p1.legend(['Non-default', 'Default'])\n",
    "\n",
    "jul = df.groupby(['pay_4', 'default payment next month']).pay_4.count().unstack()\n",
    "p1 = jul.plot(\n",
    "    kind='bar', stacked = True, \n",
    "    title = 'July 2005 payment and Default', ax = axes[3])\n",
    "p1.set_xlabel('Payment code')\n",
    "p1.set_ylabel('Counts')\n",
    "p1.legend(['Non-default', 'Default'])\n",
    "\n",
    "aug = df.groupby(['pay_5', 'default payment next month']).pay_5.count().unstack()\n",
    "p1 = aug.plot(\n",
    "    kind='bar', stacked = True, \n",
    "    title = 'August 2005 payment and Default', ax = axes[4])\n",
    "p1.set_xlabel('Payment code')\n",
    "p1.set_ylabel('Counts')\n",
    "p1.legend(['Non-default', 'Default'])\n",
    "\n",
    "sept = df.groupby(['pay_6', 'default payment next month']).pay_6.count().unstack()\n",
    "p1 = sept.plot(\n",
    "    kind='bar', stacked = True, \n",
    "    title = 'September 2005 payment and Default', ax = axes[5])\n",
    "p1.set_xlabel('Payment code')\n",
    "p1.set_ylabel('Counts')\n",
    "p1.legend(['Non-default', 'Default'])\n",
    "\n",
    "plt.show()"
   ]
  },
  {
   "cell_type": "markdown",
   "metadata": {},
   "source": [
    "**Observations**\n",
    "- payment delay for 2 months had a significant impact on whether they defaulted on payment the next month\n",
    "- if more then 2 months of default almost 100% defualt rate\n"
   ]
  },
  {
   "cell_type": "markdown",
   "metadata": {},
   "source": [
    "## 3. Feature Engineering"
   ]
  },
  {
   "cell_type": "markdown",
   "metadata": {},
   "source": [
    "Some ideas thus far:\n",
    "- add up all bill amount column\n",
    "- add up pay amount column\n",
    "- subtract sum of bill amount vs. pay amount\n",
    "- subtract sum of bill vs. pay, then subtract from balance limit to get highest available credit\n",
    "- create a debt to income ratio column\n",
    "- make all categorical columns dummies\n",
    "- column that creates an interaction between married and university degree, they seem to create incidents of defaulting on next months payment\n",
    "- if payment status is >2 then they have a much higher change of defaulting, maybe create a column for anyone that had a pay > 2?\n",
    "- log transform numerical data \n",
    "- scale prior to fitting to log regression model"
   ]
  },
  {
   "cell_type": "code",
   "execution_count": 443,
   "metadata": {},
   "outputs": [
    {
     "data": {
      "text/plain": [
       "Index(['limit_bal', 'sex', 'education', 'marriage', 'age', 'pay_0', 'pay_2',\n",
       "       'pay_3', 'pay_4', 'pay_5', 'pay_6', 'bill_amt1', 'bill_amt2',\n",
       "       'bill_amt3', 'bill_amt4', 'bill_amt5', 'bill_amt6', 'pay_amt1',\n",
       "       'pay_amt2', 'pay_amt3', 'pay_amt4', 'pay_amt5', 'pay_amt6',\n",
       "       'default payment next month', 'avg_income_sex', 'avg_income_age',\n",
       "       'avg_income_edu'],\n",
       "      dtype='object', name='ID')"
      ]
     },
     "execution_count": 443,
     "metadata": {},
     "output_type": "execute_result"
    }
   ],
   "source": [
    "df.columns"
   ]
  },
  {
   "cell_type": "code",
   "execution_count": 444,
   "metadata": {},
   "outputs": [],
   "source": [
    "# create bill sum column\n",
    "\n",
    "df['bill_sum'] = df[['bill_amt1', 'bill_amt2','bill_amt3', 'bill_amt4', 'bill_amt5', 'bill_amt6']].sum(axis=1)"
   ]
  },
  {
   "cell_type": "code",
   "execution_count": 445,
   "metadata": {},
   "outputs": [],
   "source": [
    "# create pay sum column\n",
    "\n",
    "df['pay_sum'] = df[['pay_amt1','pay_amt2', 'pay_amt3', 'pay_amt4', 'pay_amt5', 'pay_amt6']].sum(axis=1)"
   ]
  },
  {
   "cell_type": "code",
   "execution_count": 446,
   "metadata": {},
   "outputs": [],
   "source": [
    "# subtract pay sum vs bill sum\n",
    "\n",
    "df['bill_diff_pay'] = df['bill_sum'] - df['pay_sum']"
   ]
  },
  {
   "cell_type": "code",
   "execution_count": 447,
   "metadata": {},
   "outputs": [],
   "source": [
    "# create a column that takes bill sum minus pay sum and subtracts from limit to create an available credit col\n",
    "\n",
    "df['bill_diff_pay_min_limit'] = df['limit_bal'] - df['bill_diff_pay']"
   ]
  },
  {
   "cell_type": "code",
   "execution_count": 448,
   "metadata": {},
   "outputs": [],
   "source": [
    "# create a general avg income column by avg together all the other avg income cols\n",
    "\n",
    "df['avg_income'] = df[['avg_income_sex', 'avg_income_age','avg_income_edu']].mean(axis=1)"
   ]
  },
  {
   "cell_type": "code",
   "execution_count": 449,
   "metadata": {},
   "outputs": [],
   "source": [
    "# create a debt to income ratio column\n",
    "# divide avg income by 2 because its yearly, and sum of bills is for 6 month period\n",
    "\n",
    "df['debt_to_income'] = df['bill_sum'] / (df['avg_income'] / 2)"
   ]
  },
  {
   "cell_type": "code",
   "execution_count": 450,
   "metadata": {},
   "outputs": [],
   "source": [
    "# create debt to income ratio over 75% percentile\n",
    "\n",
    "df['dti_75'] = np.where(df['debt_to_income'] > 1.29, 1, 0)"
   ]
  },
  {
   "cell_type": "code",
   "execution_count": 451,
   "metadata": {},
   "outputs": [],
   "source": [
    "# create column that is a bool for married with university degree\n",
    "\n",
    "df['married_univ'] = np.where((df['marriage'] == '1') & (df['education'] == '2'),1,0)"
   ]
  },
  {
   "cell_type": "markdown",
   "metadata": {},
   "source": [
    "### Dummy out all categorical data"
   ]
  },
  {
   "cell_type": "code",
   "execution_count": 452,
   "metadata": {},
   "outputs": [
    {
     "data": {
      "text/plain": [
       "Index(['sex', 'education', 'marriage', 'pay_0', 'pay_2', 'pay_3', 'pay_4',\n",
       "       'pay_5', 'pay_6'],\n",
       "      dtype='object', name='ID')"
      ]
     },
     "execution_count": 452,
     "metadata": {},
     "output_type": "execute_result"
    }
   ],
   "source": [
    "# get categorical features\n",
    "df.select_dtypes(['category']).columns"
   ]
  },
  {
   "cell_type": "code",
   "execution_count": 453,
   "metadata": {
    "scrolled": true
   },
   "outputs": [
    {
     "data": {
      "text/html": [
       "<div>\n",
       "<style scoped>\n",
       "    .dataframe tbody tr th:only-of-type {\n",
       "        vertical-align: middle;\n",
       "    }\n",
       "\n",
       "    .dataframe tbody tr th {\n",
       "        vertical-align: top;\n",
       "    }\n",
       "\n",
       "    .dataframe thead th {\n",
       "        text-align: right;\n",
       "    }\n",
       "</style>\n",
       "<table border=\"1\" class=\"dataframe\">\n",
       "  <thead>\n",
       "    <tr style=\"text-align: right;\">\n",
       "      <th></th>\n",
       "      <th>limit_bal</th>\n",
       "      <th>age</th>\n",
       "      <th>bill_amt1</th>\n",
       "      <th>bill_amt2</th>\n",
       "      <th>bill_amt3</th>\n",
       "      <th>bill_amt4</th>\n",
       "      <th>bill_amt5</th>\n",
       "      <th>bill_amt6</th>\n",
       "      <th>pay_amt1</th>\n",
       "      <th>pay_amt2</th>\n",
       "      <th>pay_amt3</th>\n",
       "      <th>pay_amt4</th>\n",
       "      <th>...</th>\n",
       "      <th>pay_5_6</th>\n",
       "      <th>pay_5_7</th>\n",
       "      <th>pay_5_8</th>\n",
       "      <th>pay_6_-2</th>\n",
       "      <th>pay_6_0</th>\n",
       "      <th>pay_6_2</th>\n",
       "      <th>pay_6_3</th>\n",
       "      <th>pay_6_4</th>\n",
       "      <th>pay_6_5</th>\n",
       "      <th>pay_6_6</th>\n",
       "      <th>pay_6_7</th>\n",
       "      <th>pay_6_8</th>\n",
       "    </tr>\n",
       "  </thead>\n",
       "  <tbody>\n",
       "    <tr>\n",
       "      <th>28835</th>\n",
       "      <td>220000.00</td>\n",
       "      <td>36</td>\n",
       "      <td>222598.00</td>\n",
       "      <td>222168.00</td>\n",
       "      <td>217900.00</td>\n",
       "      <td>221193.00</td>\n",
       "      <td>181859.00</td>\n",
       "      <td>184605.00</td>\n",
       "      <td>10000.00</td>\n",
       "      <td>8018.00</td>\n",
       "      <td>10121.00</td>\n",
       "      <td>6006.00</td>\n",
       "      <td>...</td>\n",
       "      <td>0</td>\n",
       "      <td>0</td>\n",
       "      <td>0</td>\n",
       "      <td>0</td>\n",
       "      <td>1</td>\n",
       "      <td>0</td>\n",
       "      <td>0</td>\n",
       "      <td>0</td>\n",
       "      <td>0</td>\n",
       "      <td>0</td>\n",
       "      <td>0</td>\n",
       "      <td>0</td>\n",
       "    </tr>\n",
       "    <tr>\n",
       "      <th>25329</th>\n",
       "      <td>200000.00</td>\n",
       "      <td>29</td>\n",
       "      <td>326.00</td>\n",
       "      <td>326.00</td>\n",
       "      <td>326.00</td>\n",
       "      <td>326.00</td>\n",
       "      <td>326.00</td>\n",
       "      <td>326.00</td>\n",
       "      <td>326.00</td>\n",
       "      <td>326.00</td>\n",
       "      <td>326.00</td>\n",
       "      <td>326.00</td>\n",
       "      <td>...</td>\n",
       "      <td>0</td>\n",
       "      <td>0</td>\n",
       "      <td>0</td>\n",
       "      <td>0</td>\n",
       "      <td>0</td>\n",
       "      <td>0</td>\n",
       "      <td>0</td>\n",
       "      <td>0</td>\n",
       "      <td>0</td>\n",
       "      <td>0</td>\n",
       "      <td>0</td>\n",
       "      <td>0</td>\n",
       "    </tr>\n",
       "    <tr>\n",
       "      <th>18894</th>\n",
       "      <td>180000.00</td>\n",
       "      <td>27</td>\n",
       "      <td>0.00</td>\n",
       "      <td>0.00</td>\n",
       "      <td>0.00</td>\n",
       "      <td>0.00</td>\n",
       "      <td>0.00</td>\n",
       "      <td>0.00</td>\n",
       "      <td>0.00</td>\n",
       "      <td>0.00</td>\n",
       "      <td>0.00</td>\n",
       "      <td>0.00</td>\n",
       "      <td>...</td>\n",
       "      <td>0</td>\n",
       "      <td>0</td>\n",
       "      <td>0</td>\n",
       "      <td>1</td>\n",
       "      <td>0</td>\n",
       "      <td>0</td>\n",
       "      <td>0</td>\n",
       "      <td>0</td>\n",
       "      <td>0</td>\n",
       "      <td>0</td>\n",
       "      <td>0</td>\n",
       "      <td>0</td>\n",
       "    </tr>\n",
       "    <tr>\n",
       "      <th>690</th>\n",
       "      <td>80000.00</td>\n",
       "      <td>32</td>\n",
       "      <td>51372.00</td>\n",
       "      <td>51872.00</td>\n",
       "      <td>47593.00</td>\n",
       "      <td>43882.00</td>\n",
       "      <td>42256.00</td>\n",
       "      <td>42527.00</td>\n",
       "      <td>1853.00</td>\n",
       "      <td>1700.00</td>\n",
       "      <td>1522.00</td>\n",
       "      <td>1548.00</td>\n",
       "      <td>...</td>\n",
       "      <td>0</td>\n",
       "      <td>0</td>\n",
       "      <td>0</td>\n",
       "      <td>0</td>\n",
       "      <td>1</td>\n",
       "      <td>0</td>\n",
       "      <td>0</td>\n",
       "      <td>0</td>\n",
       "      <td>0</td>\n",
       "      <td>0</td>\n",
       "      <td>0</td>\n",
       "      <td>0</td>\n",
       "    </tr>\n",
       "    <tr>\n",
       "      <th>6239</th>\n",
       "      <td>10000.00</td>\n",
       "      <td>27</td>\n",
       "      <td>8257.00</td>\n",
       "      <td>7995.00</td>\n",
       "      <td>4878.00</td>\n",
       "      <td>5444.00</td>\n",
       "      <td>2639.00</td>\n",
       "      <td>2697.00</td>\n",
       "      <td>2000.00</td>\n",
       "      <td>1100.00</td>\n",
       "      <td>600.00</td>\n",
       "      <td>300.00</td>\n",
       "      <td>...</td>\n",
       "      <td>0</td>\n",
       "      <td>0</td>\n",
       "      <td>0</td>\n",
       "      <td>0</td>\n",
       "      <td>1</td>\n",
       "      <td>0</td>\n",
       "      <td>0</td>\n",
       "      <td>0</td>\n",
       "      <td>0</td>\n",
       "      <td>0</td>\n",
       "      <td>0</td>\n",
       "      <td>0</td>\n",
       "    </tr>\n",
       "  </tbody>\n",
       "</table>\n",
       "<p>5 rows × 94 columns</p>\n",
       "</div>"
      ],
      "text/plain": [
       "       limit_bal  age  bill_amt1  bill_amt2  bill_amt3  bill_amt4  bill_amt5  \\\n",
       "28835  220000.00   36  222598.00  222168.00  217900.00  221193.00  181859.00   \n",
       "25329  200000.00   29     326.00     326.00     326.00     326.00     326.00   \n",
       "18894  180000.00   27       0.00       0.00       0.00       0.00       0.00   \n",
       "690     80000.00   32   51372.00   51872.00   47593.00   43882.00   42256.00   \n",
       "6239    10000.00   27    8257.00    7995.00    4878.00    5444.00    2639.00   \n",
       "\n",
       "       bill_amt6  pay_amt1  pay_amt2  pay_amt3  pay_amt4  ...  pay_5_6  \\\n",
       "28835  184605.00  10000.00   8018.00  10121.00   6006.00  ...        0   \n",
       "25329     326.00    326.00    326.00    326.00    326.00  ...        0   \n",
       "18894       0.00      0.00      0.00      0.00      0.00  ...        0   \n",
       "690     42527.00   1853.00   1700.00   1522.00   1548.00  ...        0   \n",
       "6239     2697.00   2000.00   1100.00    600.00    300.00  ...        0   \n",
       "\n",
       "       pay_5_7  pay_5_8 pay_6_-2 pay_6_0 pay_6_2  pay_6_3  pay_6_4  pay_6_5  \\\n",
       "28835        0        0        0       1       0        0        0        0   \n",
       "25329        0        0        0       0       0        0        0        0   \n",
       "18894        0        0        1       0       0        0        0        0   \n",
       "690          0        0        0       1       0        0        0        0   \n",
       "6239         0        0        0       1       0        0        0        0   \n",
       "\n",
       "       pay_6_6  pay_6_7  pay_6_8  \n",
       "28835        0        0        0  \n",
       "25329        0        0        0  \n",
       "18894        0        0        0  \n",
       "690          0        0        0  \n",
       "6239         0        0        0  \n",
       "\n",
       "[5 rows x 94 columns]"
      ]
     },
     "execution_count": 453,
     "metadata": {},
     "output_type": "execute_result"
    }
   ],
   "source": [
    "cat_list = ['sex', 'education', 'marriage', 'pay_0', 'pay_2', 'pay_3', 'pay_4','pay_5', 'pay_6']\n",
    "\n",
    "dummies = pd.get_dummies(df[cat_list], prefix=cat_list, drop_first=True)\n",
    "\n",
    "df = df.drop(cat_list, axis=1)\n",
    "\n",
    "df = pd.concat([df, dummies], axis=1)\n",
    "\n",
    "df.head()"
   ]
  },
  {
   "cell_type": "code",
   "execution_count": 454,
   "metadata": {},
   "outputs": [
    {
     "name": "stdout",
     "output_type": "stream",
     "text": [
      "<class 'pandas.core.frame.DataFrame'>\n",
      "Index: 22499 entries, 28835 to 7624\n",
      "Data columns (total 94 columns):\n",
      "limit_bal                     22499 non-null float64\n",
      "age                           22499 non-null int64\n",
      "bill_amt1                     22499 non-null float64\n",
      "bill_amt2                     22499 non-null float64\n",
      "bill_amt3                     22499 non-null float64\n",
      "bill_amt4                     22499 non-null float64\n",
      "bill_amt5                     22499 non-null float64\n",
      "bill_amt6                     22499 non-null float64\n",
      "pay_amt1                      22499 non-null float64\n",
      "pay_amt2                      22499 non-null float64\n",
      "pay_amt3                      22499 non-null float64\n",
      "pay_amt4                      22499 non-null float64\n",
      "pay_amt5                      22499 non-null float64\n",
      "pay_amt6                      22499 non-null float64\n",
      "default payment next month    22499 non-null int64\n",
      "avg_income_sex                22499 non-null object\n",
      "avg_income_age                22499 non-null object\n",
      "avg_income_edu                22499 non-null object\n",
      "bill_sum                      22499 non-null float64\n",
      "pay_sum                       22499 non-null float64\n",
      "bill_diff_pay                 22499 non-null float64\n",
      "bill_diff_pay_min_limit       22499 non-null float64\n",
      "avg_income                    22499 non-null float64\n",
      "debt_to_income                22499 non-null float64\n",
      "dti_75                        22499 non-null int64\n",
      "married_univ                  22499 non-null int64\n",
      "sex_2                         22499 non-null uint8\n",
      "education_1                   22499 non-null uint8\n",
      "education_2                   22499 non-null uint8\n",
      "education_3                   22499 non-null uint8\n",
      "education_4                   22499 non-null uint8\n",
      "education_5                   22499 non-null uint8\n",
      "education_6                   22499 non-null uint8\n",
      "marriage_1                    22499 non-null uint8\n",
      "marriage_2                    22499 non-null uint8\n",
      "marriage_3                    22499 non-null uint8\n",
      "pay_0_-2                      22499 non-null uint8\n",
      "pay_0_0                       22499 non-null uint8\n",
      "pay_0_1                       22499 non-null uint8\n",
      "pay_0_2                       22499 non-null uint8\n",
      "pay_0_3                       22499 non-null uint8\n",
      "pay_0_4                       22499 non-null uint8\n",
      "pay_0_5                       22499 non-null uint8\n",
      "pay_0_6                       22499 non-null uint8\n",
      "pay_0_7                       22499 non-null uint8\n",
      "pay_0_8                       22499 non-null uint8\n",
      "pay_2_-2                      22499 non-null uint8\n",
      "pay_2_0                       22499 non-null uint8\n",
      "pay_2_1                       22499 non-null uint8\n",
      "pay_2_2                       22499 non-null uint8\n",
      "pay_2_3                       22499 non-null uint8\n",
      "pay_2_4                       22499 non-null uint8\n",
      "pay_2_5                       22499 non-null uint8\n",
      "pay_2_6                       22499 non-null uint8\n",
      "pay_2_7                       22499 non-null uint8\n",
      "pay_2_8                       22499 non-null uint8\n",
      "pay_3_-2                      22499 non-null uint8\n",
      "pay_3_0                       22499 non-null uint8\n",
      "pay_3_1                       22499 non-null uint8\n",
      "pay_3_2                       22499 non-null uint8\n",
      "pay_3_3                       22499 non-null uint8\n",
      "pay_3_4                       22499 non-null uint8\n",
      "pay_3_5                       22499 non-null uint8\n",
      "pay_3_6                       22499 non-null uint8\n",
      "pay_3_7                       22499 non-null uint8\n",
      "pay_3_8                       22499 non-null uint8\n",
      "pay_4_-2                      22499 non-null uint8\n",
      "pay_4_0                       22499 non-null uint8\n",
      "pay_4_1                       22499 non-null uint8\n",
      "pay_4_2                       22499 non-null uint8\n",
      "pay_4_3                       22499 non-null uint8\n",
      "pay_4_4                       22499 non-null uint8\n",
      "pay_4_5                       22499 non-null uint8\n",
      "pay_4_6                       22499 non-null uint8\n",
      "pay_4_7                       22499 non-null uint8\n",
      "pay_4_8                       22499 non-null uint8\n",
      "pay_5_-2                      22499 non-null uint8\n",
      "pay_5_0                       22499 non-null uint8\n",
      "pay_5_2                       22499 non-null uint8\n",
      "pay_5_3                       22499 non-null uint8\n",
      "pay_5_4                       22499 non-null uint8\n",
      "pay_5_5                       22499 non-null uint8\n",
      "pay_5_6                       22499 non-null uint8\n",
      "pay_5_7                       22499 non-null uint8\n",
      "pay_5_8                       22499 non-null uint8\n",
      "pay_6_-2                      22499 non-null uint8\n",
      "pay_6_0                       22499 non-null uint8\n",
      "pay_6_2                       22499 non-null uint8\n",
      "pay_6_3                       22499 non-null uint8\n",
      "pay_6_4                       22499 non-null uint8\n",
      "pay_6_5                       22499 non-null uint8\n",
      "pay_6_6                       22499 non-null uint8\n",
      "pay_6_7                       22499 non-null uint8\n",
      "pay_6_8                       22499 non-null uint8\n",
      "dtypes: float64(19), int64(4), object(3), uint8(68)\n",
      "memory usage: 6.7+ MB\n"
     ]
    }
   ],
   "source": [
    "df.info()"
   ]
  },
  {
   "cell_type": "markdown",
   "metadata": {},
   "source": [
    "## Model Fitting and Hyperparameter Tuning\n",
    "KNN, Logistic Regression, Decision Tree\n",
    "\n",
    "*Workflow tips*\n",
    "- fit knn, log reg, deceision tree\n",
    "- gridsearch see how it performs on test set for individual models, once you find best parameters\n",
    "- then do a voting classifer that is a combination of some of these models\n",
    "- did voting classifer on the test set perform any better then some of the other models did"
   ]
  },
  {
   "cell_type": "markdown",
   "metadata": {},
   "source": [
    "### Logistic Regression Model"
   ]
  },
  {
   "cell_type": "code",
   "execution_count": 455,
   "metadata": {
    "scrolled": true
   },
   "outputs": [
    {
     "name": "stdout",
     "output_type": "stream",
     "text": [
      "<class 'pandas.core.frame.DataFrame'>\n",
      "Index: 22499 entries, 28835 to 7624\n",
      "Data columns (total 67 columns):\n",
      "limit_bal                  22499 non-null float64\n",
      "age                        22499 non-null int64\n",
      "bill_amt1                  22499 non-null float64\n",
      "bill_amt2                  22499 non-null float64\n",
      "bill_amt4                  22499 non-null float64\n",
      "bill_amt5                  22499 non-null float64\n",
      "bill_amt6                  22499 non-null float64\n",
      "pay_amt1                   22499 non-null float64\n",
      "pay_amt2                   22499 non-null float64\n",
      "pay_amt3                   22499 non-null float64\n",
      "pay_amt6                   22499 non-null float64\n",
      "avg_income_age             22499 non-null object\n",
      "avg_income_edu             22499 non-null object\n",
      "pay_sum                    22499 non-null float64\n",
      "bill_diff_pay              22499 non-null float64\n",
      "bill_diff_pay_min_limit    22499 non-null float64\n",
      "avg_income                 22499 non-null float64\n",
      "education_1                22499 non-null uint8\n",
      "education_2                22499 non-null uint8\n",
      "education_3                22499 non-null uint8\n",
      "marriage_1                 22499 non-null uint8\n",
      "marriage_2                 22499 non-null uint8\n",
      "marriage_3                 22499 non-null uint8\n",
      "pay_0_-2                   22499 non-null uint8\n",
      "pay_0_0                    22499 non-null uint8\n",
      "pay_0_1                    22499 non-null uint8\n",
      "pay_0_2                    22499 non-null uint8\n",
      "pay_0_3                    22499 non-null uint8\n",
      "pay_0_4                    22499 non-null uint8\n",
      "pay_0_5                    22499 non-null uint8\n",
      "pay_0_6                    22499 non-null uint8\n",
      "pay_0_7                    22499 non-null uint8\n",
      "pay_0_8                    22499 non-null uint8\n",
      "pay_2_-2                   22499 non-null uint8\n",
      "pay_2_0                    22499 non-null uint8\n",
      "pay_2_1                    22499 non-null uint8\n",
      "pay_2_2                    22499 non-null uint8\n",
      "pay_2_4                    22499 non-null uint8\n",
      "pay_2_5                    22499 non-null uint8\n",
      "pay_2_6                    22499 non-null uint8\n",
      "pay_3_-2                   22499 non-null uint8\n",
      "pay_3_0                    22499 non-null uint8\n",
      "pay_3_1                    22499 non-null uint8\n",
      "pay_3_2                    22499 non-null uint8\n",
      "pay_3_3                    22499 non-null uint8\n",
      "pay_3_5                    22499 non-null uint8\n",
      "pay_3_6                    22499 non-null uint8\n",
      "pay_3_8                    22499 non-null uint8\n",
      "pay_4_-2                   22499 non-null uint8\n",
      "pay_4_1                    22499 non-null uint8\n",
      "pay_4_2                    22499 non-null uint8\n",
      "pay_4_5                    22499 non-null uint8\n",
      "pay_4_6                    22499 non-null uint8\n",
      "pay_4_7                    22499 non-null uint8\n",
      "pay_4_8                    22499 non-null uint8\n",
      "pay_5_0                    22499 non-null uint8\n",
      "pay_5_2                    22499 non-null uint8\n",
      "pay_5_3                    22499 non-null uint8\n",
      "pay_5_4                    22499 non-null uint8\n",
      "pay_5_6                    22499 non-null uint8\n",
      "pay_5_7                    22499 non-null uint8\n",
      "pay_6_0                    22499 non-null uint8\n",
      "pay_6_2                    22499 non-null uint8\n",
      "pay_6_3                    22499 non-null uint8\n",
      "pay_6_4                    22499 non-null uint8\n",
      "pay_6_7                    22499 non-null uint8\n",
      "pay_6_8                    22499 non-null uint8\n",
      "dtypes: float64(14), int64(1), object(2), uint8(50)\n",
      "memory usage: 4.8+ MB\n"
     ]
    }
   ],
   "source": [
    "# set X and y\n",
    "# current X values are from rfecv refit instead of all\n",
    "y = df['default payment next month']\n",
    "X = df[['limit_bal', 'age', 'bill_amt1', 'bill_amt2', 'bill_amt4', 'bill_amt5',\n",
    "       'bill_amt6', 'pay_amt1', 'pay_amt2', 'pay_amt3', 'pay_amt6',\n",
    "       'avg_income_age', 'avg_income_edu', 'pay_sum', 'bill_diff_pay',\n",
    "       'bill_diff_pay_min_limit', 'avg_income', 'education_1', 'education_2',\n",
    "       'education_3', 'marriage_1', 'marriage_2', 'marriage_3', 'pay_0_-2',\n",
    "       'pay_0_0', 'pay_0_1', 'pay_0_2', 'pay_0_3', 'pay_0_4', 'pay_0_5',\n",
    "       'pay_0_6', 'pay_0_7', 'pay_0_8', 'pay_2_-2', 'pay_2_0', 'pay_2_1',\n",
    "       'pay_2_2', 'pay_2_4', 'pay_2_5', 'pay_2_6', 'pay_3_-2', 'pay_3_0',\n",
    "       'pay_3_1', 'pay_3_2', 'pay_3_3', 'pay_3_5', 'pay_3_6', 'pay_3_8',\n",
    "       'pay_4_-2', 'pay_4_1', 'pay_4_2', 'pay_4_5', 'pay_4_6', 'pay_4_7',\n",
    "       'pay_4_8', 'pay_5_0', 'pay_5_2', 'pay_5_3', 'pay_5_4', 'pay_5_6',\n",
    "       'pay_5_7', 'pay_6_0', 'pay_6_2', 'pay_6_3', 'pay_6_4', 'pay_6_7',\n",
    "       'pay_6_8']]\n",
    "# X = df.drop(['default payment next month'], axis=1)\n",
    "# X = df[['limit_bal', 'age', 'bill_amt1', 'bill_amt2', 'bill_amt4', 'bill_amt5',\n",
    "#        'bill_amt6', 'pay_amt1', 'pay_amt2', 'pay_amt3', 'pay_amt6',\n",
    "#        'avg_income_age', 'avg_income_edu', 'pay_sum', 'bill_diff_pay',\n",
    "#        'bill_diff_pay_min_limit', 'avg_income', 'education_1', 'education_2',\n",
    "#        'education_3', 'marriage_1', 'marriage_2', 'marriage_3', 'pay_0_-2',\n",
    "#        'pay_0_0', 'pay_0_1', 'pay_0_2', 'pay_0_3', 'pay_0_4', 'pay_0_8',\n",
    "#        'pay_2_0', 'pay_2_2', 'pay_2_6', 'pay_3_-2', 'pay_3_1', 'pay_3_2',\n",
    "#        'pay_3_5', 'pay_3_6', 'pay_3_8', 'pay_4_-2', 'pay_4_1', 'pay_4_2',\n",
    "#        'pay_4_5', 'pay_4_6', 'pay_4_7', 'pay_4_8', 'pay_5_0', 'pay_5_2',\n",
    "#        'pay_5_3', 'pay_5_6', 'pay_5_7', 'pay_6_0', 'pay_6_3', 'pay_6_4',\n",
    "#        'pay_6_7', 'pay_6_8']]\n",
    "\n",
    "X.info()"
   ]
  },
  {
   "cell_type": "code",
   "execution_count": 456,
   "metadata": {},
   "outputs": [
    {
     "data": {
      "text/plain": [
       "LogisticRegression(class_weight='balanced', fit_intercept=False, n_jobs=-1,\n",
       "                   random_state=1, solver='liblinear')"
      ]
     },
     "execution_count": 456,
     "metadata": {},
     "output_type": "execute_result"
    }
   ],
   "source": [
    "# split train test split\n",
    "X_train, X_test, y_train, y_test = train_test_split(X, y, test_size=0.25, random_state=1)\n",
    "\n",
    "# scale data\n",
    "scaler = StandardScaler()\n",
    "scaler.fit(X_train)\n",
    "\n",
    "X_train = scaler.transform(X_train)\n",
    "X_test = scaler.transform(X_test)\n",
    "\n",
    "# instantiate model\n",
    "log_reg = LogisticRegression(\n",
    "    n_jobs=-1, \n",
    "    fit_intercept=False, \n",
    "    solver='liblinear', \n",
    "    class_weight='balanced', \n",
    "    random_state=1)\n",
    "\n",
    "# fit the model to training data\n",
    "model_log = log_reg.fit(X_train, y_train)\n",
    "\n",
    "model_log"
   ]
  },
  {
   "cell_type": "code",
   "execution_count": 457,
   "metadata": {},
   "outputs": [],
   "source": [
    "# predict on train and test\n",
    "y_pred_train_log = log_reg.predict(X_train)\n",
    "y_pred_test_log = log_reg.predict(X_test)"
   ]
  },
  {
   "cell_type": "code",
   "execution_count": 458,
   "metadata": {},
   "outputs": [
    {
     "name": "stdout",
     "output_type": "stream",
     "text": [
      "0    12957\n",
      "1     3917\n",
      "Name: default payment next month, dtype: int64\n",
      "0   0.77\n",
      "1   0.23\n",
      "Name: default payment next month, dtype: float64\n"
     ]
    }
   ],
   "source": [
    "# how many times was it correct on training\n",
    "residuals = np.abs(y_train - y_pred_train_log)\n",
    "print(pd.Series(residuals).value_counts())\n",
    "print(pd.Series(residuals).value_counts(normalize=True))"
   ]
  },
  {
   "cell_type": "code",
   "execution_count": 459,
   "metadata": {},
   "outputs": [
    {
     "name": "stdout",
     "output_type": "stream",
     "text": [
      "0    4322\n",
      "1    1303\n",
      "Name: default payment next month, dtype: int64\n",
      "0   0.77\n",
      "1   0.23\n",
      "Name: default payment next month, dtype: float64\n"
     ]
    }
   ],
   "source": [
    "# how many times correct on test\n",
    "residuals = np.abs(y_test - y_pred_test_log)\n",
    "print(pd.Series(residuals).value_counts())\n",
    "print(pd.Series(residuals).value_counts(normalize=True))"
   ]
  },
  {
   "cell_type": "code",
   "execution_count": 460,
   "metadata": {},
   "outputs": [
    {
     "name": "stdout",
     "output_type": "stream",
     "text": [
      "Training Precision:  0.4832474226804124\n",
      "Testing Precision:  0.4881889763779528\n",
      "\n",
      "\n",
      "\n",
      "Training Recall:  0.5982451475671364\n",
      "Testing Recall:  0.5872138910812944\n",
      "\n",
      "\n",
      "\n",
      "Training Accuracy:  0.7678677254948442\n",
      "Testing Accuracy:  0.7683555555555556\n",
      "\n",
      "\n",
      "\n",
      "Training F1-Score:  0.534632291790424\n",
      "Testing F1-Score:  0.5331422429236834\n"
     ]
    }
   ],
   "source": [
    "print('Training Precision: ', precision_score(y_train, y_pred_train_log))\n",
    "print('Testing Precision: ', precision_score(y_test, y_pred_test_log))\n",
    "print('\\n\\n')\n",
    "\n",
    "print('Training Recall: ', recall_score(y_train, y_pred_train_log))\n",
    "print('Testing Recall: ', recall_score(y_test, y_pred_test_log))\n",
    "print('\\n\\n')\n",
    "\n",
    "print('Training Accuracy: ', accuracy_score(y_train, y_pred_train_log))\n",
    "print('Testing Accuracy: ', accuracy_score(y_test, y_pred_test_log))\n",
    "print('\\n\\n')\n",
    "\n",
    "print('Training F1-Score: ', f1_score(y_train, y_pred_train_log))\n",
    "print('Testing F1-Score: ', f1_score(y_test, y_pred_test_log))"
   ]
  },
  {
   "cell_type": "code",
   "execution_count": 461,
   "metadata": {
    "scrolled": true
   },
   "outputs": [
    {
     "data": {
      "image/png": "[encoded data removed]",
      "text/plain": [
       "<Figure size 432x288 with 2 Axes>"
      ]
     },
     "metadata": {},
     "output_type": "display_data"
    }
   ],
   "source": [
    "# confusion matrix for test set\n",
    "\n",
    "plot_confusion_matrix(log_reg, X_test, y_test, display_labels=[\"Non-default\", \"Default\"],\n",
    "                      values_format=\".5g\")\n",
    "plt.grid(False) # removes the annoying grid lines from plot\n",
    "plt.show()\n"
   ]
  },
  {
   "cell_type": "markdown",
   "metadata": {},
   "source": [
    "## Feature Selection"
   ]
  },
  {
   "cell_type": "code",
   "execution_count": 380,
   "metadata": {},
   "outputs": [
    {
     "name": "stdout",
     "output_type": "stream",
     "text": [
      "Fitting estimator with 67 features.\n",
      "Fitting estimator with 66 features.\n",
      "Fitting estimator with 65 features.\n",
      "Fitting estimator with 64 features.\n"
     ]
    }
   ],
   "source": [
    "lr = LogisticRegression()\n",
    "selector = RFECV(estimator=lr, step=1, cv=5, scoring='f1', n_jobs=-1, verbose=1)\n",
    "selector.fit(X_train, y_train)\n",
    "rfe_features = X.columns[(selector.get_support())]"
   ]
  },
  {
   "cell_type": "code",
   "execution_count": 235,
   "metadata": {},
   "outputs": [
    {
     "data": {
      "text/plain": [
       "Index(['limit_bal', 'age', 'bill_amt1', 'bill_amt2', 'bill_amt4', 'bill_amt5',\n",
       "       'bill_amt6', 'pay_amt1', 'pay_amt2', 'pay_amt3', 'pay_amt6',\n",
       "       'avg_income_age', 'avg_income_edu', 'pay_sum', 'bill_diff_pay',\n",
       "       'bill_diff_pay_min_limit', 'avg_income', 'education_1', 'education_2',\n",
       "       'education_3', 'marriage_1', 'marriage_2', 'marriage_3', 'pay_0_-2',\n",
       "       'pay_0_0', 'pay_0_1', 'pay_0_2', 'pay_0_3', 'pay_0_4', 'pay_0_5',\n",
       "       'pay_0_6', 'pay_0_7', 'pay_0_8', 'pay_2_-2', 'pay_2_0', 'pay_2_1',\n",
       "       'pay_2_2', 'pay_2_4', 'pay_2_5', 'pay_2_6', 'pay_3_-2', 'pay_3_0',\n",
       "       'pay_3_1', 'pay_3_2', 'pay_3_3', 'pay_3_5', 'pay_3_6', 'pay_3_8',\n",
       "       'pay_4_-2', 'pay_4_1', 'pay_4_2', 'pay_4_5', 'pay_4_6', 'pay_4_7',\n",
       "       'pay_4_8', 'pay_5_0', 'pay_5_2', 'pay_5_3', 'pay_5_4', 'pay_5_6',\n",
       "       'pay_5_7', 'pay_6_0', 'pay_6_2', 'pay_6_3', 'pay_6_4', 'pay_6_7',\n",
       "       'pay_6_8'],\n",
       "      dtype='object')"
      ]
     },
     "execution_count": 235,
     "metadata": {},
     "output_type": "execute_result"
    }
   ],
   "source": [
    "X.columns[(selector.get_support())]"
   ]
  },
  {
   "cell_type": "markdown",
   "metadata": {},
   "source": [
    "Decided to stick with all features."
   ]
  },
  {
   "cell_type": "markdown",
   "metadata": {},
   "source": [
    "### GridSearch Logistic Regression"
   ]
  },
  {
   "cell_type": "code",
   "execution_count": 381,
   "metadata": {},
   "outputs": [],
   "source": [
    "# create parameter list for logistic regression model\n",
    "params_dict_log={\n",
    "           'C': np.logspace(-1,1,5),\n",
    "           'solver':['newton-cg', 'lbfgs', 'liblinear', 'sag', 'saga']\n",
    "            }"
   ]
  },
  {
   "cell_type": "code",
   "execution_count": 382,
   "metadata": {},
   "outputs": [],
   "source": [
    "# instantiate gridsearch\n",
    "grid_log = GridSearchCV(log_reg, params_dict_log, cv=5, scoring='f1', verbose=1, n_jobs=-1)"
   ]
  },
  {
   "cell_type": "code",
   "execution_count": 383,
   "metadata": {},
   "outputs": [
    {
     "name": "stdout",
     "output_type": "stream",
     "text": [
      "Fitting 5 folds for each of 25 candidates, totalling 125 fits\n"
     ]
    },
    {
     "name": "stderr",
     "output_type": "stream",
     "text": [
      "[Parallel(n_jobs=-1)]: Using backend LokyBackend with 8 concurrent workers.\n",
      "[Parallel(n_jobs=-1)]: Done  34 tasks      | elapsed:    7.5s\n",
      "[Parallel(n_jobs=-1)]: Done 125 out of 125 | elapsed:   34.0s finished\n"
     ]
    },
    {
     "data": {
      "text/plain": [
       "GridSearchCV(cv=5,\n",
       "             estimator=LogisticRegression(class_weight='balanced',\n",
       "                                          fit_intercept=False, n_jobs=-1,\n",
       "                                          random_state=1, solver='liblinear'),\n",
       "             n_jobs=-1,\n",
       "             param_grid={'C': array([ 0.1       ,  0.31622777,  1.        ,  3.16227766, 10.        ]),\n",
       "                         'solver': ['newton-cg', 'lbfgs', 'liblinear', 'sag',\n",
       "                                    'saga']},\n",
       "             scoring='f1', verbose=1)"
      ]
     },
     "execution_count": 383,
     "metadata": {},
     "output_type": "execute_result"
    }
   ],
   "source": [
    "# refit to data\n",
    "grid_log.fit(X_train, y_train)"
   ]
  },
  {
   "cell_type": "code",
   "execution_count": 384,
   "metadata": {},
   "outputs": [
    {
     "name": "stdout",
     "output_type": "stream",
     "text": [
      "0.5348177842685801\n",
      "{'C': 10.0, 'solver': 'lbfgs'}\n",
      "LogisticRegression(C=10.0, class_weight='balanced', fit_intercept=False,\n",
      "                   n_jobs=-1, random_state=1)\n"
     ]
    }
   ],
   "source": [
    "# examine the best model\n",
    "\n",
    "# Single best score achieved across all params (min_samples_split)\n",
    "print(grid_log.best_score_)\n",
    "\n",
    "# Dictionary containing the parameters (min_samples_split) used to generate that score\n",
    "print(grid_log.best_params_)\n",
    "\n",
    "# Actual model object fit with those best parameters\n",
    "# Shows default parameters that we did not specify\n",
    "print(grid_log.best_estimator_)"
   ]
  },
  {
   "cell_type": "markdown",
   "metadata": {},
   "source": [
    "Will stick with first Logistic Regression model as it has higher f1 score."
   ]
  },
  {
   "cell_type": "markdown",
   "metadata": {},
   "source": [
    "### KNN"
   ]
  },
  {
   "cell_type": "code",
   "execution_count": 236,
   "metadata": {},
   "outputs": [],
   "source": [
    "# instantiate a KNN model\n",
    "knn = KNeighborsClassifier(n_neighbors=9, n_jobs=-1)\n",
    "\n",
    "# fit the model to training\n",
    "knn.fit(X_train, y_train)\n",
    "\n",
    "\n",
    "# predict on training and test set\n",
    "y_pred_train_knn = knn.predict(X_train)\n",
    "y_pred_test_knn = knn.predict(X_test)"
   ]
  },
  {
   "cell_type": "code",
   "execution_count": 237,
   "metadata": {},
   "outputs": [
    {
     "name": "stdout",
     "output_type": "stream",
     "text": [
      "Training Precision:  0.708909004287756\n",
      "Testing Precision:  0.6563814866760168\n",
      "\n",
      "\n",
      "\n",
      "Training Recall:  0.3956394575910662\n",
      "Testing Recall:  0.36937647987371747\n",
      "\n",
      "\n",
      "\n",
      "Training Accuracy:  0.8290861680692189\n",
      "Testing Accuracy:  0.8144\n",
      "\n",
      "\n",
      "\n",
      "Training F1-Score:  0.5078498293515359\n",
      "Testing F1-Score:  0.4727272727272728\n"
     ]
    }
   ],
   "source": [
    "print('Training Precision: ', precision_score(y_train, y_pred_train_knn))\n",
    "print('Testing Precision: ', precision_score(y_test, y_pred_test_knn))\n",
    "print('\\n\\n')\n",
    "\n",
    "print('Training Recall: ', recall_score(y_train, y_pred_train_knn))\n",
    "print('Testing Recall: ', recall_score(y_test, y_pred_test_knn))\n",
    "print('\\n\\n')\n",
    "\n",
    "print('Training Accuracy: ', accuracy_score(y_train, y_pred_train_knn))\n",
    "print('Testing Accuracy: ', accuracy_score(y_test, y_pred_test_knn))\n",
    "print('\\n\\n')\n",
    "\n",
    "print('Training F1-Score: ', f1_score(y_train, y_pred_train_knn))\n",
    "print('Testing F1-Score: ', f1_score(y_test, y_pred_test_knn))"
   ]
  },
  {
   "cell_type": "code",
   "execution_count": 73,
   "metadata": {},
   "outputs": [],
   "source": [
    "# create parameter dictionary for knn\n",
    "params_dict_knn = {\n",
    "    'n_neighbors': [3,5,11,19],\n",
    "    'weights' : ['uniform', 'distance'],\n",
    "    'metric' : ['euclidean', 'manhattan']\n",
    "}"
   ]
  },
  {
   "cell_type": "code",
   "execution_count": 237,
   "metadata": {},
   "outputs": [],
   "source": [
    "# instantiate GridSearch\n",
    "grid_knn = GridSearchCV(knn, params_dict_knn, verbose=1, cv = 5, n_jobs=-1, scoring='f1')"
   ]
  },
  {
   "cell_type": "code",
   "execution_count": 238,
   "metadata": {},
   "outputs": [
    {
     "name": "stdout",
     "output_type": "stream",
     "text": [
      "Fitting 5 folds for each of 16 candidates, totalling 80 fits\n"
     ]
    },
    {
     "name": "stderr",
     "output_type": "stream",
     "text": [
      "[Parallel(n_jobs=-1)]: Using backend LokyBackend with 8 concurrent workers.\n",
      "[Parallel(n_jobs=-1)]: Done  34 tasks      | elapsed:   58.1s\n",
      "[Parallel(n_jobs=-1)]: Done  80 out of  80 | elapsed:  2.0min finished\n"
     ]
    },
    {
     "data": {
      "text/plain": [
       "GridSearchCV(cv=5, estimator=KNeighborsClassifier(n_jobs=-1, n_neighbors=9),\n",
       "             n_jobs=-1,\n",
       "             param_grid={'metric': ['euclidean', 'manhattan'],\n",
       "                         'n_neighbors': [3, 5, 11, 19],\n",
       "                         'weights': ['uniform', 'distance']},\n",
       "             scoring='f1', verbose=1)"
      ]
     },
     "execution_count": 238,
     "metadata": {},
     "output_type": "execute_result"
    }
   ],
   "source": [
    "# fit to data\n",
    "grid_knn.fit(X_train, y_train)"
   ]
  },
  {
   "cell_type": "code",
   "execution_count": 239,
   "metadata": {},
   "outputs": [
    {
     "name": "stdout",
     "output_type": "stream",
     "text": [
      "0.44314445271522224\n",
      "{'metric': 'euclidean', 'n_neighbors': 19, 'weights': 'distance'}\n",
      "KNeighborsClassifier(metric='euclidean', n_jobs=-1, n_neighbors=19,\n",
      "                     weights='distance')\n"
     ]
    }
   ],
   "source": [
    "# examine the best model\n",
    "\n",
    "# Single best score achieved across all params (min_samples_split)\n",
    "print(grid_knn.best_score_)\n",
    "\n",
    "# Dictionary containing the parameters (min_samples_split) used to generate that score\n",
    "print(grid_knn.best_params_)\n",
    "\n",
    "# Actual model object fit with those best parameters\n",
    "# Shows default parameters that we did not specify\n",
    "print(grid_knn.best_estimator_)"
   ]
  },
  {
   "cell_type": "code",
   "execution_count": 240,
   "metadata": {},
   "outputs": [],
   "source": [
    "# instantiate a KNN model\n",
    "knn_fin = KNeighborsClassifier(n_neighbors=11, n_jobs=-1, weights='distance', metric='euclidean')\n",
    "\n",
    "# fit the model to training\n",
    "knn_fin.fit(X_train, y_train)\n",
    "\n",
    "\n",
    "# predict on training and test set\n",
    "y_pred_train_knn = knn_fin.predict(X_train)\n",
    "y_pred_test_knn = knn_fin.predict(X_test)"
   ]
  },
  {
   "cell_type": "code",
   "execution_count": 241,
   "metadata": {},
   "outputs": [
    {
     "name": "stdout",
     "output_type": "stream",
     "text": [
      "Training F1-Score:  0.9990685296074517\n",
      "Testing F1-Score:  0.4535240040858018\n"
     ]
    }
   ],
   "source": [
    "print('Training F1-Score: ', f1_score(y_train, y_pred_train_knn))\n",
    "print('Testing F1-Score: ', f1_score(y_test, y_pred_test_knn))"
   ]
  },
  {
   "cell_type": "markdown",
   "metadata": {},
   "source": [
    "Decide to stick with first KNN model as higher f1 score."
   ]
  },
  {
   "cell_type": "markdown",
   "metadata": {},
   "source": [
    "### Decision Tree Classifier"
   ]
  },
  {
   "cell_type": "code",
   "execution_count": 242,
   "metadata": {},
   "outputs": [
    {
     "name": "stdout",
     "output_type": "stream",
     "text": [
      "Training F1 Score: 0.9990702616549343\n",
      "Testing F1 Score: 0.3982785602503912\n"
     ]
    }
   ],
   "source": [
    "# Create Decision Tree classifer object\n",
    "dtc = DecisionTreeClassifier(\n",
    "    class_weight='balanced')\n",
    "\n",
    "# Train Decision Tree Classifer\n",
    "dtc = dtc.fit(X_train,y_train)\n",
    "\n",
    "#predict the training set\n",
    "y_pred_train_dtc = dtc.predict(X_train)\n",
    "\n",
    "#Predict the response for test dataset\n",
    "y_pred_test_dtc = dtc.predict(X_test)\n",
    "\n",
    "# Model Accuracy, how often is the classifier correct?\n",
    "print(\"Training F1 Score:\",f1_score(y_train, y_pred_train_dtc))\n",
    "print(\"Testing F1 Score:\",f1_score(y_test, y_pred_test_dtc))"
   ]
  },
  {
   "cell_type": "code",
   "execution_count": 243,
   "metadata": {},
   "outputs": [],
   "source": [
    "# parameter dict \n",
    "params_dict_dtc = {\n",
    "    'max_depth': range(1,21,1),\n",
    "    'criterion':['gini', 'entropy'],\n",
    "    'min_samples_split': range(1,11,1)\n",
    "}"
   ]
  },
  {
   "cell_type": "code",
   "execution_count": 244,
   "metadata": {},
   "outputs": [
    {
     "name": "stdout",
     "output_type": "stream",
     "text": [
      "Fitting 10 folds for each of 400 candidates, totalling 4000 fits\n"
     ]
    },
    {
     "name": "stderr",
     "output_type": "stream",
     "text": [
      "[Parallel(n_jobs=-1)]: Using backend LokyBackend with 8 concurrent workers.\n",
      "[Parallel(n_jobs=-1)]: Done  52 tasks      | elapsed:    1.2s\n",
      "[Parallel(n_jobs=-1)]: Done 352 tasks      | elapsed:   10.0s\n",
      "[Parallel(n_jobs=-1)]: Done 770 tasks      | elapsed:   32.2s\n",
      "[Parallel(n_jobs=-1)]: Done 1120 tasks      | elapsed:   59.3s\n",
      "[Parallel(n_jobs=-1)]: Done 1570 tasks      | elapsed:  1.7min\n",
      "[Parallel(n_jobs=-1)]: Done 2120 tasks      | elapsed:  2.5min\n",
      "[Parallel(n_jobs=-1)]: Done 2770 tasks      | elapsed:  3.1min\n",
      "[Parallel(n_jobs=-1)]: Done 3520 tasks      | elapsed:  4.4min\n",
      "[Parallel(n_jobs=-1)]: Done 4000 out of 4000 | elapsed:  5.4min finished\n"
     ]
    },
    {
     "data": {
      "text/plain": [
       "GridSearchCV(cv=10, estimator=DecisionTreeClassifier(class_weight='balanced'),\n",
       "             n_jobs=-1,\n",
       "             param_grid={'criterion': ['gini', 'entropy'],\n",
       "                         'max_depth': range(1, 21),\n",
       "                         'min_samples_split': range(1, 11)},\n",
       "             scoring='f1', verbose=1)"
      ]
     },
     "execution_count": 244,
     "metadata": {},
     "output_type": "execute_result"
    }
   ],
   "source": [
    "# instantiate gridsearch\n",
    "grid_tree = GridSearchCV(dtc, params_dict_dtc, cv=10, scoring='f1', verbose=1, n_jobs=-1)\n",
    "\n",
    "# fit GridSearch to data\n",
    "grid_tree.fit(X_train, y_train)"
   ]
  },
  {
   "cell_type": "code",
   "execution_count": 245,
   "metadata": {},
   "outputs": [
    {
     "name": "stdout",
     "output_type": "stream",
     "text": [
      "0.5232494997510124\n",
      "{'criterion': 'gini', 'max_depth': 6, 'min_samples_split': 6}\n",
      "DecisionTreeClassifier(class_weight='balanced', max_depth=6,\n",
      "                       min_samples_split=6)\n"
     ]
    }
   ],
   "source": [
    "# examine the best model\n",
    "\n",
    "# Single best score achieved across all params (min_samples_split)\n",
    "print(grid_tree.best_score_)\n",
    "\n",
    "# Dictionary containing the parameters (min_samples_split) used to generate that score\n",
    "print(grid_tree.best_params_)\n",
    "\n",
    "# Actual model object fit with those best parameters\n",
    "# Shows default parameters that we did not specify\n",
    "print(grid_tree.best_estimator_)"
   ]
  },
  {
   "cell_type": "code",
   "execution_count": 238,
   "metadata": {},
   "outputs": [
    {
     "name": "stdout",
     "output_type": "stream",
     "text": [
      "Training F1 Score: 0.5433108758421559\n",
      "Testing F1 Score: 0.5161521895190238\n"
     ]
    }
   ],
   "source": [
    "# fit gridsearch DTC model\n",
    "dtc_fin = DecisionTreeClassifier(\n",
    "    criterion='gini', max_depth=6, \n",
    "    min_samples_split=6, class_weight='balanced')\n",
    "\n",
    "# Train Decision Tree Classifer\n",
    "dtc_fin = dtc_fin.fit(X_train,y_train)\n",
    "\n",
    "#predict the training set\n",
    "y_pred_train_dtc_fin = dtc_fin.predict(X_train)\n",
    "\n",
    "#Predict the response for test dataset\n",
    "y_pred_test_dtc_fin = dtc_fin.predict(X_test)\n",
    "\n",
    "# Model Accuracy, how often is the classifier correct?\n",
    "print(\"Training F1 Score:\",f1_score(y_train, y_pred_train_dtc_fin))\n",
    "print(\"Testing F1 Score:\",f1_score(y_test, y_pred_test_dtc_fin))"
   ]
  },
  {
   "cell_type": "markdown",
   "metadata": {},
   "source": [
    "### Random Forest Classifier"
   ]
  },
  {
   "cell_type": "code",
   "execution_count": 247,
   "metadata": {},
   "outputs": [],
   "source": [
    "rfc = RandomForestClassifier(\n",
    "    random_state = 1, \n",
    "    n_estimators=100, \n",
    "    max_depth=4, \n",
    "    max_features='sqrt',\n",
    "    min_samples_leaf=2,\n",
    "    criterion='entropy',\n",
    "    class_weight='balanced')"
   ]
  },
  {
   "cell_type": "code",
   "execution_count": 248,
   "metadata": {},
   "outputs": [
    {
     "data": {
      "text/plain": [
       "RandomForestClassifier(class_weight='balanced', criterion='entropy',\n",
       "                       max_depth=4, max_features='sqrt', min_samples_leaf=2,\n",
       "                       random_state=1)"
      ]
     },
     "execution_count": 248,
     "metadata": {},
     "output_type": "execute_result"
    }
   ],
   "source": [
    "rfc.fit(X_train, y_train)"
   ]
  },
  {
   "cell_type": "code",
   "execution_count": 249,
   "metadata": {},
   "outputs": [],
   "source": [
    "rfc_preds = rfc.predict(X_test)"
   ]
  },
  {
   "cell_type": "code",
   "execution_count": 250,
   "metadata": {},
   "outputs": [
    {
     "data": {
      "text/plain": [
       "0.5421686746987951"
      ]
     },
     "execution_count": 250,
     "metadata": {},
     "output_type": "execute_result"
    }
   ],
   "source": [
    "rfc_f1 = f1_score(y_test, rfc_preds)\n",
    "rfc_f1"
   ]
  },
  {
   "cell_type": "code",
   "execution_count": 107,
   "metadata": {},
   "outputs": [],
   "source": [
    "# params grid\n",
    "params_dict_for = { \n",
    "    'criterion' : ['gini', 'entropy'],\n",
    "    'max_depth': range(2,5),\n",
    "    'n_estimators': [500,700],\n",
    "    'min_samples_leaf' : range(2,4),\n",
    "    'max_features': ['auto', 5, 6, None, 0.08]\n",
    "}\n",
    "\n",
    "# forest_grid_params = {\n",
    "#     'criterion': ['gini', 'entropy'],\n",
    "#     'max_depth': range(2,5),\n",
    "#     'min_samples_leaf': range(2,10,2),\n",
    "#     'max_features' : [5, 'sqrt', 10, 15, 20, 30]\n",
    "# }"
   ]
  },
  {
   "cell_type": "code",
   "execution_count": 108,
   "metadata": {},
   "outputs": [],
   "source": [
    "# gridsearch rfc\n",
    "grid_forest = GridSearchCV(RandomForestClassifier(), params_dict_for, cv=5, scoring='f1', verbose=1, n_jobs=-1)"
   ]
  },
  {
   "cell_type": "code",
   "execution_count": 109,
   "metadata": {},
   "outputs": [
    {
     "name": "stdout",
     "output_type": "stream",
     "text": [
      "Fitting 5 folds for each of 120 candidates, totalling 600 fits\n"
     ]
    },
    {
     "name": "stderr",
     "output_type": "stream",
     "text": [
      "[Parallel(n_jobs=-1)]: Using backend LokyBackend with 8 concurrent workers.\n",
      "[Parallel(n_jobs=-1)]: Done  34 tasks      | elapsed:   33.9s\n",
      "[Parallel(n_jobs=-1)]: Done 184 tasks      | elapsed:  5.8min\n",
      "[Parallel(n_jobs=-1)]: Done 434 tasks      | elapsed: 14.1min\n",
      "[Parallel(n_jobs=-1)]: Done 600 out of 600 | elapsed: 22.4min finished\n"
     ]
    },
    {
     "data": {
      "text/plain": [
       "GridSearchCV(cv=5, estimator=RandomForestClassifier(), n_jobs=-1,\n",
       "             param_grid={'criterion': ['gini', 'entropy'],\n",
       "                         'max_depth': range(2, 5),\n",
       "                         'max_features': ['auto', 5, 6, None, 0.08],\n",
       "                         'min_samples_leaf': range(2, 4),\n",
       "                         'n_estimators': [500, 700]},\n",
       "             scoring='f1', verbose=1)"
      ]
     },
     "execution_count": 109,
     "metadata": {},
     "output_type": "execute_result"
    }
   ],
   "source": [
    "grid_forest.fit(X_train, y_train)"
   ]
  },
  {
   "cell_type": "code",
   "execution_count": 110,
   "metadata": {},
   "outputs": [
    {
     "name": "stdout",
     "output_type": "stream",
     "text": [
      "0.4240496564427083\n",
      "{'criterion': 'gini', 'max_depth': 3, 'max_features': None, 'min_samples_leaf': 2, 'n_estimators': 700}\n",
      "RandomForestClassifier(max_depth=3, max_features=None, min_samples_leaf=2,\n",
      "                       n_estimators=700)\n"
     ]
    }
   ],
   "source": [
    "# Single best score achieved across all params (min_samples_split)\n",
    "print(grid_forest.best_score_)\n",
    "\n",
    "# Dictionary containing the parameters (min_samples_split) used to generate that score\n",
    "print(grid_forest.best_params_)\n",
    "\n",
    "# Actual model object fit with those best parameters\n",
    "# Shows default parameters that we did not specify\n",
    "print(grid_forest.best_estimator_)\n",
    "#Identify the best score during fitting with cross-validation\n"
   ]
  },
  {
   "cell_type": "code",
   "execution_count": 146,
   "metadata": {},
   "outputs": [],
   "source": [
    "rfc_fin = RandomForestClassifier(\n",
    "    random_state = 1, \n",
    "    n_estimators=700, \n",
    "    max_depth=3, \n",
    "    max_features=None,\n",
    "    min_samples_leaf=2,\n",
    "    criterion='gini',\n",
    "    class_weight='balanced')"
   ]
  },
  {
   "cell_type": "code",
   "execution_count": 147,
   "metadata": {},
   "outputs": [
    {
     "data": {
      "text/plain": [
       "RandomForestClassifier(class_weight='balanced', max_depth=3, max_features=None,\n",
       "                       min_samples_leaf=2, n_estimators=700, random_state=1)"
      ]
     },
     "execution_count": 147,
     "metadata": {},
     "output_type": "execute_result"
    }
   ],
   "source": [
    "rfc_fin.fit(X_train, y_train)"
   ]
  },
  {
   "cell_type": "code",
   "execution_count": 148,
   "metadata": {},
   "outputs": [],
   "source": [
    "rfc_preds = rfc.predict(X_test)"
   ]
  },
  {
   "cell_type": "code",
   "execution_count": 149,
   "metadata": {},
   "outputs": [
    {
     "data": {
      "text/plain": [
       "0.5421686746987951"
      ]
     },
     "execution_count": 149,
     "metadata": {},
     "output_type": "execute_result"
    }
   ],
   "source": [
    "rfc_f1 = f1_score(y_test, rfc_preds)\n",
    "rfc_f1"
   ]
  },
  {
   "cell_type": "markdown",
   "metadata": {},
   "source": [
    "### Combine models using Voting Classifier"
   ]
  },
  {
   "cell_type": "code",
   "execution_count": 239,
   "metadata": {},
   "outputs": [
    {
     "name": "stdout",
     "output_type": "stream",
     "text": [
      "0.5420184961801368\n"
     ]
    }
   ],
   "source": [
    "voting_clf = VotingClassifier(\n",
    "                estimators=[('logreg', log_reg), ('knn', knn), ('decisiontree', dtc_fin)], \n",
    "                voting='hard')\n",
    "\n",
    "voting_clf.fit(X_train, y_train)\n",
    "\n",
    "vc_preds = voting_clf.predict(X_test)\n",
    "\n",
    "vc_f1 = f1_score(y_test, vc_preds)\n",
    "\n",
    "print(vc_f1)"
   ]
  },
  {
   "cell_type": "markdown",
   "metadata": {},
   "source": [
    "Random Forest bought voting classifier down, therefore sticking with a Logistic Regression, KNN and DTC mix."
   ]
  },
  {
   "cell_type": "markdown",
   "metadata": {},
   "source": [
    "## Final Model"
   ]
  },
  {
   "cell_type": "markdown",
   "metadata": {},
   "source": [
    "### Refit final model to the entire data set"
   ]
  },
  {
   "cell_type": "code",
   "execution_count": 462,
   "metadata": {},
   "outputs": [
    {
     "name": "stdout",
     "output_type": "stream",
     "text": [
      "<class 'pandas.core.frame.DataFrame'>\n",
      "Index: 22499 entries, 28835 to 7624\n",
      "Data columns (total 67 columns):\n",
      "limit_bal                  22499 non-null float64\n",
      "age                        22499 non-null int64\n",
      "bill_amt1                  22499 non-null float64\n",
      "bill_amt2                  22499 non-null float64\n",
      "bill_amt4                  22499 non-null float64\n",
      "bill_amt5                  22499 non-null float64\n",
      "bill_amt6                  22499 non-null float64\n",
      "pay_amt1                   22499 non-null float64\n",
      "pay_amt2                   22499 non-null float64\n",
      "pay_amt3                   22499 non-null float64\n",
      "pay_amt6                   22499 non-null float64\n",
      "avg_income_age             22499 non-null object\n",
      "avg_income_edu             22499 non-null object\n",
      "pay_sum                    22499 non-null float64\n",
      "bill_diff_pay              22499 non-null float64\n",
      "bill_diff_pay_min_limit    22499 non-null float64\n",
      "avg_income                 22499 non-null float64\n",
      "education_1                22499 non-null uint8\n",
      "education_2                22499 non-null uint8\n",
      "education_3                22499 non-null uint8\n",
      "marriage_1                 22499 non-null uint8\n",
      "marriage_2                 22499 non-null uint8\n",
      "marriage_3                 22499 non-null uint8\n",
      "pay_0_-2                   22499 non-null uint8\n",
      "pay_0_0                    22499 non-null uint8\n",
      "pay_0_1                    22499 non-null uint8\n",
      "pay_0_2                    22499 non-null uint8\n",
      "pay_0_3                    22499 non-null uint8\n",
      "pay_0_4                    22499 non-null uint8\n",
      "pay_0_5                    22499 non-null uint8\n",
      "pay_0_6                    22499 non-null uint8\n",
      "pay_0_7                    22499 non-null uint8\n",
      "pay_0_8                    22499 non-null uint8\n",
      "pay_2_-2                   22499 non-null uint8\n",
      "pay_2_0                    22499 non-null uint8\n",
      "pay_2_1                    22499 non-null uint8\n",
      "pay_2_2                    22499 non-null uint8\n",
      "pay_2_4                    22499 non-null uint8\n",
      "pay_2_5                    22499 non-null uint8\n",
      "pay_2_6                    22499 non-null uint8\n",
      "pay_3_-2                   22499 non-null uint8\n",
      "pay_3_0                    22499 non-null uint8\n",
      "pay_3_1                    22499 non-null uint8\n",
      "pay_3_2                    22499 non-null uint8\n",
      "pay_3_3                    22499 non-null uint8\n",
      "pay_3_5                    22499 non-null uint8\n",
      "pay_3_6                    22499 non-null uint8\n",
      "pay_3_8                    22499 non-null uint8\n",
      "pay_4_-2                   22499 non-null uint8\n",
      "pay_4_1                    22499 non-null uint8\n",
      "pay_4_2                    22499 non-null uint8\n",
      "pay_4_5                    22499 non-null uint8\n",
      "pay_4_6                    22499 non-null uint8\n",
      "pay_4_7                    22499 non-null uint8\n",
      "pay_4_8                    22499 non-null uint8\n",
      "pay_5_0                    22499 non-null uint8\n",
      "pay_5_2                    22499 non-null uint8\n",
      "pay_5_3                    22499 non-null uint8\n",
      "pay_5_4                    22499 non-null uint8\n",
      "pay_5_6                    22499 non-null uint8\n",
      "pay_5_7                    22499 non-null uint8\n",
      "pay_6_0                    22499 non-null uint8\n",
      "pay_6_2                    22499 non-null uint8\n",
      "pay_6_3                    22499 non-null uint8\n",
      "pay_6_4                    22499 non-null uint8\n",
      "pay_6_7                    22499 non-null uint8\n",
      "pay_6_8                    22499 non-null uint8\n",
      "dtypes: float64(14), int64(1), object(2), uint8(50)\n",
      "memory usage: 4.8+ MB\n"
     ]
    }
   ],
   "source": [
    "X.info()"
   ]
  },
  {
   "cell_type": "code",
   "execution_count": 463,
   "metadata": {},
   "outputs": [
    {
     "data": {
      "text/plain": [
       "LogisticRegression(class_weight='balanced', fit_intercept=False, n_jobs=-1,\n",
       "                   random_state=1, solver='liblinear')"
      ]
     },
     "execution_count": 463,
     "metadata": {},
     "output_type": "execute_result"
    }
   ],
   "source": [
    "log_reg.fit(X, y)"
   ]
  },
  {
   "cell_type": "code",
   "execution_count": 464,
   "metadata": {},
   "outputs": [
    {
     "data": {
      "text/plain": [
       "StandardScaler()"
      ]
     },
     "execution_count": 464,
     "metadata": {},
     "output_type": "execute_result"
    }
   ],
   "source": [
    "# scale data to entire dataset\n",
    "scaler.fit(X)"
   ]
  },
  {
   "cell_type": "code",
   "execution_count": 465,
   "metadata": {},
   "outputs": [],
   "source": [
    "# export scalar for holdout set\n",
    "pickle_out = open('lrscaler.pickle', 'wb')\n",
    "pickle.dump(scaler, pickle_out)\n",
    "pickle_out.close()"
   ]
  },
  {
   "cell_type": "code",
   "execution_count": 466,
   "metadata": {},
   "outputs": [],
   "source": [
    "# export final model for holdout set\n",
    "pickle_out = open('lrmodel.pickle', 'wb')\n",
    "pickle.dump(log_reg, pickle_out)\n",
    "pickle_out.close()"
   ]
  },
  {
   "cell_type": "code",
   "execution_count": null,
   "metadata": {},
   "outputs": [],
   "source": []
  }
 ],
 "metadata": {
  "kernelspec": {
   "display_name": "Python 3",
   "language": "python",
   "name": "python3"
  },
  "language_info": {
   "codemirror_mode": {
    "name": "ipython",
    "version": 3
   },
   "file_extension": ".py",
   "mimetype": "text/x-python",
   "name": "python",
   "nbconvert_exporter": "python",
   "pygments_lexer": "ipython3",
   "version": "3.6.9"
  },
  "toc": {
   "base_numbering": 1,
   "nav_menu": {},
   "number_sections": true,
   "sideBar": true,
   "skip_h1_title": false,
   "title_cell": "Table of Contents",
   "title_sidebar": "Contents",
   "toc_cell": false,
   "toc_position": {},
   "toc_section_display": true,
   "toc_window_display": false
  }
 },
 "nbformat": 4,
 "nbformat_minor": 2
}
