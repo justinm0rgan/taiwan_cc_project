{
 "cells": [
  {
   "cell_type": "markdown",
   "metadata": {},
   "source": [
    "## Holdout Notebook"
   ]
  },
  {
   "cell_type": "code",
   "execution_count": 1,
   "metadata": {},
   "outputs": [],
   "source": [
    "# import libraries\n",
    "import pickle\n",
    "import pandas as pd\n",
    "import numpy as np\n",
    "import warnings\n",
    "warnings.filterwarnings('ignore')\n"
   ]
  },
  {
   "cell_type": "code",
   "execution_count": 2,
   "metadata": {},
   "outputs": [],
   "source": [
    "# final_scaler\n",
    "final_scaler = pickle.load(open('lrscaler.pickle', 'rb'))\n",
    "\n",
    "# final model\n",
    "final_model = pickle.load(open('lrmodel.pickle', 'rb'))\n"
   ]
  },
  {
   "cell_type": "code",
   "execution_count": 3,
   "metadata": {},
   "outputs": [],
   "source": [
    "# import data\n",
    "df = pd.read_csv('./data/holdout_data.csv' , index_col=0)\n"
   ]
  },
  {
   "cell_type": "code",
   "execution_count": 4,
   "metadata": {},
   "outputs": [],
   "source": [
    "# add column that was dummied that is NOT in holdout set\n",
    "add_col = ['pay_2_8', 'pay_3_1', 'pay_4_1', 'pay_4_6', 'pay_4_8', 'pay_5_8', 'pay_6_8','pay_2_-2', 'pay_3_-2', 'pay_0_-2', 'pay_4_-2']\n",
    "for col in add_col:\n",
    "    df[col] = 0\n",
    "    "
   ]
  },
  {
   "cell_type": "code",
   "execution_count": 5,
   "metadata": {},
   "outputs": [],
   "source": [
    "# rename column headers\n",
    "rename_dict = {'X1':'limit_bal', 'X2':'sex', 'X3':'education', 'X4':'marriage', 'X5':'age', 'X6':'pay_0', \n",
    "            'X7':'pay_2','X8':'pay_3', 'X9':'pay_4', 'X10':'pay_5', 'X11':'pay_6', 'X12':'bill_amt1', \n",
    "            'X13':'bill_amt2','X14':'bill_amt3', 'X15':'bill_amt4', 'X16':'bill_amt5', 'X17':'bill_amt6', \n",
    "            'X18':'pay_amt1','X19':'pay_amt2', 'X20':'pay_amt3', 'X21':'pay_amt4', 'X22':'pay_amt5', \n",
    "            'X23':'pay_amt6'}\n",
    "\n",
    "df = df.rename(columns=rename_dict)\n"
   ]
  },
  {
   "cell_type": "code",
   "execution_count": 6,
   "metadata": {},
   "outputs": [],
   "source": [
    "# create list of columns that will be converted to numeric\n",
    "cols = ['limit_bal','age','bill_amt1', 'bill_amt2', 'bill_amt3',\n",
    "        'bill_amt4', 'bill_amt5', 'bill_amt6', 'pay_amt1', 'pay_amt2',\n",
    "        'pay_amt3', 'pay_amt4', 'pay_amt5', 'pay_amt6']\n",
    "\n",
    "# use .apply method to convert cols to numeric\n",
    "df[cols] = df[cols].apply(pd.to_numeric, errors='coerce')\n"
   ]
  },
  {
   "cell_type": "code",
   "execution_count": 7,
   "metadata": {},
   "outputs": [],
   "source": [
    "# list columns that have large variances\n",
    "outlier_cols = ['limit_bal','bill_amt1', 'bill_amt2', 'bill_amt3',\n",
    "        'bill_amt4', 'bill_amt5', 'bill_amt6', 'pay_amt1', 'pay_amt2',\n",
    "        'pay_amt3', 'pay_amt4', 'pay_amt5', 'pay_amt6']\n",
    "\n",
    "# loop over columns and anything above or under 6 std coerce them to 6 std respectively\n",
    "for feat in outlier_cols:\n",
    "    feat_mean = df[feat].mean()\n",
    "    feat_std = df[feat].std()\n",
    "    above_6std = feat_mean + 6 * feat_std\n",
    "    below_6std = feat_mean - 6 * feat_std\n",
    "    df[feat] = \\\n",
    "        np.where(df[feat] > above_6std, feat_mean + 6 * feat_std,\n",
    "                np.where(df[feat] < below_6std, feat_mean - 6 * feat_std, df[feat]))\n",
    "    "
   ]
  },
  {
   "cell_type": "code",
   "execution_count": 8,
   "metadata": {},
   "outputs": [],
   "source": [
    "# convert objects to category dtype\n",
    "objcat = ['sex', 'education', 'marriage', 'pay_0', 'pay_2', 'pay_3', 'pay_4',\n",
    "       'pay_5', 'pay_6']\n",
    "\n",
    "for colname in objcat:\n",
    "    df[colname] = df[colname].astype('category')\n",
    "    "
   ]
  },
  {
   "cell_type": "code",
   "execution_count": 9,
   "metadata": {},
   "outputs": [],
   "source": [
    "# set options to display floats with two decimal place\n",
    "pd.set_option('display.float_format', '{:.2f}'.format)\n"
   ]
  },
  {
   "cell_type": "code",
   "execution_count": 10,
   "metadata": {},
   "outputs": [],
   "source": [
    "# read in income demographical dataset\n",
    "df2 = pd.read_excel('./data/income_sex_age_edu.xls', \n",
    "                    sheet_name='125,126', \n",
    "                    usecols='C,H', \n",
    "                    header=7, \n",
    "                    skiprows=2, \n",
    "                    nrows=20)\n"
   ]
  },
  {
   "cell_type": "code",
   "execution_count": 11,
   "metadata": {},
   "outputs": [],
   "source": [
    "# create new df without na rows\n",
    "df2 = df2[df2['income'].notna()]\n"
   ]
  },
  {
   "cell_type": "code",
   "execution_count": 12,
   "metadata": {},
   "outputs": [],
   "source": [
    "# transpose income df\n",
    "df2 = df2.T\n"
   ]
  },
  {
   "cell_type": "code",
   "execution_count": 13,
   "metadata": {},
   "outputs": [],
   "source": [
    "# assign variable row as header\n",
    "df2.columns = df2.iloc[1]\n"
   ]
  },
  {
   "cell_type": "code",
   "execution_count": 14,
   "metadata": {},
   "outputs": [],
   "source": [
    "# delete row 1\n",
    "df2.drop(df2.index[1], axis=0, inplace=True)\n"
   ]
  },
  {
   "cell_type": "code",
   "execution_count": 15,
   "metadata": {},
   "outputs": [],
   "source": [
    "# strip leading or trailing spaces in column headers\n",
    "df2.columns = df2.columns.str.strip()\n"
   ]
  },
  {
   "cell_type": "code",
   "execution_count": 16,
   "metadata": {},
   "outputs": [],
   "source": [
    "# rename columns\n",
    "df2.rename(columns={'All income recipients': 'avg_income_all', 'Male':'male', 'Female':'female', 'Under 30 years':'under_30',\n",
    "       '30 ～ 34 years':'30_34yo', '35 ～ 39 years':'35_39yo', '40 ～ 44 years':'40_44yo','45 ～ 54 years':'45_54yo', \n",
    "       '55 ～ 64 years':'55_64yo', '65 years and over':'65plus','Primary school and below':'prim_school_below', \n",
    "       'Junior middle (vocational)':'jun_mid_voc','High school':'hs', 'Senior vocational school':'sen_voc', \n",
    "       'Junior college':'jun_coll','College and above':'coll_above'}, inplace=True)"
   ]
  },
  {
   "cell_type": "code",
   "execution_count": 17,
   "metadata": {},
   "outputs": [],
   "source": [
    "# merge avg income sex\n",
    "df['avg_income_sex'] = \\\n",
    "    np.where(df['sex'] == '1', df2['male'].values, \n",
    "             np.where(df['sex'] == '2', int(df2['female'].values), df['sex']))\n"
   ]
  },
  {
   "cell_type": "code",
   "execution_count": 18,
   "metadata": {},
   "outputs": [],
   "source": [
    "# merge avg income age\n",
    "age_cols = ['under_30', '30_34yo', '35_39yo','40_44yo', '45_54yo', '55_64yo', '65plus']\n",
    "\n",
    "# np.select conditions\n",
    "age_conditions = [\n",
    "    (df['age'] < 30),\n",
    "    (df['age'] >= 30) & (df['age'] <= 34),\n",
    "    (df['age'] >= 35) & (df['age'] <= 39),\n",
    "    (df['age'] >= 40) & (df['age'] <= 44),\n",
    "    (df['age'] >= 45) & (df['age'] <= 54),\n",
    "    (df['age'] >= 55) & (df['age'] <= 64),\n",
    "    (df['age'] >= 65)\n",
    "]\n",
    "\n",
    "#np.select values\n",
    "age_values = [\n",
    "    df2['under_30'].values, \n",
    "    df2['30_34yo'].values, \n",
    "    df2['35_39yo'].values, \n",
    "    df2['40_44yo'].values, \n",
    "    df2['45_54yo'].values, \n",
    "    df2['55_64yo'].values, \n",
    "    df2['65plus'].values\n",
    "]\n",
    "\n",
    "# loop over age_cols to populate new column with np.select\n",
    "for age in age_cols:\n",
    "    df['avg_income_age'] = np.select(age_conditions, age_values)\n",
    "    "
   ]
  },
  {
   "cell_type": "code",
   "execution_count": 19,
   "metadata": {},
   "outputs": [],
   "source": [
    "# merge education columns \n",
    "edu_cols = ['prim_school_below','jun_mid_voc', 'hs', 'sen_voc', 'jun_coll', 'coll_above']\n",
    "\n",
    "# conditions\n",
    "edu_conditions =[\n",
    "    (df['education'] == '0'),\n",
    "    (df['education'] == '1'),\n",
    "    (df['education'] == '2'),\n",
    "    (df['education'] == '3'),\n",
    "    (df['education'] == '4'),\n",
    "    (df['education'] == '5'),\n",
    "    (df['education'] == '6')\n",
    "]\n",
    "\n",
    "# values\n",
    "edu_values = [\n",
    "    df2[['sen_voc', 'jun_mid_voc', 'prim_school_below']].values.mean(), \n",
    "    df2['coll_above'].values,\n",
    "    df2['jun_coll'].values,\n",
    "    df2['hs'].values,\n",
    "    df2[['sen_voc', 'jun_mid_voc', 'prim_school_below']].values.mean(),\n",
    "    df2[['sen_voc', 'jun_mid_voc', 'prim_school_below']].values.mean(),\n",
    "    df2[['sen_voc', 'jun_mid_voc', 'prim_school_below']].values.mean() \n",
    "]\n",
    "    \n",
    "for edu in edu_cols:\n",
    "    df['avg_income_edu'] = np.select(edu_conditions, edu_values)\n",
    "    "
   ]
  },
  {
   "cell_type": "code",
   "execution_count": 20,
   "metadata": {},
   "outputs": [],
   "source": [
    "# create bill sum column\n",
    "\n",
    "df['bill_sum'] = df[['bill_amt1', 'bill_amt2','bill_amt3', 'bill_amt4', 'bill_amt5', 'bill_amt6']].sum(axis=1)\n"
   ]
  },
  {
   "cell_type": "code",
   "execution_count": 21,
   "metadata": {},
   "outputs": [],
   "source": [
    "# create pay sum column\n",
    "\n",
    "df['pay_sum'] = df[['pay_amt1','pay_amt2', 'pay_amt3', 'pay_amt4', 'pay_amt5', 'pay_amt6']].sum(axis=1)\n"
   ]
  },
  {
   "cell_type": "code",
   "execution_count": 22,
   "metadata": {},
   "outputs": [],
   "source": [
    "# subtract pay sum vs bill sum\n",
    "\n",
    "df['bill_diff_pay'] = df['bill_sum'] - df['pay_sum']\n"
   ]
  },
  {
   "cell_type": "code",
   "execution_count": 23,
   "metadata": {},
   "outputs": [],
   "source": [
    "# create a column that takes bill sum minus pay sum and subtracts from limit to create an available credit col\n",
    "\n",
    "df['bill_diff_pay_min_limit'] = df['limit_bal'] - df['bill_diff_pay']\n"
   ]
  },
  {
   "cell_type": "code",
   "execution_count": 24,
   "metadata": {},
   "outputs": [],
   "source": [
    "# create a general avg income column by avg together all the other avg income cols\n",
    "\n",
    "df['avg_income'] = df[['avg_income_sex', 'avg_income_age','avg_income_edu']].mean(axis=1)\n"
   ]
  },
  {
   "cell_type": "code",
   "execution_count": 25,
   "metadata": {},
   "outputs": [],
   "source": [
    "# create a debt to income ratio column\n",
    "# divide avg income by 2 because its yearly, and sum of bills is for 6 month period\n",
    "\n",
    "df['debt_to_income'] = df['bill_sum'] / (df['avg_income'] / 2)\n"
   ]
  },
  {
   "cell_type": "code",
   "execution_count": 26,
   "metadata": {},
   "outputs": [],
   "source": [
    "# create debt to income ratio over 75% percentile\n",
    "\n",
    "df['dti_75'] = np.where(df['debt_to_income'] > 1.29, 1, 0)\n"
   ]
  },
  {
   "cell_type": "code",
   "execution_count": 27,
   "metadata": {},
   "outputs": [],
   "source": [
    "# create column that is a bool for married with university degree\n",
    "\n",
    "df['married_univ'] = np.where((df['marriage'] == '1') & (df['education'] == '2'),1,0)\n"
   ]
  },
  {
   "cell_type": "code",
   "execution_count": 28,
   "metadata": {},
   "outputs": [],
   "source": [
    "# dummy out categorical variables\n",
    "cat_list = ['sex', 'education', 'marriage', 'pay_0', 'pay_2', 'pay_3', 'pay_4','pay_5', 'pay_6']\n",
    "\n",
    "dummies = pd.get_dummies(df[cat_list], prefix=cat_list, drop_first=True)\n",
    "\n",
    "df = df.drop(cat_list, axis=1)\n",
    "\n",
    "df = pd.concat([df, dummies], axis=1)\n"
   ]
  },
  {
   "cell_type": "code",
   "execution_count": 29,
   "metadata": {},
   "outputs": [],
   "source": [
    "# select features for final df\n",
    "X = df[['limit_bal', 'age', 'bill_amt1', 'bill_amt2', 'bill_amt4', 'bill_amt5',\n",
    "       'bill_amt6', 'pay_amt1', 'pay_amt2', 'pay_amt3', 'pay_amt6',\n",
    "       'avg_income_age', 'avg_income_edu', 'pay_sum', 'bill_diff_pay',\n",
    "       'bill_diff_pay_min_limit', 'avg_income', 'education_1', 'education_2',\n",
    "       'education_3', 'marriage_1', 'marriage_2', 'marriage_3', 'pay_0_-2',\n",
    "       'pay_0_0', 'pay_0_1', 'pay_0_2', 'pay_0_3', 'pay_0_4', 'pay_0_5',\n",
    "       'pay_0_6', 'pay_0_7', 'pay_0_8', 'pay_2_-2', 'pay_2_0', 'pay_2_1',\n",
    "       'pay_2_2', 'pay_2_4', 'pay_2_5', 'pay_2_6', 'pay_3_-2', 'pay_3_0',\n",
    "       'pay_3_1', 'pay_3_2', 'pay_3_3', 'pay_3_5', 'pay_3_6', 'pay_3_8',\n",
    "       'pay_4_-2', 'pay_4_1', 'pay_4_2', 'pay_4_5', 'pay_4_6', 'pay_4_7',\n",
    "       'pay_4_8', 'pay_5_0', 'pay_5_2', 'pay_5_3', 'pay_5_4', 'pay_5_6',\n",
    "       'pay_5_7', 'pay_6_0', 'pay_6_2', 'pay_6_3', 'pay_6_4', 'pay_6_7',\n",
    "       'pay_6_8']]"
   ]
  },
  {
   "cell_type": "code",
   "execution_count": 30,
   "metadata": {},
   "outputs": [
    {
     "name": "stdout",
     "output_type": "stream",
     "text": [
      "<class 'pandas.core.frame.DataFrame'>\n",
      "Int64Index: 7501 entries, 5501 to 10111\n",
      "Data columns (total 67 columns):\n",
      "limit_bal                  7501 non-null float64\n",
      "age                        7501 non-null int64\n",
      "bill_amt1                  7501 non-null float64\n",
      "bill_amt2                  7501 non-null float64\n",
      "bill_amt4                  7501 non-null float64\n",
      "bill_amt5                  7501 non-null float64\n",
      "bill_amt6                  7501 non-null float64\n",
      "pay_amt1                   7501 non-null float64\n",
      "pay_amt2                   7501 non-null float64\n",
      "pay_amt3                   7501 non-null float64\n",
      "pay_amt6                   7501 non-null float64\n",
      "avg_income_age             7501 non-null object\n",
      "avg_income_edu             7501 non-null object\n",
      "pay_sum                    7501 non-null float64\n",
      "bill_diff_pay              7501 non-null float64\n",
      "bill_diff_pay_min_limit    7501 non-null float64\n",
      "avg_income                 7501 non-null float64\n",
      "education_1                7501 non-null uint8\n",
      "education_2                7501 non-null uint8\n",
      "education_3                7501 non-null uint8\n",
      "marriage_1                 7501 non-null uint8\n",
      "marriage_2                 7501 non-null uint8\n",
      "marriage_3                 7501 non-null uint8\n",
      "pay_0_-2                   7501 non-null int64\n",
      "pay_0_0                    7501 non-null uint8\n",
      "pay_0_1                    7501 non-null uint8\n",
      "pay_0_2                    7501 non-null uint8\n",
      "pay_0_3                    7501 non-null uint8\n",
      "pay_0_4                    7501 non-null uint8\n",
      "pay_0_5                    7501 non-null uint8\n",
      "pay_0_6                    7501 non-null uint8\n",
      "pay_0_7                    7501 non-null uint8\n",
      "pay_0_8                    7501 non-null uint8\n",
      "pay_2_-2                   7501 non-null int64\n",
      "pay_2_0                    7501 non-null uint8\n",
      "pay_2_1                    7501 non-null uint8\n",
      "pay_2_2                    7501 non-null uint8\n",
      "pay_2_4                    7501 non-null uint8\n",
      "pay_2_5                    7501 non-null uint8\n",
      "pay_2_6                    7501 non-null uint8\n",
      "pay_3_-2                   7501 non-null int64\n",
      "pay_3_0                    7501 non-null uint8\n",
      "pay_3_1                    7501 non-null int64\n",
      "pay_3_2                    7501 non-null uint8\n",
      "pay_3_3                    7501 non-null uint8\n",
      "pay_3_5                    7501 non-null uint8\n",
      "pay_3_6                    7501 non-null uint8\n",
      "pay_3_8                    7501 non-null uint8\n",
      "pay_4_-2                   7501 non-null int64\n",
      "pay_4_1                    7501 non-null int64\n",
      "pay_4_2                    7501 non-null uint8\n",
      "pay_4_5                    7501 non-null uint8\n",
      "pay_4_6                    7501 non-null int64\n",
      "pay_4_7                    7501 non-null uint8\n",
      "pay_4_8                    7501 non-null int64\n",
      "pay_5_0                    7501 non-null uint8\n",
      "pay_5_2                    7501 non-null uint8\n",
      "pay_5_3                    7501 non-null uint8\n",
      "pay_5_4                    7501 non-null uint8\n",
      "pay_5_6                    7501 non-null uint8\n",
      "pay_5_7                    7501 non-null uint8\n",
      "pay_6_0                    7501 non-null uint8\n",
      "pay_6_2                    7501 non-null uint8\n",
      "pay_6_3                    7501 non-null uint8\n",
      "pay_6_4                    7501 non-null uint8\n",
      "pay_6_7                    7501 non-null uint8\n",
      "pay_6_8                    7501 non-null int64\n",
      "dtypes: float64(14), int64(10), object(2), uint8(41)\n",
      "memory usage: 1.8+ MB\n"
     ]
    }
   ],
   "source": [
    "X.info()"
   ]
  },
  {
   "cell_type": "code",
   "execution_count": 31,
   "metadata": {},
   "outputs": [],
   "source": [
    "# scale \n",
    "scaled_df = final_scaler.transform(X)\n"
   ]
  },
  {
   "cell_type": "code",
   "execution_count": 32,
   "metadata": {},
   "outputs": [],
   "source": [
    "# predict on holdout data\n",
    "final_answers = final_model.predict(scaled_df)\n"
   ]
  },
  {
   "cell_type": "code",
   "execution_count": 33,
   "metadata": {},
   "outputs": [],
   "source": [
    "final_answers_df = pd.DataFrame(final_answers, columns=['holdout_pred'])\n"
   ]
  },
  {
   "cell_type": "code",
   "execution_count": 34,
   "metadata": {},
   "outputs": [
    {
     "data": {
      "text/plain": [
       "0    4678\n",
       "1    2823\n",
       "Name: holdout_pred, dtype: int64"
      ]
     },
     "execution_count": 34,
     "metadata": {},
     "output_type": "execute_result"
    }
   ],
   "source": [
    "final_answers_df['holdout_pred'].value_counts(\n",
    ")"
   ]
  },
  {
   "cell_type": "code",
   "execution_count": 35,
   "metadata": {},
   "outputs": [],
   "source": [
    "# export to csv\n",
    "final_answers_df.to_csv('./data/preds_justin_williams.csv')\n"
   ]
  },
  {
   "cell_type": "code",
   "execution_count": null,
   "metadata": {},
   "outputs": [],
   "source": []
  }
 ],
 "metadata": {
  "kernelspec": {
   "display_name": "Python 3",
   "language": "python",
   "name": "python3"
  },
  "language_info": {
   "codemirror_mode": {
    "name": "ipython",
    "version": 3
   },
   "file_extension": ".py",
   "mimetype": "text/x-python",
   "name": "python",
   "nbconvert_exporter": "python",
   "pygments_lexer": "ipython3",
   "version": "3.6.9"
  }
 },
 "nbformat": 4,
 "nbformat_minor": 4
}
